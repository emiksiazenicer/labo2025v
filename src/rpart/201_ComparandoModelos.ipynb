{
  "nbformat": 4,
  "nbformat_minor": 0,
  "metadata": {
    "colab": {
      "provenance": [],
      "include_colab_link": true
    },
    "kernelspec": {
      "name": "ir",
      "display_name": "R"
    },
    "language_info": {
      "name": "R"
    }
  },
  "cells": [
    {
      "cell_type": "markdown",
      "metadata": {
        "id": "view-in-github",
        "colab_type": "text"
      },
      "source": [
        "<a href=\"https://colab.research.google.com/github/emiksiazenicer/labo2025v/blob/main/src/rpart/201_ComparandoModelos.ipynb\" target=\"_parent\"><img src=\"https://colab.research.google.com/assets/colab-badge.svg\" alt=\"Open In Colab\"/></a>"
      ]
    },
    {
      "cell_type": "markdown",
      "source": [
        "# Comparando Modelos"
      ],
      "metadata": {
        "id": "5DrvzQ9BsXmX"
      }
    },
    {
      "cell_type": "markdown",
      "source": [
        "Estamos en la  Clase 02\n",
        "<br> El objetivo de la materia es lograr la mejor predicción para nuestro probleama, para lo que se probarán pipelines con decenas de alternativas, será indispensable comparar varios modelos predictivos entre sí y decidir cual es el mejor\n",
        "<br> La tarea no es tan sencilla"
      ],
      "metadata": {
        "id": "Y2U9lu16sgta"
      }
    },
    {
      "cell_type": "markdown",
      "source": [
        "## Seteo del ambiente en Google Colab"
      ],
      "metadata": {
        "id": "kmLygy1TYPfg"
      }
    },
    {
      "cell_type": "markdown",
      "source": [
        "Esta parte se debe correr con el runtime en Python3\n",
        "<br>Ir al menu, Runtime -> Change Runtime Tipe -> Runtime type ->  **Python 3**"
      ],
      "metadata": {
        "id": "OikOm5K2YU3X"
      }
    },
    {
      "cell_type": "markdown",
      "source": [
        "Conectar la virtual machine donde esta corriendo Google Colab con el  Google Drive, para poder tener persistencia de archivos"
      ],
      "metadata": {
        "id": "4fmV5LyZdFyI"
      }
    },
    {
      "cell_type": "code",
      "source": [
        "# primero establecer el Runtime de Python 3\n",
        "from google.colab import drive\n",
        "drive.mount('/content/.drive')"
      ],
      "metadata": {
        "id": "ilEZ-bE2VybW",
        "outputId": "17d2ad90-d4c9-471b-db3c-57ddbab9a2f8",
        "colab": {
          "base_uri": "https://localhost:8080/"
        }
      },
      "execution_count": 1,
      "outputs": [
        {
          "output_type": "stream",
          "name": "stdout",
          "text": [
            "Mounted at /content/.drive\n"
          ]
        }
      ]
    },
    {
      "cell_type": "markdown",
      "source": [
        "Para correr la siguiente celda es fundamental en Arranque en Frio haber copiado el archivo kaggle.json al Google Drive, en la carpeta indicada en el instructivo\n",
        "\n",
        "<br>los siguientes comando estan en shell script de Linux\n",
        "*   Crear las carpetas en el Google Drive\n",
        "*   \"instalar\" el archivo kaggle.json desde el Google Drive a la virtual machine para que pueda ser utilizado por la libreria  kaggle de Python\n",
        "*   Bajar el  **dataset_pequeno**  al  Google Drive  y tambien al disco local de la virtual machine que esta corriendo Google Colab\n",
        "\n"
      ],
      "metadata": {
        "id": "ilaKtqWldeWg"
      }
    },
    {
      "cell_type": "code",
      "source": [
        "%%shell\n",
        "\n",
        "mkdir -p \"/content/.drive/My Drive/labo1\"\n",
        "mkdir -p \"/content/buckets\"\n",
        "ln -s \"/content/.drive/My Drive/labo1\" /content/buckets/b1\n",
        "\n",
        "mkdir -p ~/.kaggle\n",
        "cp /content/buckets/b1/kaggle/kaggle.json  ~/.kaggle\n",
        "chmod 600 ~/.kaggle/kaggle.json\n",
        "\n",
        "\n",
        "mkdir -p /content/buckets/b1/exp\n",
        "mkdir -p /content/buckets/b1/datasets\n",
        "mkdir -p /content/datasets\n",
        "\n",
        "\n",
        "\n",
        "archivo_origen=\"https://storage.googleapis.com/open-courses/austral2025-af91/dataset_pequeno.csv\"\n",
        "archivo_destino=\"/content/datasets/dataset_pequeno.csv\"\n",
        "archivo_destino_bucket=\"/content/buckets/b1/datasets/dataset_pequeno.csv\"\n",
        "\n",
        "if ! test -f $archivo_destino_bucket; then\n",
        "  wget  $archivo_origen  -O $archivo_destino_bucket\n",
        "fi\n",
        "\n",
        "\n",
        "if ! test -f $archivo_destino; then\n",
        "  cp  $archivo_destino_bucket  $archivo_destino\n",
        "fi\n"
      ],
      "metadata": {
        "id": "W8dQFI5QYCFa",
        "outputId": "3d19c5d8-697a-44a2-8c37-b6ec685d7317",
        "colab": {
          "base_uri": "https://localhost:8080/"
        }
      },
      "execution_count": 2,
      "outputs": [
        {
          "output_type": "execute_result",
          "data": {
            "text/plain": []
          },
          "metadata": {},
          "execution_count": 2
        }
      ]
    },
    {
      "cell_type": "markdown",
      "source": [
        "# 1  Particion Training/Testing\n",
        "## Clase 02  Experimento 1"
      ],
      "metadata": {
        "id": "iV32-NeesVp6"
      }
    },
    {
      "cell_type": "markdown",
      "source": [
        "## 1.1  Objetivos\n",
        "Dado que es el primer experimento de la asignatura, acercar a l@s estudiantes las mejores prácticas de operación del ambiente de Google Cloud, realizando una minuciosa demostración en vivo narrando todas las consideraciones pertinentes para evitar accidentes, daños a terceros y a equipos.\n",
        "Dar soporte en el acto a  l@s estudiantes que necesitan ayuda para terminar de configurar el ambiente Google Cloud .\n",
        "<br>Repaso del concepto de  partición de un dataset al azar, estratificada en la clase\n",
        "<br>Dado que es el primer script que se mostrará en vivo a l@s estudiantes,  realizar una visita guiada del  mismo, su estructura y detalles.\n",
        "<br>Repaso del algoritmo Arbol de Decisión sus hiperparámetros, y la implementación con la librería  rpart.  Funciones  rpart::rpart  y rpart::predict\n",
        "<br>Concepto de replicabilidad de los experimentos mediante las semillas de los generadores de secuencias de números pseudoaleatorios.\n",
        "<br>Finalmente, el principal objetivo de este experimento es lograr que l@s estudiantes dimensionen la enorme variabilidad del error de medición de la ganancia de un árbol de decisión al realizar una partición <training, testing>,  contener la sorpresa de los estudiantes, descartar a la simple particion <training, testing> como método,  y construir en conjunto una solucion natural al problema."
      ],
      "metadata": {
        "id": "84Pnj9gVwpXB"
      }
    },
    {
      "cell_type": "markdown",
      "source": [
        "## 1.2 Introduccion"
      ],
      "metadata": {
        "id": "L9Cn0WThw37Y"
      }
    },
    {
      "cell_type": "markdown",
      "source": [
        "![Particiohn Training/Testing](https://storage.googleapis.com/open-courses/austral2025-af91/labo1r/C2_E1_particion.jpg)"
      ],
      "metadata": {
        "id": "ZELZ0R4itUVG"
      }
    },
    {
      "cell_type": "markdown",
      "source": [
        "![Dos tipos de error](https://storage.googleapis.com/open-courses/austral2025-af91/labo1r/C2_E1_target.jpg)"
      ],
      "metadata": {
        "id": "Wtc1ho58xLk-"
      }
    },
    {
      "cell_type": "markdown",
      "source": [
        "## 1.3  Bibliografía\n",
        "\n",
        "Demšar, J. [Statistical comparisons of classifiers over multiple data sets](https://www.jmlr.org/papers/volume7/demsar06a/demsar06a.pdf) J. Mach. Learn. Res. 7, 1–30 (2006).   \n",
        "Starmer, J. [Machine Learning Fundamentals: Cross Validation](https://www.youtube.com/watch?v=fSytzGwwBVw)Machine Learning Fundamentals: Cross Validation, StatQuest with Josh Starmer youtube channel, (2018)\n",
        "Hastie, T.[The elements of statistical learning: data mining, inference, and prediction](https://hastie.su.domains/Papers/ESLII.pdf) , volume 2. Springer, 2009  ( Chapter 7 Model Assessment and Selection )"
      ],
      "metadata": {
        "id": "oRWtRV34xZRT"
      }
    },
    {
      "cell_type": "markdown",
      "source": [
        "## 1.4 Codigo"
      ],
      "metadata": {
        "id": "VcgTQ2-Pyb8q"
      }
    },
    {
      "cell_type": "markdown",
      "source": [
        "Esta parte se debe correr con el runtime en lenguaje **R** Ir al menu, Runtime -> Change Runtime Tipe -> Runtime type -> R"
      ],
      "metadata": {
        "id": "SBXPU-_tabMb"
      }
    },
    {
      "cell_type": "markdown",
      "source": [
        "limpio el ambiente de R"
      ],
      "metadata": {
        "id": "SE94XRhWsxkX"
      }
    },
    {
      "cell_type": "code",
      "source": [
        "# limpio la memoria\n",
        "rm(list=ls(all.names=TRUE)) # remove all objects\n",
        "gc(full=TRUE, verbose=FALSE) # garbage collection"
      ],
      "metadata": {
        "id": "oZG_4br6szlT",
        "outputId": "0e012cf5-9609-4a49-a92c-1e4cf21de2cb",
        "colab": {
          "base_uri": "https://localhost:8080/",
          "height": 129
        }
      },
      "execution_count": null,
      "outputs": [
        {
          "output_type": "display_data",
          "data": {
            "text/html": [
              "<table class=\"dataframe\">\n",
              "<caption>A matrix: 2 × 6 of type dbl</caption>\n",
              "<thead>\n",
              "\t<tr><th></th><th scope=col>used</th><th scope=col>(Mb)</th><th scope=col>gc trigger</th><th scope=col>(Mb)</th><th scope=col>max used</th><th scope=col>(Mb)</th></tr>\n",
              "</thead>\n",
              "<tbody>\n",
              "\t<tr><th scope=row>Ncells</th><td> 656590</td><td>35.1</td><td>1454474</td><td>77.7</td><td>1321665</td><td>70.6</td></tr>\n",
              "\t<tr><th scope=row>Vcells</th><td>1219461</td><td> 9.4</td><td>8388608</td><td>64.0</td><td>1975127</td><td>15.1</td></tr>\n",
              "</tbody>\n",
              "</table>\n"
            ],
            "text/markdown": "\nA matrix: 2 × 6 of type dbl\n\n| <!--/--> | used | (Mb) | gc trigger | (Mb) | max used | (Mb) |\n|---|---|---|---|---|---|---|\n| Ncells |  656590 | 35.1 | 1454474 | 77.7 | 1321665 | 70.6 |\n| Vcells | 1219461 |  9.4 | 8388608 | 64.0 | 1975127 | 15.1 |\n\n",
            "text/latex": "A matrix: 2 × 6 of type dbl\n\\begin{tabular}{r|llllll}\n  & used & (Mb) & gc trigger & (Mb) & max used & (Mb)\\\\\n\\hline\n\tNcells &  656590 & 35.1 & 1454474 & 77.7 & 1321665 & 70.6\\\\\n\tVcells & 1219461 &  9.4 & 8388608 & 64.0 & 1975127 & 15.1\\\\\n\\end{tabular}\n",
            "text/plain": [
              "       used    (Mb) gc trigger (Mb) max used (Mb)\n",
              "Ncells  656590 35.1 1454474    77.7 1321665  70.6\n",
              "Vcells 1219461  9.4 8388608    64.0 1975127  15.1"
            ]
          },
          "metadata": {}
        }
      ]
    },
    {
      "cell_type": "code",
      "source": [
        "Sys.time()"
      ],
      "metadata": {
        "id": "pJ8SsVA5ssnf",
        "outputId": "618bff3b-70cb-4071-95c7-7db6faaa23da",
        "colab": {
          "base_uri": "https://localhost:8080/",
          "height": 35
        }
      },
      "execution_count": null,
      "outputs": [
        {
          "output_type": "display_data",
          "data": {
            "text/plain": [
              "[1] \"2025-09-30 23:20:49 UTC\""
            ]
          },
          "metadata": {}
        }
      ]
    },
    {
      "cell_type": "markdown",
      "source": [
        "* Instalacion de la libreria  rpart.plot  para dibujar el arbol\n",
        "* invocacion de las librerias  **data.table** y  **rpart**"
      ],
      "metadata": {
        "id": "3BrrQ47PeEb2"
      }
    },
    {
      "cell_type": "code",
      "source": [
        "# cargo las librerias que necesito\n",
        "require(\"data.table\")\n",
        "require(\"rpart\")\n"
      ],
      "metadata": {
        "id": "SxO-0Ql0khn6",
        "outputId": "9b0fae5d-a725-4b0e-9941-b6c3cbfb723e",
        "colab": {
          "base_uri": "https://localhost:8080/"
        }
      },
      "execution_count": null,
      "outputs": [
        {
          "output_type": "stream",
          "name": "stderr",
          "text": [
            "Loading required package: data.table\n",
            "\n",
            "Loading required package: rpart\n",
            "\n"
          ]
        }
      ]
    },
    {
      "cell_type": "markdown",
      "source": [
        "###  Accion a Realizar\n",
        "PARAM$semilla  debe tener su primer semilla aleatoria"
      ],
      "metadata": {
        "id": "ZG9fCnZh3bWV"
      }
    },
    {
      "cell_type": "code",
      "source": [
        "# semillas: 943153, 135329, 732673, 829469, 505777\n",
        "PARAM <- list()\n",
        "PARAM$semilla <- 943153  # aqui debe ir su primer semilla\n",
        "PARAM$training_pct <- 70L  # entre  1L y 99L\n",
        "\n",
        "PARAM$rpart <- list (\n",
        "  \"cp\" = -1, # complejidad minima\n",
        "  \"minsplit\" = 170, # minima cantidad de regs en un nodo para hacer el split\n",
        "  \"minbucket\" = 70, # minima cantidad de regs en una hoja\n",
        "  \"maxdepth\" = 7 # profundidad máxima del arbol\n",
        ")\n"
      ],
      "metadata": {
        "id": "0nx5_OcE3Y9c"
      },
      "execution_count": null,
      "outputs": []
    },
    {
      "cell_type": "code",
      "source": [
        "# particionar agrega una columna llamada fold a un dataset\n",
        "#  que consiste en una particion estratificada segun agrupa\n",
        "\n",
        "# particionar( data=dataset, division=c(70,30),\n",
        "#  agrupa=clase_ternaria, seed=semilla)   crea una particion 70, 30\n",
        "\n",
        "particionar <- function(\n",
        "    data, division, agrupa = \"\",\n",
        "    campo = \"fold\", start = 1, seed = NA) {\n",
        "  if (!is.na(seed)) set.seed(seed)\n",
        "\n",
        "  bloque <- unlist(mapply(function(x, y) {\n",
        "    rep(y, x)\n",
        "  }, division, seq(from = start, length.out = length(division))))\n",
        "\n",
        "  data[, (campo) := sample(rep(bloque, ceiling(.N / length(bloque))))[1:.N],\n",
        "    by = agrupa\n",
        "  ]\n",
        "}\n"
      ],
      "metadata": {
        "id": "8HLE9Dx80gjH"
      },
      "execution_count": null,
      "outputs": []
    },
    {
      "cell_type": "code",
      "source": [
        "# carpeta de trabajo\n",
        "setwd(\"/content/buckets/b1/exp\")\n",
        "experimento <- \"exp201\"\n",
        "dir.create(experimento, showWarnings=FALSE)\n",
        "setwd( paste0(\"/content/buckets/b1/exp/\", experimento ))"
      ],
      "metadata": {
        "id": "sC4_nqcm0nUs"
      },
      "execution_count": null,
      "outputs": []
    },
    {
      "cell_type": "code",
      "source": [
        "# lectura del dataset\n",
        "dataset <- fread(\"/content/datasets/dataset_pequeno.csv\")\n",
        "\n",
        "# trabajo solo con los datos con clase, es decir 202107\n",
        "dataset <- dataset[clase_ternaria != \"\"]"
      ],
      "metadata": {
        "id": "6yIEsZOw07q8"
      },
      "execution_count": null,
      "outputs": []
    },
    {
      "cell_type": "code",
      "source": [
        "# particiono estratificadamente el dataset 70%, 30%\n",
        "particionar(dataset,\n",
        "  division = c(PARAM$training_pct, 100L -PARAM$training_pct),\n",
        "  agrupa = \"clase_ternaria\",\n",
        "  seed = PARAM$semilla # aqui se usa SU semilla\n",
        ")\n",
        "\n"
      ],
      "metadata": {
        "id": "FAO1Hhd52b5d"
      },
      "execution_count": null,
      "outputs": []
    },
    {
      "cell_type": "code",
      "source": [
        "# genero el modelo\n",
        "# quiero predecir clase_ternaria a partir del resto\n",
        "# fold==1  es training,  el 70% de los datos\n",
        "modelo <- rpart(\"clase_ternaria ~ .\",\n",
        "  data = dataset[fold == 1],  # fold==1  es training, el 70% de los datos\n",
        "  xval = 0,\n",
        "  control = PARAM$rpart # aqui van los parametros\n",
        ")\n"
      ],
      "metadata": {
        "id": "s3UnHSLP2gN6"
      },
      "execution_count": null,
      "outputs": []
    },
    {
      "cell_type": "code",
      "source": [
        "# aplico el modelo a los datos de testing\n",
        "prediccion <- predict(modelo, # el modelo que genere recien\n",
        "  dataset[fold == 2], # fold==2  es testing, el 30% de los datos\n",
        "  type = \"prob\"\n",
        ") # type= \"prob\"  es que devuelva la probabilidad\n"
      ],
      "metadata": {
        "id": "paQphV4A2jGz"
      },
      "execution_count": null,
      "outputs": []
    },
    {
      "cell_type": "code",
      "source": [
        "tb_prediccion <- as.data.table(list(\n",
        "  \"clase_ternaria\"=dataset[fold == 2, clase_ternaria],\n",
        "  \"prob\"=prediccion[, \"BAJA+2\"]\n",
        "))"
      ],
      "metadata": {
        "id": "fuLZ75pA29dT"
      },
      "execution_count": null,
      "outputs": []
    },
    {
      "cell_type": "code",
      "source": [
        "# calculo la ganancia de cada registro\n",
        "tb_prediccion[, ganancia := ifelse(clase_ternaria == \"BAJA+2\", 117000, -3000)]"
      ],
      "metadata": {
        "id": "LuG6ql_t3kOI"
      },
      "execution_count": null,
      "outputs": []
    },
    {
      "cell_type": "code",
      "source": [
        "# calculo la clase\n",
        "tb_prediccion[, Predicted := prob > (1/40) ]"
      ],
      "metadata": {
        "id": "xJ3WTMez3leO"
      },
      "execution_count": null,
      "outputs": []
    },
    {
      "cell_type": "code",
      "source": [
        "ganancia_test <-  tb_prediccion[ Predicted==TRUE,  sum(ganancia)]"
      ],
      "metadata": {
        "id": "cFQPacen4Wq6"
      },
      "execution_count": null,
      "outputs": []
    },
    {
      "cell_type": "code",
      "source": [
        "# normalizo la ganancia\n",
        "ganancia_test_normalizada <- ganancia_test / (( 100 - PARAM$training_pct ) / 100 )"
      ],
      "metadata": {
        "id": "dHjz0zhN4-nZ"
      },
      "execution_count": null,
      "outputs": []
    },
    {
      "cell_type": "code",
      "source": [
        "estimulos <- tb_prediccion[ Predicted==TRUE, .N]\n",
        "aciertos <- tb_prediccion[ Predicted & clase_ternaria == \"BAJA+2\", .N]\n"
      ],
      "metadata": {
        "id": "D7RUdTb95F6B"
      },
      "execution_count": null,
      "outputs": []
    },
    {
      "cell_type": "code",
      "source": [
        "# Resultado Final\n",
        "cat(\"Testing total: \", dataset[fold == 2, .N], \"\\n\")\n",
        "cat(\"Testing BAJA+2: \", dataset[fold == 2 & clase_ternaria == \"BAJA+2\", .N], \"\\n\")\n",
        "\n",
        "cat(\"Estimulos: \", estimulos, \"\\n\")\n",
        "cat(\"Aciertos (BAJA+2): \", aciertos, \"\\n\")\n",
        "\n",
        "cat(\"Ganancia en testing (normalizada): \", ganancia_test_normalizada, \"\\n\")\n"
      ],
      "metadata": {
        "id": "Lu1KM6fy5U7h",
        "outputId": "d56b537e-88ca-46e2-b3db-496d551fe8c7",
        "colab": {
          "base_uri": "https://localhost:8080/"
        }
      },
      "execution_count": null,
      "outputs": [
        {
          "output_type": "stream",
          "name": "stdout",
          "text": [
            "Testing total:  49373 \n",
            "Testing BAJA+2:  379 \n",
            "Estimulos:  3059 \n",
            "Aciertos (BAJA+2):  222 \n",
            "Ganancia en testing (normalizada):  58210000 \n"
          ]
        }
      ]
    },
    {
      "cell_type": "markdown",
      "source": [
        "### Acciones a realizar\n",
        "* Reportar la  *Ganancia en testing (normalizada)* <br> en la planilla colaborativa hoja  **C2-1sem**\n",
        "* Se discutirá en clase la variabilidad de las ganancias obtenidas de distintos alumnos"
      ],
      "metadata": {
        "id": "kHs-YoFB5rUa"
      }
    },
    {
      "cell_type": "markdown",
      "source": [
        "\n",
        "\n",
        "---\n",
        "\n"
      ],
      "metadata": {
        "id": "LBl_eIeO7WuM"
      }
    },
    {
      "cell_type": "markdown",
      "source": [
        "# 2  Medición Monte Carlo Cross Validation\n",
        "## Clase 02  Experimento 2"
      ],
      "metadata": {
        "id": "h43UCq9y7UlT"
      }
    },
    {
      "cell_type": "markdown",
      "source": [
        "## 2.1  Objetivos\n",
        "Mostrar el funcionamiento de la Montecarlo Cross Validation y que l@s estudiantes aprecien la disminución de la varianza de dicha metodología.\n",
        "Relación con el Teorema Central del Límite"
      ],
      "metadata": {
        "id": "wHPchGXK80VU"
      }
    },
    {
      "cell_type": "markdown",
      "source": [
        "## 2.2 Introduccion\n",
        "\n",
        "![Montecarlo](https://storage.googleapis.com/open-courses/austral2025-af91/labo1r/C2_E2_montecarlo.jpg)\n",
        "\n",
        "![Curva normal](https://storage.googleapis.com/open-courses/austral2025-af91/labo1r/C2_E2_normal.jpg)\n",
        "\n",
        "![Teorema Central del Limite](https://storage.googleapis.com/open-courses/austral2025-af91/labo1r/C2_E2_teoremacentralLimite.jpg)\n",
        "\n"
      ],
      "metadata": {
        "id": "g6YzACxl9DzS"
      }
    },
    {
      "cell_type": "markdown",
      "source": [],
      "metadata": {
        "id": "7laod2t4ArsH"
      }
    },
    {
      "cell_type": "markdown",
      "source": [
        "## 2.3  Bibliografía\n",
        "\n",
        "Demšar, J. [Statistical comparisons of classifiers over multiple data sets](https://www.jmlr.org/papers/volume7/demsar06a/demsar06a.pdf) J. Mach. Learn. Res. 7, 1–30 (2006).   \n",
        "Starmer, J. [Machine Learning Fundamentals: Cross Validation](https://www.youtube.com/watch?v=fSytzGwwBVw)Machine Learning Fundamentals: Cross Validation, StatQuest with Josh Starmer youtube channel, (2018)\n",
        "Hastie, T.[The elements of statistical learning: data mining, inference, and prediction](https://hastie.su.domains/Papers/ESLII.pdf) , volume 2. Springer, 2009  ( Chapter 7 Model Assessment and Selection )"
      ],
      "metadata": {
        "id": "lFcJeRAkAr-q"
      }
    },
    {
      "cell_type": "code",
      "source": [],
      "metadata": {
        "id": "KXSuYXQ26cLV"
      },
      "execution_count": null,
      "outputs": []
    },
    {
      "cell_type": "markdown",
      "source": [
        "## 2.4 Codigo  Montecarlo"
      ],
      "metadata": {
        "id": "0ztZzYolA2WK"
      }
    },
    {
      "cell_type": "markdown",
      "source": [
        "El código de la Montecarlo Cross Validation es notablemente más complejo que el anterior de una simple partición training/testing\n",
        "<br> Se crea la funcion ArbolEstimarGanancia()  que dada una semilla realiza la partición  training/testing, entrena en training, aplica el modelo a testing, y se calculan las ganancias\n",
        "<br> Se utiliza la funcion **mcmapply**  de R para aplicar ArbolEstimarGanancia a todos los elementos del vector de semillas"
      ],
      "metadata": {
        "id": "KLa06ZsiC-Oz"
      }
    },
    {
      "cell_type": "markdown",
      "source": [
        "Esta parte se debe correr con el runtime en lenguaje **R** Ir al menu, Runtime -> Change Runtime Tipe -> Runtime type -> R"
      ],
      "metadata": {
        "id": "ivFiBBOQA2Ws"
      }
    },
    {
      "cell_type": "markdown",
      "source": [
        "limpio el ambiente de R"
      ],
      "metadata": {
        "id": "TMSAQDXuA2Ws"
      }
    },
    {
      "cell_type": "code",
      "source": [
        "# limpio la memoria\n",
        "rm(list=ls(all.names=TRUE)) # remove all objects\n",
        "gc(full=TRUE, verbose=FALSE) # garbage collection"
      ],
      "metadata": {
        "id": "eakzb8y2A2Wt",
        "outputId": "f93f897d-5cb4-4374-b098-cce59a59fef4",
        "colab": {
          "base_uri": "https://localhost:8080/",
          "height": 129
        }
      },
      "execution_count": null,
      "outputs": [
        {
          "output_type": "display_data",
          "data": {
            "text/html": [
              "<table class=\"dataframe\">\n",
              "<caption>A matrix: 2 × 6 of type dbl</caption>\n",
              "<thead>\n",
              "\t<tr><th></th><th scope=col>used</th><th scope=col>(Mb)</th><th scope=col>gc trigger</th><th scope=col>(Mb)</th><th scope=col>max used</th><th scope=col>(Mb)</th></tr>\n",
              "</thead>\n",
              "<tbody>\n",
              "\t<tr><th scope=row>Ncells</th><td> 758877</td><td>40.6</td><td> 1454474</td><td> 77.7</td><td>  1454474</td><td> 77.7</td></tr>\n",
              "\t<tr><th scope=row>Vcells</th><td>1441815</td><td>11.1</td><td>65248830</td><td>497.9</td><td>127394322</td><td>972.0</td></tr>\n",
              "</tbody>\n",
              "</table>\n"
            ],
            "text/markdown": "\nA matrix: 2 × 6 of type dbl\n\n| <!--/--> | used | (Mb) | gc trigger | (Mb) | max used | (Mb) |\n|---|---|---|---|---|---|---|\n| Ncells |  758877 | 40.6 |  1454474 |  77.7 |   1454474 |  77.7 |\n| Vcells | 1441815 | 11.1 | 65248830 | 497.9 | 127394322 | 972.0 |\n\n",
            "text/latex": "A matrix: 2 × 6 of type dbl\n\\begin{tabular}{r|llllll}\n  & used & (Mb) & gc trigger & (Mb) & max used & (Mb)\\\\\n\\hline\n\tNcells &  758877 & 40.6 &  1454474 &  77.7 &   1454474 &  77.7\\\\\n\tVcells & 1441815 & 11.1 & 65248830 & 497.9 & 127394322 & 972.0\\\\\n\\end{tabular}\n",
            "text/plain": [
              "       used    (Mb) gc trigger (Mb)  max used  (Mb) \n",
              "Ncells  758877 40.6  1454474    77.7   1454474  77.7\n",
              "Vcells 1441815 11.1 65248830   497.9 127394322 972.0"
            ]
          },
          "metadata": {}
        }
      ]
    },
    {
      "cell_type": "markdown",
      "source": [
        "* Instalacion de la libreria  rpart.plot  para dibujar el arbol\n",
        "* invocacion de las librerias  **data.table** y  **rpart**"
      ],
      "metadata": {
        "id": "559RkeYZA2Wv"
      }
    },
    {
      "cell_type": "code",
      "source": [
        "# cargo las librerias que necesito\n",
        "require(\"data.table\")\n",
        "require(\"rpart\")\n",
        "require(\"parallel\")"
      ],
      "metadata": {
        "id": "yf_S_HlsA2Wv"
      },
      "execution_count": null,
      "outputs": []
    },
    {
      "cell_type": "markdown",
      "source": [
        "###  Accion a Realizar\n",
        "PARAM$semillas  debe tener sus cinco semillas aleatorias"
      ],
      "metadata": {
        "id": "a4oz2ulCA2Ww"
      }
    },
    {
      "cell_type": "code",
      "source": [
        "PARAM <- list()\n",
        "PARAM$semillas <- c(943153, 135329, 732673, 829469, 505777)  # aqui debe ir sus CINCO\n",
        "PARAM$training_pct <- 70L  # entre  1L y 99L\n",
        "\n",
        "PARAM$rpart <- list (\n",
        "  \"cp\" = -1, # complejidad minima\n",
        "  \"minsplit\" = 170, # minima cantidad de regs en un nodo para hacer el split\n",
        "  \"minbucket\" = 70, # minima cantidad de regs en una hoja\n",
        "  \"maxdepth\" = 7 # profundidad máxima del arbol\n",
        ")\n"
      ],
      "metadata": {
        "id": "yQ2OAP5AA2Wx"
      },
      "execution_count": null,
      "outputs": []
    },
    {
      "cell_type": "code",
      "source": [
        "# particionar agrega una columna llamada fold a un dataset\n",
        "#  que consiste en una particion estratificada segun agrupa\n",
        "\n",
        "# particionar( data=dataset, division=c(70,30),\n",
        "#  agrupa=clase_ternaria, seed=semilla)   crea una particion 70, 30\n",
        "\n",
        "particionar <- function(\n",
        "    data, division, agrupa = \"\",\n",
        "    campo = \"fold\", start = 1, seed = NA) {\n",
        "  if (!is.na(seed)) set.seed(seed)\n",
        "\n",
        "  bloque <- unlist(mapply(function(x, y) {\n",
        "    rep(y, x)\n",
        "  }, division, seq(from = start, length.out = length(division))))\n",
        "\n",
        "  data[, (campo) := sample(rep(bloque, ceiling(.N / length(bloque))))[1:.N],\n",
        "    by = agrupa\n",
        "  ]\n",
        "}\n"
      ],
      "metadata": {
        "id": "97dMCVJWA2Wy"
      },
      "execution_count": null,
      "outputs": []
    },
    {
      "cell_type": "code",
      "source": [
        "\n",
        "ArbolEstimarGanancia <- function(semilla, param_basicos) {\n",
        "  # particiono estratificadamente el dataset\n",
        "  particionar(dataset,\n",
        "    division = c(param_basicos$training_pct, 100L -param_basicos$training_pct),\n",
        "    agrupa = \"clase_ternaria\",\n",
        "    seed = semilla # aqui se usa SU semilla\n",
        "  )\n",
        "\n",
        "  # genero el modelo\n",
        "  # predecir clase_ternaria a partir del resto\n",
        "  modelo <- rpart(\"clase_ternaria ~ .\",\n",
        "    data = dataset[fold == 1], # fold==1  es training,  el 70% de los datos\n",
        "    xval = 0,\n",
        "    control = param_basicos$rpart\n",
        "  ) # aqui van los parametros del arbol\n",
        "\n",
        "  # aplico el modelo a los datos de testing\n",
        "  prediccion <- predict(modelo, # el modelo que genere recien\n",
        "    dataset[fold == 2], # fold==2  es testing, el 30% de los datos\n",
        "    type = \"prob\"\n",
        "  ) # type= \"prob\"  es que devuelva la probabilidad\n",
        "\n",
        "  # prediccion es una matriz con TRES columnas,\n",
        "  #  llamadas \"BAJA+1\", \"BAJA+2\"  y \"CONTINUA\"\n",
        "  # cada columna es el vector de probabilidades\n",
        "\n",
        "\n",
        "  # calculo la ganancia en testing  qu es fold==2\n",
        "  ganancia_test <- dataset[\n",
        "    fold == 2,\n",
        "    sum(ifelse(prediccion[, \"BAJA+2\"] > 0.025,\n",
        "      ifelse(clase_ternaria == \"BAJA+2\", 117000, -3000),\n",
        "      0\n",
        "    ))\n",
        "  ]\n",
        "\n",
        "  # escalo la ganancia como si fuera todo el dataset\n",
        "  ganancia_test_normalizada <- ganancia_test / (( 100 - PARAM$training_pct ) / 100 )\n",
        "\n",
        "  return(list(\n",
        "    \"semilla\" = semilla,\n",
        "    \"testing\" = dataset[fold == 2, .N],\n",
        "    \"testing_pos\" = dataset[fold == 2 & clase_ternaria == \"BAJA+2\", .N],\n",
        "    \"envios\" = dataset[fold == 2, sum(prediccion[, \"BAJA+2\"] > 0.025)],\n",
        "    \"aciertos\" = dataset[\n",
        "        fold == 2,\n",
        "        sum(prediccion[, \"BAJA+2\"] > 0.025 & clase_ternaria == \"BAJA+2\")\n",
        "    ],\n",
        "    \"ganancia_test\" = ganancia_test_normalizada\n",
        "  ))\n",
        "}\n"
      ],
      "metadata": {
        "id": "GroZSZoVBuZ5"
      },
      "execution_count": null,
      "outputs": []
    },
    {
      "cell_type": "code",
      "source": [
        "# carpeta de trabajo\n",
        "setwd(\"/content/buckets/b1/exp\")\n",
        "experimento <- \"exp202\"\n",
        "dir.create(experimento, showWarnings=FALSE)\n",
        "setwd( paste0(\"/content/buckets/b1/exp/\", experimento ))"
      ],
      "metadata": {
        "id": "dJIBIX6kA2Wy"
      },
      "execution_count": null,
      "outputs": []
    },
    {
      "cell_type": "code",
      "source": [
        "# lectura del dataset\n",
        "dataset <- fread(\"/content/datasets/dataset_pequeno.csv\")\n",
        "\n",
        "# trabajo solo con los datos con clase, es decir 202107\n",
        "dataset <- dataset[clase_ternaria != \"\"]"
      ],
      "metadata": {
        "id": "tKiACdU2A2Wz"
      },
      "execution_count": null,
      "outputs": []
    },
    {
      "cell_type": "code",
      "source": [
        "\n",
        "# la funcion mcmapply  llama a la funcion ArbolEstimarGanancia\n",
        "#  tantas veces como valores tenga el vector  PARAM$semillas\n",
        "salidas <- mcmapply(ArbolEstimarGanancia,\n",
        "  PARAM$semillas, # paso el vector de semillas\n",
        "  MoreArgs = list(PARAM), # aqui paso el segundo parametro\n",
        "  SIMPLIFY = FALSE,\n",
        "  mc.cores = detectCores()\n",
        ")\n",
        "\n",
        "# muestro la lista de las salidas en testing\n",
        "#  para la particion realizada con cada semilla\n",
        "salidas\n"
      ],
      "metadata": {
        "id": "64OdfeyxCMDF",
        "outputId": "fda7a291-2b1c-4e43-cefd-86643095a9b6",
        "colab": {
          "base_uri": "https://localhost:8080/",
          "height": 1000
        }
      },
      "execution_count": null,
      "outputs": [
        {
          "output_type": "display_data",
          "data": {
            "text/html": [
              "<ol>\n",
              "\t<li><dl>\n",
              "\t<dt>$semilla</dt>\n",
              "\t\t<dd>943153</dd>\n",
              "\t<dt>$testing</dt>\n",
              "\t\t<dd>49373</dd>\n",
              "\t<dt>$testing_pos</dt>\n",
              "\t\t<dd>379</dd>\n",
              "\t<dt>$envios</dt>\n",
              "\t\t<dd>3059</dd>\n",
              "\t<dt>$aciertos</dt>\n",
              "\t\t<dd>222</dd>\n",
              "\t<dt>$ganancia_test</dt>\n",
              "\t\t<dd>58210000</dd>\n",
              "</dl>\n",
              "</li>\n",
              "\t<li><dl>\n",
              "\t<dt>$semilla</dt>\n",
              "\t\t<dd>135329</dd>\n",
              "\t<dt>$testing</dt>\n",
              "\t\t<dd>49366</dd>\n",
              "\t<dt>$testing_pos</dt>\n",
              "\t\t<dd>370</dd>\n",
              "\t<dt>$envios</dt>\n",
              "\t\t<dd>3406</dd>\n",
              "\t<dt>$aciertos</dt>\n",
              "\t\t<dd>211</dd>\n",
              "\t<dt>$ganancia_test</dt>\n",
              "\t\t<dd>50340000</dd>\n",
              "</dl>\n",
              "</li>\n",
              "\t<li><dl>\n",
              "\t<dt>$semilla</dt>\n",
              "\t\t<dd>732673</dd>\n",
              "\t<dt>$testing</dt>\n",
              "\t\t<dd>49380</dd>\n",
              "\t<dt>$testing_pos</dt>\n",
              "\t\t<dd>373</dd>\n",
              "\t<dt>$envios</dt>\n",
              "\t\t<dd>3291</dd>\n",
              "\t<dt>$aciertos</dt>\n",
              "\t\t<dd>210</dd>\n",
              "\t<dt>$ganancia_test</dt>\n",
              "\t\t<dd>51090000</dd>\n",
              "</dl>\n",
              "</li>\n",
              "\t<li><dl>\n",
              "\t<dt>$semilla</dt>\n",
              "\t\t<dd>829469</dd>\n",
              "\t<dt>$testing</dt>\n",
              "\t\t<dd>49376</dd>\n",
              "\t<dt>$testing_pos</dt>\n",
              "\t\t<dd>373</dd>\n",
              "\t<dt>$envios</dt>\n",
              "\t\t<dd>3735</dd>\n",
              "\t<dt>$aciertos</dt>\n",
              "\t\t<dd>210</dd>\n",
              "\t<dt>$ganancia_test</dt>\n",
              "\t\t<dd>46650000</dd>\n",
              "</dl>\n",
              "</li>\n",
              "\t<li><dl>\n",
              "\t<dt>$semilla</dt>\n",
              "\t\t<dd>505777</dd>\n",
              "\t<dt>$testing</dt>\n",
              "\t\t<dd>49376</dd>\n",
              "\t<dt>$testing_pos</dt>\n",
              "\t\t<dd>374</dd>\n",
              "\t<dt>$envios</dt>\n",
              "\t\t<dd>3083</dd>\n",
              "\t<dt>$aciertos</dt>\n",
              "\t\t<dd>189</dd>\n",
              "\t<dt>$ganancia_test</dt>\n",
              "\t\t<dd>44770000</dd>\n",
              "</dl>\n",
              "</li>\n",
              "</ol>\n"
            ],
            "text/markdown": "1. $semilla\n:   943153\n$testing\n:   49373\n$testing_pos\n:   379\n$envios\n:   3059\n$aciertos\n:   222\n$ganancia_test\n:   58210000\n\n\n\n2. $semilla\n:   135329\n$testing\n:   49366\n$testing_pos\n:   370\n$envios\n:   3406\n$aciertos\n:   211\n$ganancia_test\n:   50340000\n\n\n\n3. $semilla\n:   732673\n$testing\n:   49380\n$testing_pos\n:   373\n$envios\n:   3291\n$aciertos\n:   210\n$ganancia_test\n:   51090000\n\n\n\n4. $semilla\n:   829469\n$testing\n:   49376\n$testing_pos\n:   373\n$envios\n:   3735\n$aciertos\n:   210\n$ganancia_test\n:   46650000\n\n\n\n5. $semilla\n:   505777\n$testing\n:   49376\n$testing_pos\n:   374\n$envios\n:   3083\n$aciertos\n:   189\n$ganancia_test\n:   44770000\n\n\n\n\n\n",
            "text/latex": "\\begin{enumerate}\n\\item \\begin{description}\n\\item[\\$semilla] 943153\n\\item[\\$testing] 49373\n\\item[\\$testing\\_pos] 379\n\\item[\\$envios] 3059\n\\item[\\$aciertos] 222\n\\item[\\$ganancia\\_test] 58210000\n\\end{description}\n\n\\item \\begin{description}\n\\item[\\$semilla] 135329\n\\item[\\$testing] 49366\n\\item[\\$testing\\_pos] 370\n\\item[\\$envios] 3406\n\\item[\\$aciertos] 211\n\\item[\\$ganancia\\_test] 50340000\n\\end{description}\n\n\\item \\begin{description}\n\\item[\\$semilla] 732673\n\\item[\\$testing] 49380\n\\item[\\$testing\\_pos] 373\n\\item[\\$envios] 3291\n\\item[\\$aciertos] 210\n\\item[\\$ganancia\\_test] 51090000\n\\end{description}\n\n\\item \\begin{description}\n\\item[\\$semilla] 829469\n\\item[\\$testing] 49376\n\\item[\\$testing\\_pos] 373\n\\item[\\$envios] 3735\n\\item[\\$aciertos] 210\n\\item[\\$ganancia\\_test] 46650000\n\\end{description}\n\n\\item \\begin{description}\n\\item[\\$semilla] 505777\n\\item[\\$testing] 49376\n\\item[\\$testing\\_pos] 374\n\\item[\\$envios] 3083\n\\item[\\$aciertos] 189\n\\item[\\$ganancia\\_test] 44770000\n\\end{description}\n\n\\end{enumerate}\n",
            "text/plain": [
              "[[1]]\n",
              "[[1]]$semilla\n",
              "[1] 943153\n",
              "\n",
              "[[1]]$testing\n",
              "[1] 49373\n",
              "\n",
              "[[1]]$testing_pos\n",
              "[1] 379\n",
              "\n",
              "[[1]]$envios\n",
              "[1] 3059\n",
              "\n",
              "[[1]]$aciertos\n",
              "[1] 222\n",
              "\n",
              "[[1]]$ganancia_test\n",
              "[1] 58210000\n",
              "\n",
              "\n",
              "[[2]]\n",
              "[[2]]$semilla\n",
              "[1] 135329\n",
              "\n",
              "[[2]]$testing\n",
              "[1] 49366\n",
              "\n",
              "[[2]]$testing_pos\n",
              "[1] 370\n",
              "\n",
              "[[2]]$envios\n",
              "[1] 3406\n",
              "\n",
              "[[2]]$aciertos\n",
              "[1] 211\n",
              "\n",
              "[[2]]$ganancia_test\n",
              "[1] 50340000\n",
              "\n",
              "\n",
              "[[3]]\n",
              "[[3]]$semilla\n",
              "[1] 732673\n",
              "\n",
              "[[3]]$testing\n",
              "[1] 49380\n",
              "\n",
              "[[3]]$testing_pos\n",
              "[1] 373\n",
              "\n",
              "[[3]]$envios\n",
              "[1] 3291\n",
              "\n",
              "[[3]]$aciertos\n",
              "[1] 210\n",
              "\n",
              "[[3]]$ganancia_test\n",
              "[1] 51090000\n",
              "\n",
              "\n",
              "[[4]]\n",
              "[[4]]$semilla\n",
              "[1] 829469\n",
              "\n",
              "[[4]]$testing\n",
              "[1] 49376\n",
              "\n",
              "[[4]]$testing_pos\n",
              "[1] 373\n",
              "\n",
              "[[4]]$envios\n",
              "[1] 3735\n",
              "\n",
              "[[4]]$aciertos\n",
              "[1] 210\n",
              "\n",
              "[[4]]$ganancia_test\n",
              "[1] 46650000\n",
              "\n",
              "\n",
              "[[5]]\n",
              "[[5]]$semilla\n",
              "[1] 505777\n",
              "\n",
              "[[5]]$testing\n",
              "[1] 49376\n",
              "\n",
              "[[5]]$testing_pos\n",
              "[1] 374\n",
              "\n",
              "[[5]]$envios\n",
              "[1] 3083\n",
              "\n",
              "[[5]]$aciertos\n",
              "[1] 189\n",
              "\n",
              "[[5]]$ganancia_test\n",
              "[1] 44770000\n",
              "\n"
            ]
          },
          "metadata": {}
        }
      ]
    },
    {
      "cell_type": "code",
      "source": [
        "# paso la lista a vector\n",
        "tb_salida <- rbindlist(salidas)\n",
        "print( tb_salida)"
      ],
      "metadata": {
        "id": "tML9VmH2ECFK",
        "outputId": "bd37802c-e7ec-48a4-f539-0aa117089954",
        "colab": {
          "base_uri": "https://localhost:8080/"
        }
      },
      "execution_count": null,
      "outputs": [
        {
          "output_type": "stream",
          "name": "stdout",
          "text": [
            "   semilla testing testing_pos envios aciertos ganancia_test\n",
            "     <num>   <int>       <int>  <int>    <int>         <num>\n",
            "1:  943153   49373         379   3059      222      58210000\n",
            "2:  135329   49366         370   3406      211      50340000\n",
            "3:  732673   49380         373   3291      210      51090000\n",
            "4:  829469   49376         373   3735      210      46650000\n",
            "5:  505777   49376         374   3083      189      44770000\n"
          ]
        }
      ]
    },
    {
      "cell_type": "code",
      "source": [
        "# finalmente calculo la media (promedio)  de las ganancias\n",
        "cat( \"ganancia promedio: \", tb_salida[, mean(ganancia_test)], \"\\n\" )"
      ],
      "metadata": {
        "id": "rbHXPfoVENQB",
        "outputId": "dd58a954-061c-420a-9b3e-bc9607838434",
        "colab": {
          "base_uri": "https://localhost:8080/"
        }
      },
      "execution_count": null,
      "outputs": [
        {
          "output_type": "stream",
          "name": "stdout",
          "text": [
            "ganancia promedio:  50212000 \n"
          ]
        }
      ]
    },
    {
      "cell_type": "markdown",
      "source": [
        "### Acciones a realizar\n",
        "* Reportar la  *Ganancia Promedio* <br> en la planilla colaborativa hoja  **C2-5sem**\n",
        "* Se discutirá en clase la variabilidad de estos \"ganancia promedio de cinco semillas\""
      ],
      "metadata": {
        "id": "_3xVH6UKA2W6"
      }
    },
    {
      "cell_type": "markdown",
      "source": [
        "\n",
        "\n",
        "---\n",
        "\n"
      ],
      "metadata": {
        "id": "N29m1XGpA2W7"
      }
    },
    {
      "cell_type": "markdown",
      "source": [
        "# 3  Generando n semillas en forma automatica\n",
        "## Clase 02  Experimento 3"
      ],
      "metadata": {
        "id": "zS7WIJciFGc6"
      }
    },
    {
      "cell_type": "markdown",
      "source": [
        "## 3.1  Objetivos\n",
        "Mostrar la creación de nuevas semillas a partir de la librería Primes"
      ],
      "metadata": {
        "id": "VmiFDDDJFUEo"
      }
    },
    {
      "cell_type": "markdown",
      "source": [
        "3.2  Código\n",
        "\n",
        "Como generar muchas semillas a partir de una"
      ],
      "metadata": {
        "id": "Ehe3VfdfFbvg"
      }
    },
    {
      "cell_type": "code",
      "source": [
        "# instalo y cargo la libreria  primes\n",
        "if (!require(\"primes\")) install.packages(\"primes\")\n",
        "require(\"primes\")"
      ],
      "metadata": {
        "id": "X6_dE42yF2-t",
        "outputId": "5f3b047a-46f5-4d42-a612-af55687c3b00",
        "colab": {
          "base_uri": "https://localhost:8080/"
        }
      },
      "execution_count": null,
      "outputs": [
        {
          "output_type": "stream",
          "name": "stderr",
          "text": [
            "Loading required package: primes\n",
            "\n",
            "Warning message in library(package, lib.loc = lib.loc, character.only = TRUE, logical.return = TRUE, :\n",
            "“there is no package called ‘primes’”\n",
            "Installing package into ‘/usr/local/lib/R/site-library’\n",
            "(as ‘lib’ is unspecified)\n",
            "\n",
            "Warning message in install.packages(\"primes\"):\n",
            "“installation of package ‘primes’ had non-zero exit status”\n",
            "Loading required package: primes\n",
            "\n",
            "Warning message in library(package, lib.loc = lib.loc, character.only = TRUE, logical.return = TRUE, :\n",
            "“there is no package called ‘primes’”\n"
          ]
        }
      ]
    },
    {
      "cell_type": "code",
      "source": [
        "# genero numeros primos\n",
        "primos <- generate_primes(min = 100000, max = 1000000)\n",
        "\n",
        "\n",
        "set.seed(102191) # inicializo con mi primer semilla\n",
        "\n",
        "# me quedo con por ejemplo 20 primos al azar\n",
        "semillas <- sample(primos, 20 )\n",
        "\n",
        "print( semillas )"
      ],
      "metadata": {
        "id": "yDU9RyV4FNhZ",
        "outputId": "8cb117f9-8e18-4a9d-b1ae-51a2acb16196",
        "colab": {
          "base_uri": "https://localhost:8080/",
          "height": 73
        }
      },
      "execution_count": null,
      "outputs": [
        {
          "output_type": "error",
          "ename": "ERROR",
          "evalue": "Error in generate_primes(min = 1e+05, max = 1e+06): could not find function \"generate_primes\"\n",
          "traceback": [
            "Error in generate_primes(min = 1e+05, max = 1e+06): could not find function \"generate_primes\"\nTraceback:\n"
          ]
        }
      ]
    },
    {
      "cell_type": "markdown",
      "source": [
        "\n",
        "\n",
        "---\n",
        "\n"
      ],
      "metadata": {
        "id": "eD_cO5VTGGea"
      }
    },
    {
      "cell_type": "code",
      "source": [],
      "metadata": {
        "id": "k-rgoA2ZFll4"
      },
      "execution_count": null,
      "outputs": []
    },
    {
      "cell_type": "markdown",
      "source": [
        "# 4  Medición  50-Monte Carlo Cross Validation\n",
        "## Clase 02  Experimento 4"
      ],
      "metadata": {
        "id": "cZi29THsGil_"
      }
    },
    {
      "cell_type": "markdown",
      "source": [
        "## 4.1  Objetivos\n",
        "Calcular la ganancia del modelo utilizando 50 semillas nuevas generadas a partir de mi semilla primigenia."
      ],
      "metadata": {
        "id": "qFNq6ntVGimN"
      }
    },
    {
      "cell_type": "markdown",
      "source": [
        "## 4.4 Codigo  50 Montecarlo"
      ],
      "metadata": {
        "id": "B6KtuhQCGimP"
      }
    },
    {
      "cell_type": "markdown",
      "source": [
        "Esta parte se debe correr con el runtime en lenguaje **R** Ir al menu, Runtime -> Change Runtime Tipe -> Runtime type -> R"
      ],
      "metadata": {
        "id": "LgGgjPQuGimP"
      }
    },
    {
      "cell_type": "markdown",
      "source": [
        "Este punto demora en correr 60 minutos en Google Colab, con lo cual para continuar con el punto siguiente deberá abrir un nuevo Colab"
      ],
      "metadata": {
        "id": "E82ChuO25OYx"
      }
    },
    {
      "cell_type": "markdown",
      "source": [
        "limpio el ambiente de R"
      ],
      "metadata": {
        "id": "a6AxqLwOGimQ"
      }
    },
    {
      "cell_type": "code",
      "source": [
        "# limpio la memoria\n",
        "rm(list=ls(all.names=TRUE)) # remove all objects\n",
        "gc(full=TRUE, verbose=FALSE) # garbage collection"
      ],
      "metadata": {
        "id": "797Ad0_QGimQ",
        "outputId": "ab764eb8-8511-46bb-eb9e-824c031039a6",
        "colab": {
          "base_uri": "https://localhost:8080/",
          "height": 129
        }
      },
      "execution_count": null,
      "outputs": [
        {
          "output_type": "display_data",
          "data": {
            "text/html": [
              "<table class=\"dataframe\">\n",
              "<caption>A matrix: 2 × 6 of type dbl</caption>\n",
              "<thead>\n",
              "\t<tr><th></th><th scope=col>used</th><th scope=col>(Mb)</th><th scope=col>gc trigger</th><th scope=col>(Mb)</th><th scope=col>max used</th><th scope=col>(Mb)</th></tr>\n",
              "</thead>\n",
              "<tbody>\n",
              "\t<tr><th scope=row>Ncells</th><td> 779538</td><td>41.7</td><td> 1454474</td><td> 77.7</td><td>  1454474</td><td> 77.7</td></tr>\n",
              "\t<tr><th scope=row>Vcells</th><td>1491092</td><td>11.4</td><td>51461927</td><td>392.7</td><td>127394322</td><td>972.0</td></tr>\n",
              "</tbody>\n",
              "</table>\n"
            ],
            "text/markdown": "\nA matrix: 2 × 6 of type dbl\n\n| <!--/--> | used | (Mb) | gc trigger | (Mb) | max used | (Mb) |\n|---|---|---|---|---|---|---|\n| Ncells |  779538 | 41.7 |  1454474 |  77.7 |   1454474 |  77.7 |\n| Vcells | 1491092 | 11.4 | 51461927 | 392.7 | 127394322 | 972.0 |\n\n",
            "text/latex": "A matrix: 2 × 6 of type dbl\n\\begin{tabular}{r|llllll}\n  & used & (Mb) & gc trigger & (Mb) & max used & (Mb)\\\\\n\\hline\n\tNcells &  779538 & 41.7 &  1454474 &  77.7 &   1454474 &  77.7\\\\\n\tVcells & 1491092 & 11.4 & 51461927 & 392.7 & 127394322 & 972.0\\\\\n\\end{tabular}\n",
            "text/plain": [
              "       used    (Mb) gc trigger (Mb)  max used  (Mb) \n",
              "Ncells  779538 41.7  1454474    77.7   1454474  77.7\n",
              "Vcells 1491092 11.4 51461927   392.7 127394322 972.0"
            ]
          },
          "metadata": {}
        }
      ]
    },
    {
      "cell_type": "markdown",
      "source": [
        "* Instalacion de la libreria  rpart.plot  para dibujar el arbol\n",
        "* invocacion de las librerias  **data.table** y  **rpart**"
      ],
      "metadata": {
        "id": "v0CepvbjGimQ"
      }
    },
    {
      "cell_type": "code",
      "source": [
        "# cargo las librerias que necesito\n",
        "require(\"data.table\")\n",
        "require(\"rpart\")\n",
        "require(\"parallel\")\n",
        "\n",
        "if (!require(\"primes\")) install.packages(\"primes\")\n",
        "require(\"primes\")"
      ],
      "metadata": {
        "id": "CRkZ1V2_GimR",
        "outputId": "23559a0b-cda7-4f03-f425-b85087d9cac7",
        "colab": {
          "base_uri": "https://localhost:8080/"
        }
      },
      "execution_count": null,
      "outputs": [
        {
          "output_type": "stream",
          "name": "stderr",
          "text": [
            "Loading required package: primes\n",
            "\n",
            "Warning message in library(package, lib.loc = lib.loc, character.only = TRUE, logical.return = TRUE, :\n",
            "“there is no package called ‘primes’”\n",
            "Installing package into ‘/usr/local/lib/R/site-library’\n",
            "(as ‘lib’ is unspecified)\n",
            "\n",
            "Loading required package: primes\n",
            "\n"
          ]
        }
      ]
    },
    {
      "cell_type": "markdown",
      "source": [
        "###  Accion a Realizar\n",
        "PARAM$semilla_primigenia  debe reemplazarse por SU primer semilla"
      ],
      "metadata": {
        "id": "PZKJG-nSGimR"
      }
    },
    {
      "cell_type": "code",
      "source": [
        "PARAM <- list()\n",
        "PARAM$semilla_primigenia <- 943153\n",
        "PARAM$qsemillas <- 50\n",
        "PARAM$training_pct <- 70L  # entre  1L y 99L\n",
        "\n",
        "PARAM$rpart <- list (\n",
        "  \"cp\" = -1, # complejidad minima\n",
        "  \"minsplit\" = 170, # minima cantidad de regs en un nodo para hacer el split\n",
        "  \"minbucket\" = 70, # minima cantidad de regs en una hoja\n",
        "  \"maxdepth\" = 7 # profundidad máxima del arbol\n",
        ")\n"
      ],
      "metadata": {
        "id": "4kbkA-2HGimR"
      },
      "execution_count": null,
      "outputs": []
    },
    {
      "cell_type": "code",
      "source": [
        "# particionar agrega una columna llamada fold a un dataset\n",
        "#  que consiste en una particion estratificada segun agrupa\n",
        "\n",
        "# particionar( data=dataset, division=c(70,30),\n",
        "#  agrupa=clase_ternaria, seed=semilla)   crea una particion 70, 30\n",
        "\n",
        "particionar <- function(\n",
        "    data, division, agrupa = \"\",\n",
        "    campo = \"fold\", start = 1, seed = NA) {\n",
        "  if (!is.na(seed)) set.seed(seed)\n",
        "\n",
        "  bloque <- unlist(mapply(function(x, y) {\n",
        "    rep(y, x)\n",
        "  }, division, seq(from = start, length.out = length(division))))\n",
        "\n",
        "  data[, (campo) := sample(rep(bloque, ceiling(.N / length(bloque))))[1:.N],\n",
        "    by = agrupa\n",
        "  ]\n",
        "}\n"
      ],
      "metadata": {
        "id": "HME0qUeOGimS"
      },
      "execution_count": null,
      "outputs": []
    },
    {
      "cell_type": "code",
      "source": [
        "\n",
        "ArbolEstimarGanancia <- function(semilla, param_basicos) {\n",
        "  # particiono estratificadamente el dataset\n",
        "  particionar(dataset,\n",
        "    division = c(param_basicos$training_pct, 100L -param_basicos$training_pct),\n",
        "    agrupa = \"clase_ternaria\",\n",
        "    seed = semilla # aqui se usa SU semilla\n",
        "  )\n",
        "\n",
        "  # genero el modelo\n",
        "  # predecir clase_ternaria a partir del resto\n",
        "  modelo <- rpart(\"clase_ternaria ~ .\",\n",
        "    data = dataset[fold == 1], # fold==1  es training,  el 70% de los datos\n",
        "    xval = 0,\n",
        "    control = param_basicos$rpart\n",
        "  ) # aqui van los parametros del arbol\n",
        "\n",
        "  # aplico el modelo a los datos de testing\n",
        "  prediccion <- predict(modelo, # el modelo que genere recien\n",
        "    dataset[fold == 2], # fold==2  es testing, el 30% de los datos\n",
        "    type = \"prob\"\n",
        "  ) # type= \"prob\"  es que devuelva la probabilidad\n",
        "\n",
        "  # prediccion es una matriz con TRES columnas,\n",
        "  #  llamadas \"BAJA+1\", \"BAJA+2\"  y \"CONTINUA\"\n",
        "  # cada columna es el vector de probabilidades\n",
        "\n",
        "\n",
        "  # calculo la ganancia en testing  qu es fold==2\n",
        "  ganancia_test <- dataset[\n",
        "    fold == 2,\n",
        "    sum(ifelse(prediccion[, \"BAJA+2\"] > 0.025,\n",
        "      ifelse(clase_ternaria == \"BAJA+2\", 117000, -3000),\n",
        "      0\n",
        "    ))\n",
        "  ]\n",
        "\n",
        "  # escalo la ganancia como si fuera todo el dataset\n",
        "  ganancia_test_normalizada <- ganancia_test / (( 100 - PARAM$training_pct ) / 100 )\n",
        "\n",
        "  return(list(\n",
        "    \"semilla\" = semilla,\n",
        "    \"testing\" = dataset[fold == 2, .N],\n",
        "    \"testing_pos\" = dataset[fold == 2 & clase_ternaria == \"BAJA+2\", .N],\n",
        "    \"envios\" = dataset[fold == 2, sum(prediccion[, \"BAJA+2\"] > 0.025)],\n",
        "    \"aciertos\" = dataset[\n",
        "        fold == 2,\n",
        "        sum(prediccion[, \"BAJA+2\"] > 0.025 & clase_ternaria == \"BAJA+2\")\n",
        "    ],\n",
        "    \"ganancia_test\" = ganancia_test_normalizada\n",
        "  ))\n",
        "}\n"
      ],
      "metadata": {
        "id": "ro9Ufoi-GimS"
      },
      "execution_count": null,
      "outputs": []
    },
    {
      "cell_type": "code",
      "source": [
        "# carpeta de trabajo\n",
        "setwd(\"/content/buckets/b1/exp\")\n",
        "experimento <- \"exp204\"\n",
        "dir.create(experimento, showWarnings=FALSE)\n",
        "setwd( paste0(\"/content/buckets/b1/exp/\", experimento ))"
      ],
      "metadata": {
        "id": "gz7LgltwGimT"
      },
      "execution_count": null,
      "outputs": []
    },
    {
      "cell_type": "code",
      "source": [
        "# lectura del dataset\n",
        "dataset <- fread(\"/content/datasets/dataset_pequeno.csv\")\n",
        "\n",
        "# trabajo solo con los datos con clase, es decir 202107\n",
        "dataset <- dataset[clase_ternaria != \"\"]"
      ],
      "metadata": {
        "id": "xRXKHeLeGimT"
      },
      "execution_count": null,
      "outputs": []
    },
    {
      "cell_type": "code",
      "source": [
        "# genero numeros primos\n",
        "primos <- generate_primes(min = 100000, max = 1000000)\n",
        "set.seed(PARAM$semilla_primigenia) # inicializo\n",
        "\n",
        "# me quedo con PARAM$qsemillas   semillas\n",
        "PARAM$semillas <- sample(primos, PARAM$qsemillas )"
      ],
      "metadata": {
        "id": "MdpZ10qiHSZy"
      },
      "execution_count": null,
      "outputs": []
    },
    {
      "cell_type": "code",
      "source": [
        "\n",
        "# la funcion mcmapply  llama a la funcion ArbolEstimarGanancia\n",
        "#  tantas veces como valores tenga el vector  PARAM$semillas\n",
        "salidas <- mcmapply(ArbolEstimarGanancia,\n",
        "  PARAM$semillas, # paso el vector de semillas\n",
        "  MoreArgs = list(PARAM), # aqui paso el segundo parametro\n",
        "  SIMPLIFY = FALSE,\n",
        "  mc.cores = detectCores()\n",
        ")\n",
        "\n",
        "# muestro la lista de las salidas en testing\n",
        "#  para la particion realizada con cada semilla\n",
        "salidas\n"
      ],
      "metadata": {
        "id": "r-YaawpgGimU",
        "outputId": "d8a2b865-6c31-44d8-e190-4860d05f1d50",
        "colab": {
          "base_uri": "https://localhost:8080/",
          "height": 1000
        }
      },
      "execution_count": null,
      "outputs": [
        {
          "output_type": "display_data",
          "data": {
            "text/html": [
              "<ol>\n",
              "\t<li><dl>\n",
              "\t<dt>$semilla</dt>\n",
              "\t\t<dd>816581</dd>\n",
              "\t<dt>$testing</dt>\n",
              "\t\t<dd>49378</dd>\n",
              "\t<dt>$testing_pos</dt>\n",
              "\t\t<dd>372</dd>\n",
              "\t<dt>$envios</dt>\n",
              "\t\t<dd>3814</dd>\n",
              "\t<dt>$aciertos</dt>\n",
              "\t\t<dd>219</dd>\n",
              "\t<dt>$ganancia_test</dt>\n",
              "\t\t<dd>49460000</dd>\n",
              "</dl>\n",
              "</li>\n",
              "\t<li><dl>\n",
              "\t<dt>$semilla</dt>\n",
              "\t\t<dd>658841</dd>\n",
              "\t<dt>$testing</dt>\n",
              "\t\t<dd>49369</dd>\n",
              "\t<dt>$testing_pos</dt>\n",
              "\t\t<dd>368</dd>\n",
              "\t<dt>$envios</dt>\n",
              "\t\t<dd>3775</dd>\n",
              "\t<dt>$aciertos</dt>\n",
              "\t\t<dd>227</dd>\n",
              "\t<dt>$ganancia_test</dt>\n",
              "\t\t<dd>53050000</dd>\n",
              "</dl>\n",
              "</li>\n",
              "\t<li><dl>\n",
              "\t<dt>$semilla</dt>\n",
              "\t\t<dd>700871</dd>\n",
              "\t<dt>$testing</dt>\n",
              "\t\t<dd>49373</dd>\n",
              "\t<dt>$testing_pos</dt>\n",
              "\t\t<dd>371</dd>\n",
              "\t<dt>$envios</dt>\n",
              "\t\t<dd>2940</dd>\n",
              "\t<dt>$aciertos</dt>\n",
              "\t\t<dd>183</dd>\n",
              "\t<dt>$ganancia_test</dt>\n",
              "\t\t<dd>43800000</dd>\n",
              "</dl>\n",
              "</li>\n",
              "\t<li><dl>\n",
              "\t<dt>$semilla</dt>\n",
              "\t\t<dd>612407</dd>\n",
              "\t<dt>$testing</dt>\n",
              "\t\t<dd>49389</dd>\n",
              "\t<dt>$testing_pos</dt>\n",
              "\t\t<dd>375</dd>\n",
              "\t<dt>$envios</dt>\n",
              "\t\t<dd>3020</dd>\n",
              "\t<dt>$aciertos</dt>\n",
              "\t\t<dd>185</dd>\n",
              "\t<dt>$ganancia_test</dt>\n",
              "\t\t<dd>43800000</dd>\n",
              "</dl>\n",
              "</li>\n",
              "\t<li><dl>\n",
              "\t<dt>$semilla</dt>\n",
              "\t\t<dd>258443</dd>\n",
              "\t<dt>$testing</dt>\n",
              "\t\t<dd>49375</dd>\n",
              "\t<dt>$testing_pos</dt>\n",
              "\t\t<dd>374</dd>\n",
              "\t<dt>$envios</dt>\n",
              "\t\t<dd>3492</dd>\n",
              "\t<dt>$aciertos</dt>\n",
              "\t\t<dd>201</dd>\n",
              "\t<dt>$ganancia_test</dt>\n",
              "\t\t<dd>45480000</dd>\n",
              "</dl>\n",
              "</li>\n",
              "\t<li><dl>\n",
              "\t<dt>$semilla</dt>\n",
              "\t\t<dd>999133</dd>\n",
              "\t<dt>$testing</dt>\n",
              "\t\t<dd>49383</dd>\n",
              "\t<dt>$testing_pos</dt>\n",
              "\t\t<dd>372</dd>\n",
              "\t<dt>$envios</dt>\n",
              "\t\t<dd>2917</dd>\n",
              "\t<dt>$aciertos</dt>\n",
              "\t\t<dd>191</dd>\n",
              "\t<dt>$ganancia_test</dt>\n",
              "\t\t<dd>47230000</dd>\n",
              "</dl>\n",
              "</li>\n",
              "\t<li><dl>\n",
              "\t<dt>$semilla</dt>\n",
              "\t\t<dd>945367</dd>\n",
              "\t<dt>$testing</dt>\n",
              "\t\t<dd>49385</dd>\n",
              "\t<dt>$testing_pos</dt>\n",
              "\t\t<dd>374</dd>\n",
              "\t<dt>$envios</dt>\n",
              "\t\t<dd>2675</dd>\n",
              "\t<dt>$aciertos</dt>\n",
              "\t\t<dd>192</dd>\n",
              "\t<dt>$ganancia_test</dt>\n",
              "\t\t<dd>50050000</dd>\n",
              "</dl>\n",
              "</li>\n",
              "\t<li><dl>\n",
              "\t<dt>$semilla</dt>\n",
              "\t\t<dd>715823</dd>\n",
              "\t<dt>$testing</dt>\n",
              "\t\t<dd>49383</dd>\n",
              "\t<dt>$testing_pos</dt>\n",
              "\t\t<dd>373</dd>\n",
              "\t<dt>$envios</dt>\n",
              "\t\t<dd>3455</dd>\n",
              "\t<dt>$aciertos</dt>\n",
              "\t\t<dd>211</dd>\n",
              "\t<dt>$ganancia_test</dt>\n",
              "\t\t<dd>49850000</dd>\n",
              "</dl>\n",
              "</li>\n",
              "\t<li><dl>\n",
              "\t<dt>$semilla</dt>\n",
              "\t\t<dd>280103</dd>\n",
              "\t<dt>$testing</dt>\n",
              "\t\t<dd>49385</dd>\n",
              "\t<dt>$testing_pos</dt>\n",
              "\t\t<dd>376</dd>\n",
              "\t<dt>$envios</dt>\n",
              "\t\t<dd>3417</dd>\n",
              "\t<dt>$aciertos</dt>\n",
              "\t\t<dd>211</dd>\n",
              "\t<dt>$ganancia_test</dt>\n",
              "\t\t<dd>50230000</dd>\n",
              "</dl>\n",
              "</li>\n",
              "\t<li><dl>\n",
              "\t<dt>$semilla</dt>\n",
              "\t\t<dd>448421</dd>\n",
              "\t<dt>$testing</dt>\n",
              "\t\t<dd>49377</dd>\n",
              "\t<dt>$testing_pos</dt>\n",
              "\t\t<dd>371</dd>\n",
              "\t<dt>$envios</dt>\n",
              "\t\t<dd>3643</dd>\n",
              "\t<dt>$aciertos</dt>\n",
              "\t\t<dd>192</dd>\n",
              "\t<dt>$ganancia_test</dt>\n",
              "\t\t<dd>40370000</dd>\n",
              "</dl>\n",
              "</li>\n",
              "\t<li><dl>\n",
              "\t<dt>$semilla</dt>\n",
              "\t\t<dd>368531</dd>\n",
              "\t<dt>$testing</dt>\n",
              "\t\t<dd>49383</dd>\n",
              "\t<dt>$testing_pos</dt>\n",
              "\t\t<dd>375</dd>\n",
              "\t<dt>$envios</dt>\n",
              "\t\t<dd>3940</dd>\n",
              "\t<dt>$aciertos</dt>\n",
              "\t\t<dd>203</dd>\n",
              "\t<dt>$ganancia_test</dt>\n",
              "\t\t<dd>41800000</dd>\n",
              "</dl>\n",
              "</li>\n",
              "\t<li><dl>\n",
              "\t<dt>$semilla</dt>\n",
              "\t\t<dd>885551</dd>\n",
              "\t<dt>$testing</dt>\n",
              "\t\t<dd>49370</dd>\n",
              "\t<dt>$testing_pos</dt>\n",
              "\t\t<dd>376</dd>\n",
              "\t<dt>$envios</dt>\n",
              "\t\t<dd>3601</dd>\n",
              "\t<dt>$aciertos</dt>\n",
              "\t\t<dd>213</dd>\n",
              "\t<dt>$ganancia_test</dt>\n",
              "\t\t<dd>49190000</dd>\n",
              "</dl>\n",
              "</li>\n",
              "\t<li><dl>\n",
              "\t<dt>$semilla</dt>\n",
              "\t\t<dd>942079</dd>\n",
              "\t<dt>$testing</dt>\n",
              "\t\t<dd>49374</dd>\n",
              "\t<dt>$testing_pos</dt>\n",
              "\t\t<dd>374</dd>\n",
              "\t<dt>$envios</dt>\n",
              "\t\t<dd>3201</dd>\n",
              "\t<dt>$aciertos</dt>\n",
              "\t\t<dd>207</dd>\n",
              "\t<dt>$ganancia_test</dt>\n",
              "\t\t<dd>50790000</dd>\n",
              "</dl>\n",
              "</li>\n",
              "\t<li><dl>\n",
              "\t<dt>$semilla</dt>\n",
              "\t\t<dd>201389</dd>\n",
              "\t<dt>$testing</dt>\n",
              "\t\t<dd>49382</dd>\n",
              "\t<dt>$testing_pos</dt>\n",
              "\t\t<dd>376</dd>\n",
              "\t<dt>$envios</dt>\n",
              "\t\t<dd>3716</dd>\n",
              "\t<dt>$aciertos</dt>\n",
              "\t\t<dd>224</dd>\n",
              "\t<dt>$ganancia_test</dt>\n",
              "\t\t<dd>52440000</dd>\n",
              "</dl>\n",
              "</li>\n",
              "\t<li><dl>\n",
              "\t<dt>$semilla</dt>\n",
              "\t\t<dd>444287</dd>\n",
              "\t<dt>$testing</dt>\n",
              "\t\t<dd>49367</dd>\n",
              "\t<dt>$testing_pos</dt>\n",
              "\t\t<dd>374</dd>\n",
              "\t<dt>$envios</dt>\n",
              "\t\t<dd>4373</dd>\n",
              "\t<dt>$aciertos</dt>\n",
              "\t\t<dd>242</dd>\n",
              "\t<dt>$ganancia_test</dt>\n",
              "\t\t<dd>53070000</dd>\n",
              "</dl>\n",
              "</li>\n",
              "\t<li><dl>\n",
              "\t<dt>$semilla</dt>\n",
              "\t\t<dd>806543</dd>\n",
              "\t<dt>$testing</dt>\n",
              "\t\t<dd>49387</dd>\n",
              "\t<dt>$testing_pos</dt>\n",
              "\t\t<dd>376</dd>\n",
              "\t<dt>$envios</dt>\n",
              "\t\t<dd>3365</dd>\n",
              "\t<dt>$aciertos</dt>\n",
              "\t\t<dd>198</dd>\n",
              "\t<dt>$ganancia_test</dt>\n",
              "\t\t<dd>45550000</dd>\n",
              "</dl>\n",
              "</li>\n",
              "\t<li><dl>\n",
              "\t<dt>$semilla</dt>\n",
              "\t\t<dd>986719</dd>\n",
              "\t<dt>$testing</dt>\n",
              "\t\t<dd>49377</dd>\n",
              "\t<dt>$testing_pos</dt>\n",
              "\t\t<dd>375</dd>\n",
              "\t<dt>$envios</dt>\n",
              "\t\t<dd>2620</dd>\n",
              "\t<dt>$aciertos</dt>\n",
              "\t\t<dd>169</dd>\n",
              "\t<dt>$ganancia_test</dt>\n",
              "\t\t<dd>41400000</dd>\n",
              "</dl>\n",
              "</li>\n",
              "\t<li><dl>\n",
              "\t<dt>$semilla</dt>\n",
              "\t\t<dd>550763</dd>\n",
              "\t<dt>$testing</dt>\n",
              "\t\t<dd>49376</dd>\n",
              "\t<dt>$testing_pos</dt>\n",
              "\t\t<dd>375</dd>\n",
              "\t<dt>$envios</dt>\n",
              "\t\t<dd>3951</dd>\n",
              "\t<dt>$aciertos</dt>\n",
              "\t\t<dd>228</dd>\n",
              "\t<dt>$ganancia_test</dt>\n",
              "\t\t<dd>51690000</dd>\n",
              "</dl>\n",
              "</li>\n",
              "\t<li><dl>\n",
              "\t<dt>$semilla</dt>\n",
              "\t\t<dd>420683</dd>\n",
              "\t<dt>$testing</dt>\n",
              "\t\t<dd>49363</dd>\n",
              "\t<dt>$testing_pos</dt>\n",
              "\t\t<dd>369</dd>\n",
              "\t<dt>$envios</dt>\n",
              "\t\t<dd>3682</dd>\n",
              "\t<dt>$aciertos</dt>\n",
              "\t\t<dd>218</dd>\n",
              "\t<dt>$ganancia_test</dt>\n",
              "\t\t<dd>50380000</dd>\n",
              "</dl>\n",
              "</li>\n",
              "\t<li><dl>\n",
              "\t<dt>$semilla</dt>\n",
              "\t\t<dd>897779</dd>\n",
              "\t<dt>$testing</dt>\n",
              "\t\t<dd>49367</dd>\n",
              "\t<dt>$testing_pos</dt>\n",
              "\t\t<dd>371</dd>\n",
              "\t<dt>$envios</dt>\n",
              "\t\t<dd>3173</dd>\n",
              "\t<dt>$aciertos</dt>\n",
              "\t\t<dd>189</dd>\n",
              "\t<dt>$ganancia_test</dt>\n",
              "\t\t<dd>43870000</dd>\n",
              "</dl>\n",
              "</li>\n",
              "\t<li><dl>\n",
              "\t<dt>$semilla</dt>\n",
              "\t\t<dd>450707</dd>\n",
              "\t<dt>$testing</dt>\n",
              "\t\t<dd>49390</dd>\n",
              "\t<dt>$testing_pos</dt>\n",
              "\t\t<dd>379</dd>\n",
              "\t<dt>$envios</dt>\n",
              "\t\t<dd>3532</dd>\n",
              "\t<dt>$aciertos</dt>\n",
              "\t\t<dd>225</dd>\n",
              "\t<dt>$ganancia_test</dt>\n",
              "\t\t<dd>54680000</dd>\n",
              "</dl>\n",
              "</li>\n",
              "\t<li><dl>\n",
              "\t<dt>$semilla</dt>\n",
              "\t\t<dd>208441</dd>\n",
              "\t<dt>$testing</dt>\n",
              "\t\t<dd>49376</dd>\n",
              "\t<dt>$testing_pos</dt>\n",
              "\t\t<dd>373</dd>\n",
              "\t<dt>$envios</dt>\n",
              "\t\t<dd>2860</dd>\n",
              "\t<dt>$aciertos</dt>\n",
              "\t\t<dd>178</dd>\n",
              "\t<dt>$ganancia_test</dt>\n",
              "\t\t<dd>42600000</dd>\n",
              "</dl>\n",
              "</li>\n",
              "\t<li><dl>\n",
              "\t<dt>$semilla</dt>\n",
              "\t\t<dd>139547</dd>\n",
              "\t<dt>$testing</dt>\n",
              "\t\t<dd>49381</dd>\n",
              "\t<dt>$testing_pos</dt>\n",
              "\t\t<dd>376</dd>\n",
              "\t<dt>$envios</dt>\n",
              "\t\t<dd>3678</dd>\n",
              "\t<dt>$aciertos</dt>\n",
              "\t\t<dd>212</dd>\n",
              "\t<dt>$ganancia_test</dt>\n",
              "\t\t<dd>48020000</dd>\n",
              "</dl>\n",
              "</li>\n",
              "\t<li><dl>\n",
              "\t<dt>$semilla</dt>\n",
              "\t\t<dd>166189</dd>\n",
              "\t<dt>$testing</dt>\n",
              "\t\t<dd>49390</dd>\n",
              "\t<dt>$testing_pos</dt>\n",
              "\t\t<dd>377</dd>\n",
              "\t<dt>$envios</dt>\n",
              "\t\t<dd>3514</dd>\n",
              "\t<dt>$aciertos</dt>\n",
              "\t\t<dd>210</dd>\n",
              "\t<dt>$ganancia_test</dt>\n",
              "\t\t<dd>48860000</dd>\n",
              "</dl>\n",
              "</li>\n",
              "\t<li><dl>\n",
              "\t<dt>$semilla</dt>\n",
              "\t\t<dd>812299</dd>\n",
              "\t<dt>$testing</dt>\n",
              "\t\t<dd>49386</dd>\n",
              "\t<dt>$testing_pos</dt>\n",
              "\t\t<dd>381</dd>\n",
              "\t<dt>$envios</dt>\n",
              "\t\t<dd>3565</dd>\n",
              "\t<dt>$aciertos</dt>\n",
              "\t\t<dd>219</dd>\n",
              "\t<dt>$ganancia_test</dt>\n",
              "\t\t<dd>51950000</dd>\n",
              "</dl>\n",
              "</li>\n",
              "\t<li><dl>\n",
              "\t<dt>$semilla</dt>\n",
              "\t\t<dd>449963</dd>\n",
              "\t<dt>$testing</dt>\n",
              "\t\t<dd>49377</dd>\n",
              "\t<dt>$testing_pos</dt>\n",
              "\t\t<dd>373</dd>\n",
              "\t<dt>$envios</dt>\n",
              "\t\t<dd>3285</dd>\n",
              "\t<dt>$aciertos</dt>\n",
              "\t\t<dd>188</dd>\n",
              "\t<dt>$ganancia_test</dt>\n",
              "\t\t<dd>42350000</dd>\n",
              "</dl>\n",
              "</li>\n",
              "\t<li><dl>\n",
              "\t<dt>$semilla</dt>\n",
              "\t\t<dd>582737</dd>\n",
              "\t<dt>$testing</dt>\n",
              "\t\t<dd>49373</dd>\n",
              "\t<dt>$testing_pos</dt>\n",
              "\t\t<dd>370</dd>\n",
              "\t<dt>$envios</dt>\n",
              "\t\t<dd>3656</dd>\n",
              "\t<dt>$aciertos</dt>\n",
              "\t\t<dd>202</dd>\n",
              "\t<dt>$ganancia_test</dt>\n",
              "\t\t<dd>44240000</dd>\n",
              "</dl>\n",
              "</li>\n",
              "\t<li><dl>\n",
              "\t<dt>$semilla</dt>\n",
              "\t\t<dd>715877</dd>\n",
              "\t<dt>$testing</dt>\n",
              "\t\t<dd>49380</dd>\n",
              "\t<dt>$testing_pos</dt>\n",
              "\t\t<dd>371</dd>\n",
              "\t<dt>$envios</dt>\n",
              "\t\t<dd>3571</dd>\n",
              "\t<dt>$aciertos</dt>\n",
              "\t\t<dd>219</dd>\n",
              "\t<dt>$ganancia_test</dt>\n",
              "\t\t<dd>51890000</dd>\n",
              "</dl>\n",
              "</li>\n",
              "\t<li><dl>\n",
              "\t<dt>$semilla</dt>\n",
              "\t\t<dd>102503</dd>\n",
              "\t<dt>$testing</dt>\n",
              "\t\t<dd>49382</dd>\n",
              "\t<dt>$testing_pos</dt>\n",
              "\t\t<dd>376</dd>\n",
              "\t<dt>$envios</dt>\n",
              "\t\t<dd>3725</dd>\n",
              "\t<dt>$aciertos</dt>\n",
              "\t\t<dd>226</dd>\n",
              "\t<dt>$ganancia_test</dt>\n",
              "\t\t<dd>53150000</dd>\n",
              "</dl>\n",
              "</li>\n",
              "\t<li><dl>\n",
              "\t<dt>$semilla</dt>\n",
              "\t\t<dd>189853</dd>\n",
              "\t<dt>$testing</dt>\n",
              "\t\t<dd>49392</dd>\n",
              "\t<dt>$testing_pos</dt>\n",
              "\t\t<dd>380</dd>\n",
              "\t<dt>$envios</dt>\n",
              "\t\t<dd>3725</dd>\n",
              "\t<dt>$aciertos</dt>\n",
              "\t\t<dd>227</dd>\n",
              "\t<dt>$ganancia_test</dt>\n",
              "\t\t<dd>53550000</dd>\n",
              "</dl>\n",
              "</li>\n",
              "\t<li><dl>\n",
              "\t<dt>$semilla</dt>\n",
              "\t\t<dd>924019</dd>\n",
              "\t<dt>$testing</dt>\n",
              "\t\t<dd>49371</dd>\n",
              "\t<dt>$testing_pos</dt>\n",
              "\t\t<dd>372</dd>\n",
              "\t<dt>$envios</dt>\n",
              "\t\t<dd>3918</dd>\n",
              "\t<dt>$aciertos</dt>\n",
              "\t\t<dd>211</dd>\n",
              "\t<dt>$ganancia_test</dt>\n",
              "\t\t<dd>45220000</dd>\n",
              "</dl>\n",
              "</li>\n",
              "\t<li><dl>\n",
              "\t<dt>$semilla</dt>\n",
              "\t\t<dd>310861</dd>\n",
              "\t<dt>$testing</dt>\n",
              "\t\t<dd>49383</dd>\n",
              "\t<dt>$testing_pos</dt>\n",
              "\t\t<dd>375</dd>\n",
              "\t<dt>$envios</dt>\n",
              "\t\t<dd>3003</dd>\n",
              "\t<dt>$aciertos</dt>\n",
              "\t\t<dd>204</dd>\n",
              "\t<dt>$ganancia_test</dt>\n",
              "\t\t<dd>51570000</dd>\n",
              "</dl>\n",
              "</li>\n",
              "\t<li><dl>\n",
              "\t<dt>$semilla</dt>\n",
              "\t\t<dd>661993</dd>\n",
              "\t<dt>$testing</dt>\n",
              "\t\t<dd>49379</dd>\n",
              "\t<dt>$testing_pos</dt>\n",
              "\t\t<dd>376</dd>\n",
              "\t<dt>$envios</dt>\n",
              "\t\t<dd>3311</dd>\n",
              "\t<dt>$aciertos</dt>\n",
              "\t\t<dd>202</dd>\n",
              "\t<dt>$ganancia_test</dt>\n",
              "\t\t<dd>47690000</dd>\n",
              "</dl>\n",
              "</li>\n",
              "\t<li><dl>\n",
              "\t<dt>$semilla</dt>\n",
              "\t\t<dd>773063</dd>\n",
              "\t<dt>$testing</dt>\n",
              "\t\t<dd>49385</dd>\n",
              "\t<dt>$testing_pos</dt>\n",
              "\t\t<dd>376</dd>\n",
              "\t<dt>$envios</dt>\n",
              "\t\t<dd>3337</dd>\n",
              "\t<dt>$aciertos</dt>\n",
              "\t\t<dd>202</dd>\n",
              "\t<dt>$ganancia_test</dt>\n",
              "\t\t<dd>47430000</dd>\n",
              "</dl>\n",
              "</li>\n",
              "\t<li><dl>\n",
              "\t<dt>$semilla</dt>\n",
              "\t\t<dd>420037</dd>\n",
              "\t<dt>$testing</dt>\n",
              "\t\t<dd>49371</dd>\n",
              "\t<dt>$testing_pos</dt>\n",
              "\t\t<dd>370</dd>\n",
              "\t<dt>$envios</dt>\n",
              "\t\t<dd>3206</dd>\n",
              "\t<dt>$aciertos</dt>\n",
              "\t\t<dd>196</dd>\n",
              "\t<dt>$ganancia_test</dt>\n",
              "\t\t<dd>46340000</dd>\n",
              "</dl>\n",
              "</li>\n",
              "\t<li><dl>\n",
              "\t<dt>$semilla</dt>\n",
              "\t\t<dd>464741</dd>\n",
              "\t<dt>$testing</dt>\n",
              "\t\t<dd>49370</dd>\n",
              "\t<dt>$testing_pos</dt>\n",
              "\t\t<dd>375</dd>\n",
              "\t<dt>$envios</dt>\n",
              "\t\t<dd>2961</dd>\n",
              "\t<dt>$aciertos</dt>\n",
              "\t\t<dd>184</dd>\n",
              "\t<dt>$ganancia_test</dt>\n",
              "\t\t<dd>43990000</dd>\n",
              "</dl>\n",
              "</li>\n",
              "\t<li><dl>\n",
              "\t<dt>$semilla</dt>\n",
              "\t\t<dd>465931</dd>\n",
              "\t<dt>$testing</dt>\n",
              "\t\t<dd>49391</dd>\n",
              "\t<dt>$testing_pos</dt>\n",
              "\t\t<dd>380</dd>\n",
              "\t<dt>$envios</dt>\n",
              "\t\t<dd>3206</dd>\n",
              "\t<dt>$aciertos</dt>\n",
              "\t\t<dd>206</dd>\n",
              "\t<dt>$ganancia_test</dt>\n",
              "\t\t<dd>50340000</dd>\n",
              "</dl>\n",
              "</li>\n",
              "\t<li><dl>\n",
              "\t<dt>$semilla</dt>\n",
              "\t\t<dd>143107</dd>\n",
              "\t<dt>$testing</dt>\n",
              "\t\t<dd>49379</dd>\n",
              "\t<dt>$testing_pos</dt>\n",
              "\t\t<dd>376</dd>\n",
              "\t<dt>$envios</dt>\n",
              "\t\t<dd>2829</dd>\n",
              "\t<dt>$aciertos</dt>\n",
              "\t\t<dd>188</dd>\n",
              "\t<dt>$ganancia_test</dt>\n",
              "\t\t<dd>46910000</dd>\n",
              "</dl>\n",
              "</li>\n",
              "\t<li><dl>\n",
              "\t<dt>$semilla</dt>\n",
              "\t\t<dd>136511</dd>\n",
              "\t<dt>$testing</dt>\n",
              "\t\t<dd>49376</dd>\n",
              "\t<dt>$testing_pos</dt>\n",
              "\t\t<dd>374</dd>\n",
              "\t<dt>$envios</dt>\n",
              "\t\t<dd>3540</dd>\n",
              "\t<dt>$aciertos</dt>\n",
              "\t\t<dd>216</dd>\n",
              "\t<dt>$ganancia_test</dt>\n",
              "\t\t<dd>5.1e+07</dd>\n",
              "</dl>\n",
              "</li>\n",
              "\t<li><dl>\n",
              "\t<dt>$semilla</dt>\n",
              "\t\t<dd>900743</dd>\n",
              "\t<dt>$testing</dt>\n",
              "\t\t<dd>49364</dd>\n",
              "\t<dt>$testing_pos</dt>\n",
              "\t\t<dd>373</dd>\n",
              "\t<dt>$envios</dt>\n",
              "\t\t<dd>3285</dd>\n",
              "\t<dt>$aciertos</dt>\n",
              "\t\t<dd>192</dd>\n",
              "\t<dt>$ganancia_test</dt>\n",
              "\t\t<dd>43950000</dd>\n",
              "</dl>\n",
              "</li>\n",
              "\t<li><dl>\n",
              "\t<dt>$semilla</dt>\n",
              "\t\t<dd>281683</dd>\n",
              "\t<dt>$testing</dt>\n",
              "\t\t<dd>49388</dd>\n",
              "\t<dt>$testing_pos</dt>\n",
              "\t\t<dd>378</dd>\n",
              "\t<dt>$envios</dt>\n",
              "\t\t<dd>3592</dd>\n",
              "\t<dt>$aciertos</dt>\n",
              "\t\t<dd>216</dd>\n",
              "\t<dt>$ganancia_test</dt>\n",
              "\t\t<dd>50480000</dd>\n",
              "</dl>\n",
              "</li>\n",
              "\t<li><dl>\n",
              "\t<dt>$semilla</dt>\n",
              "\t\t<dd>421913</dd>\n",
              "\t<dt>$testing</dt>\n",
              "\t\t<dd>49378</dd>\n",
              "\t<dt>$testing_pos</dt>\n",
              "\t\t<dd>372</dd>\n",
              "\t<dt>$envios</dt>\n",
              "\t\t<dd>3493</dd>\n",
              "\t<dt>$aciertos</dt>\n",
              "\t\t<dd>213</dd>\n",
              "\t<dt>$ganancia_test</dt>\n",
              "\t\t<dd>50270000</dd>\n",
              "</dl>\n",
              "</li>\n",
              "\t<li><dl>\n",
              "\t<dt>$semilla</dt>\n",
              "\t\t<dd>177011</dd>\n",
              "\t<dt>$testing</dt>\n",
              "\t\t<dd>49370</dd>\n",
              "\t<dt>$testing_pos</dt>\n",
              "\t\t<dd>371</dd>\n",
              "\t<dt>$envios</dt>\n",
              "\t\t<dd>3220</dd>\n",
              "\t<dt>$aciertos</dt>\n",
              "\t\t<dd>193</dd>\n",
              "\t<dt>$ganancia_test</dt>\n",
              "\t\t<dd>4.5e+07</dd>\n",
              "</dl>\n",
              "</li>\n",
              "\t<li><dl>\n",
              "\t<dt>$semilla</dt>\n",
              "\t\t<dd>946823</dd>\n",
              "\t<dt>$testing</dt>\n",
              "\t\t<dd>49373</dd>\n",
              "\t<dt>$testing_pos</dt>\n",
              "\t\t<dd>369</dd>\n",
              "\t<dt>$envios</dt>\n",
              "\t\t<dd>3541</dd>\n",
              "\t<dt>$aciertos</dt>\n",
              "\t\t<dd>203</dd>\n",
              "\t<dt>$ganancia_test</dt>\n",
              "\t\t<dd>45790000</dd>\n",
              "</dl>\n",
              "</li>\n",
              "\t<li><dl>\n",
              "\t<dt>$semilla</dt>\n",
              "\t\t<dd>901517</dd>\n",
              "\t<dt>$testing</dt>\n",
              "\t\t<dd>49380</dd>\n",
              "\t<dt>$testing_pos</dt>\n",
              "\t\t<dd>376</dd>\n",
              "\t<dt>$envios</dt>\n",
              "\t\t<dd>3698</dd>\n",
              "\t<dt>$aciertos</dt>\n",
              "\t\t<dd>221</dd>\n",
              "\t<dt>$ganancia_test</dt>\n",
              "\t\t<dd>51420000</dd>\n",
              "</dl>\n",
              "</li>\n",
              "\t<li><dl>\n",
              "\t<dt>$semilla</dt>\n",
              "\t\t<dd>484447</dd>\n",
              "\t<dt>$testing</dt>\n",
              "\t\t<dd>49376</dd>\n",
              "\t<dt>$testing_pos</dt>\n",
              "\t\t<dd>376</dd>\n",
              "\t<dt>$envios</dt>\n",
              "\t\t<dd>3529</dd>\n",
              "\t<dt>$aciertos</dt>\n",
              "\t\t<dd>203</dd>\n",
              "\t<dt>$ganancia_test</dt>\n",
              "\t\t<dd>45910000</dd>\n",
              "</dl>\n",
              "</li>\n",
              "\t<li><dl>\n",
              "\t<dt>$semilla</dt>\n",
              "\t\t<dd>672557</dd>\n",
              "\t<dt>$testing</dt>\n",
              "\t\t<dd>49377</dd>\n",
              "\t<dt>$testing_pos</dt>\n",
              "\t\t<dd>374</dd>\n",
              "\t<dt>$envios</dt>\n",
              "\t\t<dd>3109</dd>\n",
              "\t<dt>$aciertos</dt>\n",
              "\t\t<dd>207</dd>\n",
              "\t<dt>$ganancia_test</dt>\n",
              "\t\t<dd>51710000</dd>\n",
              "</dl>\n",
              "</li>\n",
              "\t<li><dl>\n",
              "\t<dt>$semilla</dt>\n",
              "\t\t<dd>215983</dd>\n",
              "\t<dt>$testing</dt>\n",
              "\t\t<dd>49382</dd>\n",
              "\t<dt>$testing_pos</dt>\n",
              "\t\t<dd>375</dd>\n",
              "\t<dt>$envios</dt>\n",
              "\t\t<dd>3621</dd>\n",
              "\t<dt>$aciertos</dt>\n",
              "\t\t<dd>200</dd>\n",
              "\t<dt>$ganancia_test</dt>\n",
              "\t\t<dd>43790000</dd>\n",
              "</dl>\n",
              "</li>\n",
              "\t<li><dl>\n",
              "\t<dt>$semilla</dt>\n",
              "\t\t<dd>397283</dd>\n",
              "\t<dt>$testing</dt>\n",
              "\t\t<dd>49374</dd>\n",
              "\t<dt>$testing_pos</dt>\n",
              "\t\t<dd>374</dd>\n",
              "\t<dt>$envios</dt>\n",
              "\t\t<dd>2958</dd>\n",
              "\t<dt>$aciertos</dt>\n",
              "\t\t<dd>187</dd>\n",
              "\t<dt>$ganancia_test</dt>\n",
              "\t\t<dd>45220000</dd>\n",
              "</dl>\n",
              "</li>\n",
              "\t<li><dl>\n",
              "\t<dt>$semilla</dt>\n",
              "\t\t<dd>375743</dd>\n",
              "\t<dt>$testing</dt>\n",
              "\t\t<dd>49376</dd>\n",
              "\t<dt>$testing_pos</dt>\n",
              "\t\t<dd>374</dd>\n",
              "\t<dt>$envios</dt>\n",
              "\t\t<dd>3852</dd>\n",
              "\t<dt>$aciertos</dt>\n",
              "\t\t<dd>226</dd>\n",
              "\t<dt>$ganancia_test</dt>\n",
              "\t\t<dd>51880000</dd>\n",
              "</dl>\n",
              "</li>\n",
              "</ol>\n"
            ],
            "text/markdown": "1. $semilla\n:   816581\n$testing\n:   49378\n$testing_pos\n:   372\n$envios\n:   3814\n$aciertos\n:   219\n$ganancia_test\n:   49460000\n\n\n\n2. $semilla\n:   658841\n$testing\n:   49369\n$testing_pos\n:   368\n$envios\n:   3775\n$aciertos\n:   227\n$ganancia_test\n:   53050000\n\n\n\n3. $semilla\n:   700871\n$testing\n:   49373\n$testing_pos\n:   371\n$envios\n:   2940\n$aciertos\n:   183\n$ganancia_test\n:   43800000\n\n\n\n4. $semilla\n:   612407\n$testing\n:   49389\n$testing_pos\n:   375\n$envios\n:   3020\n$aciertos\n:   185\n$ganancia_test\n:   43800000\n\n\n\n5. $semilla\n:   258443\n$testing\n:   49375\n$testing_pos\n:   374\n$envios\n:   3492\n$aciertos\n:   201\n$ganancia_test\n:   45480000\n\n\n\n6. $semilla\n:   999133\n$testing\n:   49383\n$testing_pos\n:   372\n$envios\n:   2917\n$aciertos\n:   191\n$ganancia_test\n:   47230000\n\n\n\n7. $semilla\n:   945367\n$testing\n:   49385\n$testing_pos\n:   374\n$envios\n:   2675\n$aciertos\n:   192\n$ganancia_test\n:   50050000\n\n\n\n8. $semilla\n:   715823\n$testing\n:   49383\n$testing_pos\n:   373\n$envios\n:   3455\n$aciertos\n:   211\n$ganancia_test\n:   49850000\n\n\n\n9. $semilla\n:   280103\n$testing\n:   49385\n$testing_pos\n:   376\n$envios\n:   3417\n$aciertos\n:   211\n$ganancia_test\n:   50230000\n\n\n\n10. $semilla\n:   448421\n$testing\n:   49377\n$testing_pos\n:   371\n$envios\n:   3643\n$aciertos\n:   192\n$ganancia_test\n:   40370000\n\n\n\n11. $semilla\n:   368531\n$testing\n:   49383\n$testing_pos\n:   375\n$envios\n:   3940\n$aciertos\n:   203\n$ganancia_test\n:   41800000\n\n\n\n12. $semilla\n:   885551\n$testing\n:   49370\n$testing_pos\n:   376\n$envios\n:   3601\n$aciertos\n:   213\n$ganancia_test\n:   49190000\n\n\n\n13. $semilla\n:   942079\n$testing\n:   49374\n$testing_pos\n:   374\n$envios\n:   3201\n$aciertos\n:   207\n$ganancia_test\n:   50790000\n\n\n\n14. $semilla\n:   201389\n$testing\n:   49382\n$testing_pos\n:   376\n$envios\n:   3716\n$aciertos\n:   224\n$ganancia_test\n:   52440000\n\n\n\n15. $semilla\n:   444287\n$testing\n:   49367\n$testing_pos\n:   374\n$envios\n:   4373\n$aciertos\n:   242\n$ganancia_test\n:   53070000\n\n\n\n16. $semilla\n:   806543\n$testing\n:   49387\n$testing_pos\n:   376\n$envios\n:   3365\n$aciertos\n:   198\n$ganancia_test\n:   45550000\n\n\n\n17. $semilla\n:   986719\n$testing\n:   49377\n$testing_pos\n:   375\n$envios\n:   2620\n$aciertos\n:   169\n$ganancia_test\n:   41400000\n\n\n\n18. $semilla\n:   550763\n$testing\n:   49376\n$testing_pos\n:   375\n$envios\n:   3951\n$aciertos\n:   228\n$ganancia_test\n:   51690000\n\n\n\n19. $semilla\n:   420683\n$testing\n:   49363\n$testing_pos\n:   369\n$envios\n:   3682\n$aciertos\n:   218\n$ganancia_test\n:   50380000\n\n\n\n20. $semilla\n:   897779\n$testing\n:   49367\n$testing_pos\n:   371\n$envios\n:   3173\n$aciertos\n:   189\n$ganancia_test\n:   43870000\n\n\n\n21. $semilla\n:   450707\n$testing\n:   49390\n$testing_pos\n:   379\n$envios\n:   3532\n$aciertos\n:   225\n$ganancia_test\n:   54680000\n\n\n\n22. $semilla\n:   208441\n$testing\n:   49376\n$testing_pos\n:   373\n$envios\n:   2860\n$aciertos\n:   178\n$ganancia_test\n:   42600000\n\n\n\n23. $semilla\n:   139547\n$testing\n:   49381\n$testing_pos\n:   376\n$envios\n:   3678\n$aciertos\n:   212\n$ganancia_test\n:   48020000\n\n\n\n24. $semilla\n:   166189\n$testing\n:   49390\n$testing_pos\n:   377\n$envios\n:   3514\n$aciertos\n:   210\n$ganancia_test\n:   48860000\n\n\n\n25. $semilla\n:   812299\n$testing\n:   49386\n$testing_pos\n:   381\n$envios\n:   3565\n$aciertos\n:   219\n$ganancia_test\n:   51950000\n\n\n\n26. $semilla\n:   449963\n$testing\n:   49377\n$testing_pos\n:   373\n$envios\n:   3285\n$aciertos\n:   188\n$ganancia_test\n:   42350000\n\n\n\n27. $semilla\n:   582737\n$testing\n:   49373\n$testing_pos\n:   370\n$envios\n:   3656\n$aciertos\n:   202\n$ganancia_test\n:   44240000\n\n\n\n28. $semilla\n:   715877\n$testing\n:   49380\n$testing_pos\n:   371\n$envios\n:   3571\n$aciertos\n:   219\n$ganancia_test\n:   51890000\n\n\n\n29. $semilla\n:   102503\n$testing\n:   49382\n$testing_pos\n:   376\n$envios\n:   3725\n$aciertos\n:   226\n$ganancia_test\n:   53150000\n\n\n\n30. $semilla\n:   189853\n$testing\n:   49392\n$testing_pos\n:   380\n$envios\n:   3725\n$aciertos\n:   227\n$ganancia_test\n:   53550000\n\n\n\n31. $semilla\n:   924019\n$testing\n:   49371\n$testing_pos\n:   372\n$envios\n:   3918\n$aciertos\n:   211\n$ganancia_test\n:   45220000\n\n\n\n32. $semilla\n:   310861\n$testing\n:   49383\n$testing_pos\n:   375\n$envios\n:   3003\n$aciertos\n:   204\n$ganancia_test\n:   51570000\n\n\n\n33. $semilla\n:   661993\n$testing\n:   49379\n$testing_pos\n:   376\n$envios\n:   3311\n$aciertos\n:   202\n$ganancia_test\n:   47690000\n\n\n\n34. $semilla\n:   773063\n$testing\n:   49385\n$testing_pos\n:   376\n$envios\n:   3337\n$aciertos\n:   202\n$ganancia_test\n:   47430000\n\n\n\n35. $semilla\n:   420037\n$testing\n:   49371\n$testing_pos\n:   370\n$envios\n:   3206\n$aciertos\n:   196\n$ganancia_test\n:   46340000\n\n\n\n36. $semilla\n:   464741\n$testing\n:   49370\n$testing_pos\n:   375\n$envios\n:   2961\n$aciertos\n:   184\n$ganancia_test\n:   43990000\n\n\n\n37. $semilla\n:   465931\n$testing\n:   49391\n$testing_pos\n:   380\n$envios\n:   3206\n$aciertos\n:   206\n$ganancia_test\n:   50340000\n\n\n\n38. $semilla\n:   143107\n$testing\n:   49379\n$testing_pos\n:   376\n$envios\n:   2829\n$aciertos\n:   188\n$ganancia_test\n:   46910000\n\n\n\n39. $semilla\n:   136511\n$testing\n:   49376\n$testing_pos\n:   374\n$envios\n:   3540\n$aciertos\n:   216\n$ganancia_test\n:   5.1e+07\n\n\n\n40. $semilla\n:   900743\n$testing\n:   49364\n$testing_pos\n:   373\n$envios\n:   3285\n$aciertos\n:   192\n$ganancia_test\n:   43950000\n\n\n\n41. $semilla\n:   281683\n$testing\n:   49388\n$testing_pos\n:   378\n$envios\n:   3592\n$aciertos\n:   216\n$ganancia_test\n:   50480000\n\n\n\n42. $semilla\n:   421913\n$testing\n:   49378\n$testing_pos\n:   372\n$envios\n:   3493\n$aciertos\n:   213\n$ganancia_test\n:   50270000\n\n\n\n43. $semilla\n:   177011\n$testing\n:   49370\n$testing_pos\n:   371\n$envios\n:   3220\n$aciertos\n:   193\n$ganancia_test\n:   4.5e+07\n\n\n\n44. $semilla\n:   946823\n$testing\n:   49373\n$testing_pos\n:   369\n$envios\n:   3541\n$aciertos\n:   203\n$ganancia_test\n:   45790000\n\n\n\n45. $semilla\n:   901517\n$testing\n:   49380\n$testing_pos\n:   376\n$envios\n:   3698\n$aciertos\n:   221\n$ganancia_test\n:   51420000\n\n\n\n46. $semilla\n:   484447\n$testing\n:   49376\n$testing_pos\n:   376\n$envios\n:   3529\n$aciertos\n:   203\n$ganancia_test\n:   45910000\n\n\n\n47. $semilla\n:   672557\n$testing\n:   49377\n$testing_pos\n:   374\n$envios\n:   3109\n$aciertos\n:   207\n$ganancia_test\n:   51710000\n\n\n\n48. $semilla\n:   215983\n$testing\n:   49382\n$testing_pos\n:   375\n$envios\n:   3621\n$aciertos\n:   200\n$ganancia_test\n:   43790000\n\n\n\n49. $semilla\n:   397283\n$testing\n:   49374\n$testing_pos\n:   374\n$envios\n:   2958\n$aciertos\n:   187\n$ganancia_test\n:   45220000\n\n\n\n50. $semilla\n:   375743\n$testing\n:   49376\n$testing_pos\n:   374\n$envios\n:   3852\n$aciertos\n:   226\n$ganancia_test\n:   51880000\n\n\n\n\n\n",
            "text/latex": "\\begin{enumerate}\n\\item \\begin{description}\n\\item[\\$semilla] 816581\n\\item[\\$testing] 49378\n\\item[\\$testing\\_pos] 372\n\\item[\\$envios] 3814\n\\item[\\$aciertos] 219\n\\item[\\$ganancia\\_test] 49460000\n\\end{description}\n\n\\item \\begin{description}\n\\item[\\$semilla] 658841\n\\item[\\$testing] 49369\n\\item[\\$testing\\_pos] 368\n\\item[\\$envios] 3775\n\\item[\\$aciertos] 227\n\\item[\\$ganancia\\_test] 53050000\n\\end{description}\n\n\\item \\begin{description}\n\\item[\\$semilla] 700871\n\\item[\\$testing] 49373\n\\item[\\$testing\\_pos] 371\n\\item[\\$envios] 2940\n\\item[\\$aciertos] 183\n\\item[\\$ganancia\\_test] 43800000\n\\end{description}\n\n\\item \\begin{description}\n\\item[\\$semilla] 612407\n\\item[\\$testing] 49389\n\\item[\\$testing\\_pos] 375\n\\item[\\$envios] 3020\n\\item[\\$aciertos] 185\n\\item[\\$ganancia\\_test] 43800000\n\\end{description}\n\n\\item \\begin{description}\n\\item[\\$semilla] 258443\n\\item[\\$testing] 49375\n\\item[\\$testing\\_pos] 374\n\\item[\\$envios] 3492\n\\item[\\$aciertos] 201\n\\item[\\$ganancia\\_test] 45480000\n\\end{description}\n\n\\item \\begin{description}\n\\item[\\$semilla] 999133\n\\item[\\$testing] 49383\n\\item[\\$testing\\_pos] 372\n\\item[\\$envios] 2917\n\\item[\\$aciertos] 191\n\\item[\\$ganancia\\_test] 47230000\n\\end{description}\n\n\\item \\begin{description}\n\\item[\\$semilla] 945367\n\\item[\\$testing] 49385\n\\item[\\$testing\\_pos] 374\n\\item[\\$envios] 2675\n\\item[\\$aciertos] 192\n\\item[\\$ganancia\\_test] 50050000\n\\end{description}\n\n\\item \\begin{description}\n\\item[\\$semilla] 715823\n\\item[\\$testing] 49383\n\\item[\\$testing\\_pos] 373\n\\item[\\$envios] 3455\n\\item[\\$aciertos] 211\n\\item[\\$ganancia\\_test] 49850000\n\\end{description}\n\n\\item \\begin{description}\n\\item[\\$semilla] 280103\n\\item[\\$testing] 49385\n\\item[\\$testing\\_pos] 376\n\\item[\\$envios] 3417\n\\item[\\$aciertos] 211\n\\item[\\$ganancia\\_test] 50230000\n\\end{description}\n\n\\item \\begin{description}\n\\item[\\$semilla] 448421\n\\item[\\$testing] 49377\n\\item[\\$testing\\_pos] 371\n\\item[\\$envios] 3643\n\\item[\\$aciertos] 192\n\\item[\\$ganancia\\_test] 40370000\n\\end{description}\n\n\\item \\begin{description}\n\\item[\\$semilla] 368531\n\\item[\\$testing] 49383\n\\item[\\$testing\\_pos] 375\n\\item[\\$envios] 3940\n\\item[\\$aciertos] 203\n\\item[\\$ganancia\\_test] 41800000\n\\end{description}\n\n\\item \\begin{description}\n\\item[\\$semilla] 885551\n\\item[\\$testing] 49370\n\\item[\\$testing\\_pos] 376\n\\item[\\$envios] 3601\n\\item[\\$aciertos] 213\n\\item[\\$ganancia\\_test] 49190000\n\\end{description}\n\n\\item \\begin{description}\n\\item[\\$semilla] 942079\n\\item[\\$testing] 49374\n\\item[\\$testing\\_pos] 374\n\\item[\\$envios] 3201\n\\item[\\$aciertos] 207\n\\item[\\$ganancia\\_test] 50790000\n\\end{description}\n\n\\item \\begin{description}\n\\item[\\$semilla] 201389\n\\item[\\$testing] 49382\n\\item[\\$testing\\_pos] 376\n\\item[\\$envios] 3716\n\\item[\\$aciertos] 224\n\\item[\\$ganancia\\_test] 52440000\n\\end{description}\n\n\\item \\begin{description}\n\\item[\\$semilla] 444287\n\\item[\\$testing] 49367\n\\item[\\$testing\\_pos] 374\n\\item[\\$envios] 4373\n\\item[\\$aciertos] 242\n\\item[\\$ganancia\\_test] 53070000\n\\end{description}\n\n\\item \\begin{description}\n\\item[\\$semilla] 806543\n\\item[\\$testing] 49387\n\\item[\\$testing\\_pos] 376\n\\item[\\$envios] 3365\n\\item[\\$aciertos] 198\n\\item[\\$ganancia\\_test] 45550000\n\\end{description}\n\n\\item \\begin{description}\n\\item[\\$semilla] 986719\n\\item[\\$testing] 49377\n\\item[\\$testing\\_pos] 375\n\\item[\\$envios] 2620\n\\item[\\$aciertos] 169\n\\item[\\$ganancia\\_test] 41400000\n\\end{description}\n\n\\item \\begin{description}\n\\item[\\$semilla] 550763\n\\item[\\$testing] 49376\n\\item[\\$testing\\_pos] 375\n\\item[\\$envios] 3951\n\\item[\\$aciertos] 228\n\\item[\\$ganancia\\_test] 51690000\n\\end{description}\n\n\\item \\begin{description}\n\\item[\\$semilla] 420683\n\\item[\\$testing] 49363\n\\item[\\$testing\\_pos] 369\n\\item[\\$envios] 3682\n\\item[\\$aciertos] 218\n\\item[\\$ganancia\\_test] 50380000\n\\end{description}\n\n\\item \\begin{description}\n\\item[\\$semilla] 897779\n\\item[\\$testing] 49367\n\\item[\\$testing\\_pos] 371\n\\item[\\$envios] 3173\n\\item[\\$aciertos] 189\n\\item[\\$ganancia\\_test] 43870000\n\\end{description}\n\n\\item \\begin{description}\n\\item[\\$semilla] 450707\n\\item[\\$testing] 49390\n\\item[\\$testing\\_pos] 379\n\\item[\\$envios] 3532\n\\item[\\$aciertos] 225\n\\item[\\$ganancia\\_test] 54680000\n\\end{description}\n\n\\item \\begin{description}\n\\item[\\$semilla] 208441\n\\item[\\$testing] 49376\n\\item[\\$testing\\_pos] 373\n\\item[\\$envios] 2860\n\\item[\\$aciertos] 178\n\\item[\\$ganancia\\_test] 42600000\n\\end{description}\n\n\\item \\begin{description}\n\\item[\\$semilla] 139547\n\\item[\\$testing] 49381\n\\item[\\$testing\\_pos] 376\n\\item[\\$envios] 3678\n\\item[\\$aciertos] 212\n\\item[\\$ganancia\\_test] 48020000\n\\end{description}\n\n\\item \\begin{description}\n\\item[\\$semilla] 166189\n\\item[\\$testing] 49390\n\\item[\\$testing\\_pos] 377\n\\item[\\$envios] 3514\n\\item[\\$aciertos] 210\n\\item[\\$ganancia\\_test] 48860000\n\\end{description}\n\n\\item \\begin{description}\n\\item[\\$semilla] 812299\n\\item[\\$testing] 49386\n\\item[\\$testing\\_pos] 381\n\\item[\\$envios] 3565\n\\item[\\$aciertos] 219\n\\item[\\$ganancia\\_test] 51950000\n\\end{description}\n\n\\item \\begin{description}\n\\item[\\$semilla] 449963\n\\item[\\$testing] 49377\n\\item[\\$testing\\_pos] 373\n\\item[\\$envios] 3285\n\\item[\\$aciertos] 188\n\\item[\\$ganancia\\_test] 42350000\n\\end{description}\n\n\\item \\begin{description}\n\\item[\\$semilla] 582737\n\\item[\\$testing] 49373\n\\item[\\$testing\\_pos] 370\n\\item[\\$envios] 3656\n\\item[\\$aciertos] 202\n\\item[\\$ganancia\\_test] 44240000\n\\end{description}\n\n\\item \\begin{description}\n\\item[\\$semilla] 715877\n\\item[\\$testing] 49380\n\\item[\\$testing\\_pos] 371\n\\item[\\$envios] 3571\n\\item[\\$aciertos] 219\n\\item[\\$ganancia\\_test] 51890000\n\\end{description}\n\n\\item \\begin{description}\n\\item[\\$semilla] 102503\n\\item[\\$testing] 49382\n\\item[\\$testing\\_pos] 376\n\\item[\\$envios] 3725\n\\item[\\$aciertos] 226\n\\item[\\$ganancia\\_test] 53150000\n\\end{description}\n\n\\item \\begin{description}\n\\item[\\$semilla] 189853\n\\item[\\$testing] 49392\n\\item[\\$testing\\_pos] 380\n\\item[\\$envios] 3725\n\\item[\\$aciertos] 227\n\\item[\\$ganancia\\_test] 53550000\n\\end{description}\n\n\\item \\begin{description}\n\\item[\\$semilla] 924019\n\\item[\\$testing] 49371\n\\item[\\$testing\\_pos] 372\n\\item[\\$envios] 3918\n\\item[\\$aciertos] 211\n\\item[\\$ganancia\\_test] 45220000\n\\end{description}\n\n\\item \\begin{description}\n\\item[\\$semilla] 310861\n\\item[\\$testing] 49383\n\\item[\\$testing\\_pos] 375\n\\item[\\$envios] 3003\n\\item[\\$aciertos] 204\n\\item[\\$ganancia\\_test] 51570000\n\\end{description}\n\n\\item \\begin{description}\n\\item[\\$semilla] 661993\n\\item[\\$testing] 49379\n\\item[\\$testing\\_pos] 376\n\\item[\\$envios] 3311\n\\item[\\$aciertos] 202\n\\item[\\$ganancia\\_test] 47690000\n\\end{description}\n\n\\item \\begin{description}\n\\item[\\$semilla] 773063\n\\item[\\$testing] 49385\n\\item[\\$testing\\_pos] 376\n\\item[\\$envios] 3337\n\\item[\\$aciertos] 202\n\\item[\\$ganancia\\_test] 47430000\n\\end{description}\n\n\\item \\begin{description}\n\\item[\\$semilla] 420037\n\\item[\\$testing] 49371\n\\item[\\$testing\\_pos] 370\n\\item[\\$envios] 3206\n\\item[\\$aciertos] 196\n\\item[\\$ganancia\\_test] 46340000\n\\end{description}\n\n\\item \\begin{description}\n\\item[\\$semilla] 464741\n\\item[\\$testing] 49370\n\\item[\\$testing\\_pos] 375\n\\item[\\$envios] 2961\n\\item[\\$aciertos] 184\n\\item[\\$ganancia\\_test] 43990000\n\\end{description}\n\n\\item \\begin{description}\n\\item[\\$semilla] 465931\n\\item[\\$testing] 49391\n\\item[\\$testing\\_pos] 380\n\\item[\\$envios] 3206\n\\item[\\$aciertos] 206\n\\item[\\$ganancia\\_test] 50340000\n\\end{description}\n\n\\item \\begin{description}\n\\item[\\$semilla] 143107\n\\item[\\$testing] 49379\n\\item[\\$testing\\_pos] 376\n\\item[\\$envios] 2829\n\\item[\\$aciertos] 188\n\\item[\\$ganancia\\_test] 46910000\n\\end{description}\n\n\\item \\begin{description}\n\\item[\\$semilla] 136511\n\\item[\\$testing] 49376\n\\item[\\$testing\\_pos] 374\n\\item[\\$envios] 3540\n\\item[\\$aciertos] 216\n\\item[\\$ganancia\\_test] 5.1e+07\n\\end{description}\n\n\\item \\begin{description}\n\\item[\\$semilla] 900743\n\\item[\\$testing] 49364\n\\item[\\$testing\\_pos] 373\n\\item[\\$envios] 3285\n\\item[\\$aciertos] 192\n\\item[\\$ganancia\\_test] 43950000\n\\end{description}\n\n\\item \\begin{description}\n\\item[\\$semilla] 281683\n\\item[\\$testing] 49388\n\\item[\\$testing\\_pos] 378\n\\item[\\$envios] 3592\n\\item[\\$aciertos] 216\n\\item[\\$ganancia\\_test] 50480000\n\\end{description}\n\n\\item \\begin{description}\n\\item[\\$semilla] 421913\n\\item[\\$testing] 49378\n\\item[\\$testing\\_pos] 372\n\\item[\\$envios] 3493\n\\item[\\$aciertos] 213\n\\item[\\$ganancia\\_test] 50270000\n\\end{description}\n\n\\item \\begin{description}\n\\item[\\$semilla] 177011\n\\item[\\$testing] 49370\n\\item[\\$testing\\_pos] 371\n\\item[\\$envios] 3220\n\\item[\\$aciertos] 193\n\\item[\\$ganancia\\_test] 4.5e+07\n\\end{description}\n\n\\item \\begin{description}\n\\item[\\$semilla] 946823\n\\item[\\$testing] 49373\n\\item[\\$testing\\_pos] 369\n\\item[\\$envios] 3541\n\\item[\\$aciertos] 203\n\\item[\\$ganancia\\_test] 45790000\n\\end{description}\n\n\\item \\begin{description}\n\\item[\\$semilla] 901517\n\\item[\\$testing] 49380\n\\item[\\$testing\\_pos] 376\n\\item[\\$envios] 3698\n\\item[\\$aciertos] 221\n\\item[\\$ganancia\\_test] 51420000\n\\end{description}\n\n\\item \\begin{description}\n\\item[\\$semilla] 484447\n\\item[\\$testing] 49376\n\\item[\\$testing\\_pos] 376\n\\item[\\$envios] 3529\n\\item[\\$aciertos] 203\n\\item[\\$ganancia\\_test] 45910000\n\\end{description}\n\n\\item \\begin{description}\n\\item[\\$semilla] 672557\n\\item[\\$testing] 49377\n\\item[\\$testing\\_pos] 374\n\\item[\\$envios] 3109\n\\item[\\$aciertos] 207\n\\item[\\$ganancia\\_test] 51710000\n\\end{description}\n\n\\item \\begin{description}\n\\item[\\$semilla] 215983\n\\item[\\$testing] 49382\n\\item[\\$testing\\_pos] 375\n\\item[\\$envios] 3621\n\\item[\\$aciertos] 200\n\\item[\\$ganancia\\_test] 43790000\n\\end{description}\n\n\\item \\begin{description}\n\\item[\\$semilla] 397283\n\\item[\\$testing] 49374\n\\item[\\$testing\\_pos] 374\n\\item[\\$envios] 2958\n\\item[\\$aciertos] 187\n\\item[\\$ganancia\\_test] 45220000\n\\end{description}\n\n\\item \\begin{description}\n\\item[\\$semilla] 375743\n\\item[\\$testing] 49376\n\\item[\\$testing\\_pos] 374\n\\item[\\$envios] 3852\n\\item[\\$aciertos] 226\n\\item[\\$ganancia\\_test] 51880000\n\\end{description}\n\n\\end{enumerate}\n",
            "text/plain": [
              "[[1]]\n",
              "[[1]]$semilla\n",
              "[1] 816581\n",
              "\n",
              "[[1]]$testing\n",
              "[1] 49378\n",
              "\n",
              "[[1]]$testing_pos\n",
              "[1] 372\n",
              "\n",
              "[[1]]$envios\n",
              "[1] 3814\n",
              "\n",
              "[[1]]$aciertos\n",
              "[1] 219\n",
              "\n",
              "[[1]]$ganancia_test\n",
              "[1] 49460000\n",
              "\n",
              "\n",
              "[[2]]\n",
              "[[2]]$semilla\n",
              "[1] 658841\n",
              "\n",
              "[[2]]$testing\n",
              "[1] 49369\n",
              "\n",
              "[[2]]$testing_pos\n",
              "[1] 368\n",
              "\n",
              "[[2]]$envios\n",
              "[1] 3775\n",
              "\n",
              "[[2]]$aciertos\n",
              "[1] 227\n",
              "\n",
              "[[2]]$ganancia_test\n",
              "[1] 53050000\n",
              "\n",
              "\n",
              "[[3]]\n",
              "[[3]]$semilla\n",
              "[1] 700871\n",
              "\n",
              "[[3]]$testing\n",
              "[1] 49373\n",
              "\n",
              "[[3]]$testing_pos\n",
              "[1] 371\n",
              "\n",
              "[[3]]$envios\n",
              "[1] 2940\n",
              "\n",
              "[[3]]$aciertos\n",
              "[1] 183\n",
              "\n",
              "[[3]]$ganancia_test\n",
              "[1] 43800000\n",
              "\n",
              "\n",
              "[[4]]\n",
              "[[4]]$semilla\n",
              "[1] 612407\n",
              "\n",
              "[[4]]$testing\n",
              "[1] 49389\n",
              "\n",
              "[[4]]$testing_pos\n",
              "[1] 375\n",
              "\n",
              "[[4]]$envios\n",
              "[1] 3020\n",
              "\n",
              "[[4]]$aciertos\n",
              "[1] 185\n",
              "\n",
              "[[4]]$ganancia_test\n",
              "[1] 43800000\n",
              "\n",
              "\n",
              "[[5]]\n",
              "[[5]]$semilla\n",
              "[1] 258443\n",
              "\n",
              "[[5]]$testing\n",
              "[1] 49375\n",
              "\n",
              "[[5]]$testing_pos\n",
              "[1] 374\n",
              "\n",
              "[[5]]$envios\n",
              "[1] 3492\n",
              "\n",
              "[[5]]$aciertos\n",
              "[1] 201\n",
              "\n",
              "[[5]]$ganancia_test\n",
              "[1] 45480000\n",
              "\n",
              "\n",
              "[[6]]\n",
              "[[6]]$semilla\n",
              "[1] 999133\n",
              "\n",
              "[[6]]$testing\n",
              "[1] 49383\n",
              "\n",
              "[[6]]$testing_pos\n",
              "[1] 372\n",
              "\n",
              "[[6]]$envios\n",
              "[1] 2917\n",
              "\n",
              "[[6]]$aciertos\n",
              "[1] 191\n",
              "\n",
              "[[6]]$ganancia_test\n",
              "[1] 47230000\n",
              "\n",
              "\n",
              "[[7]]\n",
              "[[7]]$semilla\n",
              "[1] 945367\n",
              "\n",
              "[[7]]$testing\n",
              "[1] 49385\n",
              "\n",
              "[[7]]$testing_pos\n",
              "[1] 374\n",
              "\n",
              "[[7]]$envios\n",
              "[1] 2675\n",
              "\n",
              "[[7]]$aciertos\n",
              "[1] 192\n",
              "\n",
              "[[7]]$ganancia_test\n",
              "[1] 50050000\n",
              "\n",
              "\n",
              "[[8]]\n",
              "[[8]]$semilla\n",
              "[1] 715823\n",
              "\n",
              "[[8]]$testing\n",
              "[1] 49383\n",
              "\n",
              "[[8]]$testing_pos\n",
              "[1] 373\n",
              "\n",
              "[[8]]$envios\n",
              "[1] 3455\n",
              "\n",
              "[[8]]$aciertos\n",
              "[1] 211\n",
              "\n",
              "[[8]]$ganancia_test\n",
              "[1] 49850000\n",
              "\n",
              "\n",
              "[[9]]\n",
              "[[9]]$semilla\n",
              "[1] 280103\n",
              "\n",
              "[[9]]$testing\n",
              "[1] 49385\n",
              "\n",
              "[[9]]$testing_pos\n",
              "[1] 376\n",
              "\n",
              "[[9]]$envios\n",
              "[1] 3417\n",
              "\n",
              "[[9]]$aciertos\n",
              "[1] 211\n",
              "\n",
              "[[9]]$ganancia_test\n",
              "[1] 50230000\n",
              "\n",
              "\n",
              "[[10]]\n",
              "[[10]]$semilla\n",
              "[1] 448421\n",
              "\n",
              "[[10]]$testing\n",
              "[1] 49377\n",
              "\n",
              "[[10]]$testing_pos\n",
              "[1] 371\n",
              "\n",
              "[[10]]$envios\n",
              "[1] 3643\n",
              "\n",
              "[[10]]$aciertos\n",
              "[1] 192\n",
              "\n",
              "[[10]]$ganancia_test\n",
              "[1] 40370000\n",
              "\n",
              "\n",
              "[[11]]\n",
              "[[11]]$semilla\n",
              "[1] 368531\n",
              "\n",
              "[[11]]$testing\n",
              "[1] 49383\n",
              "\n",
              "[[11]]$testing_pos\n",
              "[1] 375\n",
              "\n",
              "[[11]]$envios\n",
              "[1] 3940\n",
              "\n",
              "[[11]]$aciertos\n",
              "[1] 203\n",
              "\n",
              "[[11]]$ganancia_test\n",
              "[1] 41800000\n",
              "\n",
              "\n",
              "[[12]]\n",
              "[[12]]$semilla\n",
              "[1] 885551\n",
              "\n",
              "[[12]]$testing\n",
              "[1] 49370\n",
              "\n",
              "[[12]]$testing_pos\n",
              "[1] 376\n",
              "\n",
              "[[12]]$envios\n",
              "[1] 3601\n",
              "\n",
              "[[12]]$aciertos\n",
              "[1] 213\n",
              "\n",
              "[[12]]$ganancia_test\n",
              "[1] 49190000\n",
              "\n",
              "\n",
              "[[13]]\n",
              "[[13]]$semilla\n",
              "[1] 942079\n",
              "\n",
              "[[13]]$testing\n",
              "[1] 49374\n",
              "\n",
              "[[13]]$testing_pos\n",
              "[1] 374\n",
              "\n",
              "[[13]]$envios\n",
              "[1] 3201\n",
              "\n",
              "[[13]]$aciertos\n",
              "[1] 207\n",
              "\n",
              "[[13]]$ganancia_test\n",
              "[1] 50790000\n",
              "\n",
              "\n",
              "[[14]]\n",
              "[[14]]$semilla\n",
              "[1] 201389\n",
              "\n",
              "[[14]]$testing\n",
              "[1] 49382\n",
              "\n",
              "[[14]]$testing_pos\n",
              "[1] 376\n",
              "\n",
              "[[14]]$envios\n",
              "[1] 3716\n",
              "\n",
              "[[14]]$aciertos\n",
              "[1] 224\n",
              "\n",
              "[[14]]$ganancia_test\n",
              "[1] 52440000\n",
              "\n",
              "\n",
              "[[15]]\n",
              "[[15]]$semilla\n",
              "[1] 444287\n",
              "\n",
              "[[15]]$testing\n",
              "[1] 49367\n",
              "\n",
              "[[15]]$testing_pos\n",
              "[1] 374\n",
              "\n",
              "[[15]]$envios\n",
              "[1] 4373\n",
              "\n",
              "[[15]]$aciertos\n",
              "[1] 242\n",
              "\n",
              "[[15]]$ganancia_test\n",
              "[1] 53070000\n",
              "\n",
              "\n",
              "[[16]]\n",
              "[[16]]$semilla\n",
              "[1] 806543\n",
              "\n",
              "[[16]]$testing\n",
              "[1] 49387\n",
              "\n",
              "[[16]]$testing_pos\n",
              "[1] 376\n",
              "\n",
              "[[16]]$envios\n",
              "[1] 3365\n",
              "\n",
              "[[16]]$aciertos\n",
              "[1] 198\n",
              "\n",
              "[[16]]$ganancia_test\n",
              "[1] 45550000\n",
              "\n",
              "\n",
              "[[17]]\n",
              "[[17]]$semilla\n",
              "[1] 986719\n",
              "\n",
              "[[17]]$testing\n",
              "[1] 49377\n",
              "\n",
              "[[17]]$testing_pos\n",
              "[1] 375\n",
              "\n",
              "[[17]]$envios\n",
              "[1] 2620\n",
              "\n",
              "[[17]]$aciertos\n",
              "[1] 169\n",
              "\n",
              "[[17]]$ganancia_test\n",
              "[1] 41400000\n",
              "\n",
              "\n",
              "[[18]]\n",
              "[[18]]$semilla\n",
              "[1] 550763\n",
              "\n",
              "[[18]]$testing\n",
              "[1] 49376\n",
              "\n",
              "[[18]]$testing_pos\n",
              "[1] 375\n",
              "\n",
              "[[18]]$envios\n",
              "[1] 3951\n",
              "\n",
              "[[18]]$aciertos\n",
              "[1] 228\n",
              "\n",
              "[[18]]$ganancia_test\n",
              "[1] 51690000\n",
              "\n",
              "\n",
              "[[19]]\n",
              "[[19]]$semilla\n",
              "[1] 420683\n",
              "\n",
              "[[19]]$testing\n",
              "[1] 49363\n",
              "\n",
              "[[19]]$testing_pos\n",
              "[1] 369\n",
              "\n",
              "[[19]]$envios\n",
              "[1] 3682\n",
              "\n",
              "[[19]]$aciertos\n",
              "[1] 218\n",
              "\n",
              "[[19]]$ganancia_test\n",
              "[1] 50380000\n",
              "\n",
              "\n",
              "[[20]]\n",
              "[[20]]$semilla\n",
              "[1] 897779\n",
              "\n",
              "[[20]]$testing\n",
              "[1] 49367\n",
              "\n",
              "[[20]]$testing_pos\n",
              "[1] 371\n",
              "\n",
              "[[20]]$envios\n",
              "[1] 3173\n",
              "\n",
              "[[20]]$aciertos\n",
              "[1] 189\n",
              "\n",
              "[[20]]$ganancia_test\n",
              "[1] 43870000\n",
              "\n",
              "\n",
              "[[21]]\n",
              "[[21]]$semilla\n",
              "[1] 450707\n",
              "\n",
              "[[21]]$testing\n",
              "[1] 49390\n",
              "\n",
              "[[21]]$testing_pos\n",
              "[1] 379\n",
              "\n",
              "[[21]]$envios\n",
              "[1] 3532\n",
              "\n",
              "[[21]]$aciertos\n",
              "[1] 225\n",
              "\n",
              "[[21]]$ganancia_test\n",
              "[1] 54680000\n",
              "\n",
              "\n",
              "[[22]]\n",
              "[[22]]$semilla\n",
              "[1] 208441\n",
              "\n",
              "[[22]]$testing\n",
              "[1] 49376\n",
              "\n",
              "[[22]]$testing_pos\n",
              "[1] 373\n",
              "\n",
              "[[22]]$envios\n",
              "[1] 2860\n",
              "\n",
              "[[22]]$aciertos\n",
              "[1] 178\n",
              "\n",
              "[[22]]$ganancia_test\n",
              "[1] 42600000\n",
              "\n",
              "\n",
              "[[23]]\n",
              "[[23]]$semilla\n",
              "[1] 139547\n",
              "\n",
              "[[23]]$testing\n",
              "[1] 49381\n",
              "\n",
              "[[23]]$testing_pos\n",
              "[1] 376\n",
              "\n",
              "[[23]]$envios\n",
              "[1] 3678\n",
              "\n",
              "[[23]]$aciertos\n",
              "[1] 212\n",
              "\n",
              "[[23]]$ganancia_test\n",
              "[1] 48020000\n",
              "\n",
              "\n",
              "[[24]]\n",
              "[[24]]$semilla\n",
              "[1] 166189\n",
              "\n",
              "[[24]]$testing\n",
              "[1] 49390\n",
              "\n",
              "[[24]]$testing_pos\n",
              "[1] 377\n",
              "\n",
              "[[24]]$envios\n",
              "[1] 3514\n",
              "\n",
              "[[24]]$aciertos\n",
              "[1] 210\n",
              "\n",
              "[[24]]$ganancia_test\n",
              "[1] 48860000\n",
              "\n",
              "\n",
              "[[25]]\n",
              "[[25]]$semilla\n",
              "[1] 812299\n",
              "\n",
              "[[25]]$testing\n",
              "[1] 49386\n",
              "\n",
              "[[25]]$testing_pos\n",
              "[1] 381\n",
              "\n",
              "[[25]]$envios\n",
              "[1] 3565\n",
              "\n",
              "[[25]]$aciertos\n",
              "[1] 219\n",
              "\n",
              "[[25]]$ganancia_test\n",
              "[1] 51950000\n",
              "\n",
              "\n",
              "[[26]]\n",
              "[[26]]$semilla\n",
              "[1] 449963\n",
              "\n",
              "[[26]]$testing\n",
              "[1] 49377\n",
              "\n",
              "[[26]]$testing_pos\n",
              "[1] 373\n",
              "\n",
              "[[26]]$envios\n",
              "[1] 3285\n",
              "\n",
              "[[26]]$aciertos\n",
              "[1] 188\n",
              "\n",
              "[[26]]$ganancia_test\n",
              "[1] 42350000\n",
              "\n",
              "\n",
              "[[27]]\n",
              "[[27]]$semilla\n",
              "[1] 582737\n",
              "\n",
              "[[27]]$testing\n",
              "[1] 49373\n",
              "\n",
              "[[27]]$testing_pos\n",
              "[1] 370\n",
              "\n",
              "[[27]]$envios\n",
              "[1] 3656\n",
              "\n",
              "[[27]]$aciertos\n",
              "[1] 202\n",
              "\n",
              "[[27]]$ganancia_test\n",
              "[1] 44240000\n",
              "\n",
              "\n",
              "[[28]]\n",
              "[[28]]$semilla\n",
              "[1] 715877\n",
              "\n",
              "[[28]]$testing\n",
              "[1] 49380\n",
              "\n",
              "[[28]]$testing_pos\n",
              "[1] 371\n",
              "\n",
              "[[28]]$envios\n",
              "[1] 3571\n",
              "\n",
              "[[28]]$aciertos\n",
              "[1] 219\n",
              "\n",
              "[[28]]$ganancia_test\n",
              "[1] 51890000\n",
              "\n",
              "\n",
              "[[29]]\n",
              "[[29]]$semilla\n",
              "[1] 102503\n",
              "\n",
              "[[29]]$testing\n",
              "[1] 49382\n",
              "\n",
              "[[29]]$testing_pos\n",
              "[1] 376\n",
              "\n",
              "[[29]]$envios\n",
              "[1] 3725\n",
              "\n",
              "[[29]]$aciertos\n",
              "[1] 226\n",
              "\n",
              "[[29]]$ganancia_test\n",
              "[1] 53150000\n",
              "\n",
              "\n",
              "[[30]]\n",
              "[[30]]$semilla\n",
              "[1] 189853\n",
              "\n",
              "[[30]]$testing\n",
              "[1] 49392\n",
              "\n",
              "[[30]]$testing_pos\n",
              "[1] 380\n",
              "\n",
              "[[30]]$envios\n",
              "[1] 3725\n",
              "\n",
              "[[30]]$aciertos\n",
              "[1] 227\n",
              "\n",
              "[[30]]$ganancia_test\n",
              "[1] 53550000\n",
              "\n",
              "\n",
              "[[31]]\n",
              "[[31]]$semilla\n",
              "[1] 924019\n",
              "\n",
              "[[31]]$testing\n",
              "[1] 49371\n",
              "\n",
              "[[31]]$testing_pos\n",
              "[1] 372\n",
              "\n",
              "[[31]]$envios\n",
              "[1] 3918\n",
              "\n",
              "[[31]]$aciertos\n",
              "[1] 211\n",
              "\n",
              "[[31]]$ganancia_test\n",
              "[1] 45220000\n",
              "\n",
              "\n",
              "[[32]]\n",
              "[[32]]$semilla\n",
              "[1] 310861\n",
              "\n",
              "[[32]]$testing\n",
              "[1] 49383\n",
              "\n",
              "[[32]]$testing_pos\n",
              "[1] 375\n",
              "\n",
              "[[32]]$envios\n",
              "[1] 3003\n",
              "\n",
              "[[32]]$aciertos\n",
              "[1] 204\n",
              "\n",
              "[[32]]$ganancia_test\n",
              "[1] 51570000\n",
              "\n",
              "\n",
              "[[33]]\n",
              "[[33]]$semilla\n",
              "[1] 661993\n",
              "\n",
              "[[33]]$testing\n",
              "[1] 49379\n",
              "\n",
              "[[33]]$testing_pos\n",
              "[1] 376\n",
              "\n",
              "[[33]]$envios\n",
              "[1] 3311\n",
              "\n",
              "[[33]]$aciertos\n",
              "[1] 202\n",
              "\n",
              "[[33]]$ganancia_test\n",
              "[1] 47690000\n",
              "\n",
              "\n",
              "[[34]]\n",
              "[[34]]$semilla\n",
              "[1] 773063\n",
              "\n",
              "[[34]]$testing\n",
              "[1] 49385\n",
              "\n",
              "[[34]]$testing_pos\n",
              "[1] 376\n",
              "\n",
              "[[34]]$envios\n",
              "[1] 3337\n",
              "\n",
              "[[34]]$aciertos\n",
              "[1] 202\n",
              "\n",
              "[[34]]$ganancia_test\n",
              "[1] 47430000\n",
              "\n",
              "\n",
              "[[35]]\n",
              "[[35]]$semilla\n",
              "[1] 420037\n",
              "\n",
              "[[35]]$testing\n",
              "[1] 49371\n",
              "\n",
              "[[35]]$testing_pos\n",
              "[1] 370\n",
              "\n",
              "[[35]]$envios\n",
              "[1] 3206\n",
              "\n",
              "[[35]]$aciertos\n",
              "[1] 196\n",
              "\n",
              "[[35]]$ganancia_test\n",
              "[1] 46340000\n",
              "\n",
              "\n",
              "[[36]]\n",
              "[[36]]$semilla\n",
              "[1] 464741\n",
              "\n",
              "[[36]]$testing\n",
              "[1] 49370\n",
              "\n",
              "[[36]]$testing_pos\n",
              "[1] 375\n",
              "\n",
              "[[36]]$envios\n",
              "[1] 2961\n",
              "\n",
              "[[36]]$aciertos\n",
              "[1] 184\n",
              "\n",
              "[[36]]$ganancia_test\n",
              "[1] 43990000\n",
              "\n",
              "\n",
              "[[37]]\n",
              "[[37]]$semilla\n",
              "[1] 465931\n",
              "\n",
              "[[37]]$testing\n",
              "[1] 49391\n",
              "\n",
              "[[37]]$testing_pos\n",
              "[1] 380\n",
              "\n",
              "[[37]]$envios\n",
              "[1] 3206\n",
              "\n",
              "[[37]]$aciertos\n",
              "[1] 206\n",
              "\n",
              "[[37]]$ganancia_test\n",
              "[1] 50340000\n",
              "\n",
              "\n",
              "[[38]]\n",
              "[[38]]$semilla\n",
              "[1] 143107\n",
              "\n",
              "[[38]]$testing\n",
              "[1] 49379\n",
              "\n",
              "[[38]]$testing_pos\n",
              "[1] 376\n",
              "\n",
              "[[38]]$envios\n",
              "[1] 2829\n",
              "\n",
              "[[38]]$aciertos\n",
              "[1] 188\n",
              "\n",
              "[[38]]$ganancia_test\n",
              "[1] 46910000\n",
              "\n",
              "\n",
              "[[39]]\n",
              "[[39]]$semilla\n",
              "[1] 136511\n",
              "\n",
              "[[39]]$testing\n",
              "[1] 49376\n",
              "\n",
              "[[39]]$testing_pos\n",
              "[1] 374\n",
              "\n",
              "[[39]]$envios\n",
              "[1] 3540\n",
              "\n",
              "[[39]]$aciertos\n",
              "[1] 216\n",
              "\n",
              "[[39]]$ganancia_test\n",
              "[1] 5.1e+07\n",
              "\n",
              "\n",
              "[[40]]\n",
              "[[40]]$semilla\n",
              "[1] 900743\n",
              "\n",
              "[[40]]$testing\n",
              "[1] 49364\n",
              "\n",
              "[[40]]$testing_pos\n",
              "[1] 373\n",
              "\n",
              "[[40]]$envios\n",
              "[1] 3285\n",
              "\n",
              "[[40]]$aciertos\n",
              "[1] 192\n",
              "\n",
              "[[40]]$ganancia_test\n",
              "[1] 43950000\n",
              "\n",
              "\n",
              "[[41]]\n",
              "[[41]]$semilla\n",
              "[1] 281683\n",
              "\n",
              "[[41]]$testing\n",
              "[1] 49388\n",
              "\n",
              "[[41]]$testing_pos\n",
              "[1] 378\n",
              "\n",
              "[[41]]$envios\n",
              "[1] 3592\n",
              "\n",
              "[[41]]$aciertos\n",
              "[1] 216\n",
              "\n",
              "[[41]]$ganancia_test\n",
              "[1] 50480000\n",
              "\n",
              "\n",
              "[[42]]\n",
              "[[42]]$semilla\n",
              "[1] 421913\n",
              "\n",
              "[[42]]$testing\n",
              "[1] 49378\n",
              "\n",
              "[[42]]$testing_pos\n",
              "[1] 372\n",
              "\n",
              "[[42]]$envios\n",
              "[1] 3493\n",
              "\n",
              "[[42]]$aciertos\n",
              "[1] 213\n",
              "\n",
              "[[42]]$ganancia_test\n",
              "[1] 50270000\n",
              "\n",
              "\n",
              "[[43]]\n",
              "[[43]]$semilla\n",
              "[1] 177011\n",
              "\n",
              "[[43]]$testing\n",
              "[1] 49370\n",
              "\n",
              "[[43]]$testing_pos\n",
              "[1] 371\n",
              "\n",
              "[[43]]$envios\n",
              "[1] 3220\n",
              "\n",
              "[[43]]$aciertos\n",
              "[1] 193\n",
              "\n",
              "[[43]]$ganancia_test\n",
              "[1] 4.5e+07\n",
              "\n",
              "\n",
              "[[44]]\n",
              "[[44]]$semilla\n",
              "[1] 946823\n",
              "\n",
              "[[44]]$testing\n",
              "[1] 49373\n",
              "\n",
              "[[44]]$testing_pos\n",
              "[1] 369\n",
              "\n",
              "[[44]]$envios\n",
              "[1] 3541\n",
              "\n",
              "[[44]]$aciertos\n",
              "[1] 203\n",
              "\n",
              "[[44]]$ganancia_test\n",
              "[1] 45790000\n",
              "\n",
              "\n",
              "[[45]]\n",
              "[[45]]$semilla\n",
              "[1] 901517\n",
              "\n",
              "[[45]]$testing\n",
              "[1] 49380\n",
              "\n",
              "[[45]]$testing_pos\n",
              "[1] 376\n",
              "\n",
              "[[45]]$envios\n",
              "[1] 3698\n",
              "\n",
              "[[45]]$aciertos\n",
              "[1] 221\n",
              "\n",
              "[[45]]$ganancia_test\n",
              "[1] 51420000\n",
              "\n",
              "\n",
              "[[46]]\n",
              "[[46]]$semilla\n",
              "[1] 484447\n",
              "\n",
              "[[46]]$testing\n",
              "[1] 49376\n",
              "\n",
              "[[46]]$testing_pos\n",
              "[1] 376\n",
              "\n",
              "[[46]]$envios\n",
              "[1] 3529\n",
              "\n",
              "[[46]]$aciertos\n",
              "[1] 203\n",
              "\n",
              "[[46]]$ganancia_test\n",
              "[1] 45910000\n",
              "\n",
              "\n",
              "[[47]]\n",
              "[[47]]$semilla\n",
              "[1] 672557\n",
              "\n",
              "[[47]]$testing\n",
              "[1] 49377\n",
              "\n",
              "[[47]]$testing_pos\n",
              "[1] 374\n",
              "\n",
              "[[47]]$envios\n",
              "[1] 3109\n",
              "\n",
              "[[47]]$aciertos\n",
              "[1] 207\n",
              "\n",
              "[[47]]$ganancia_test\n",
              "[1] 51710000\n",
              "\n",
              "\n",
              "[[48]]\n",
              "[[48]]$semilla\n",
              "[1] 215983\n",
              "\n",
              "[[48]]$testing\n",
              "[1] 49382\n",
              "\n",
              "[[48]]$testing_pos\n",
              "[1] 375\n",
              "\n",
              "[[48]]$envios\n",
              "[1] 3621\n",
              "\n",
              "[[48]]$aciertos\n",
              "[1] 200\n",
              "\n",
              "[[48]]$ganancia_test\n",
              "[1] 43790000\n",
              "\n",
              "\n",
              "[[49]]\n",
              "[[49]]$semilla\n",
              "[1] 397283\n",
              "\n",
              "[[49]]$testing\n",
              "[1] 49374\n",
              "\n",
              "[[49]]$testing_pos\n",
              "[1] 374\n",
              "\n",
              "[[49]]$envios\n",
              "[1] 2958\n",
              "\n",
              "[[49]]$aciertos\n",
              "[1] 187\n",
              "\n",
              "[[49]]$ganancia_test\n",
              "[1] 45220000\n",
              "\n",
              "\n",
              "[[50]]\n",
              "[[50]]$semilla\n",
              "[1] 375743\n",
              "\n",
              "[[50]]$testing\n",
              "[1] 49376\n",
              "\n",
              "[[50]]$testing_pos\n",
              "[1] 374\n",
              "\n",
              "[[50]]$envios\n",
              "[1] 3852\n",
              "\n",
              "[[50]]$aciertos\n",
              "[1] 226\n",
              "\n",
              "[[50]]$ganancia_test\n",
              "[1] 51880000\n",
              "\n"
            ]
          },
          "metadata": {}
        }
      ]
    },
    {
      "cell_type": "code",
      "source": [
        "# paso la lista a vector\n",
        "tb_salida <- rbindlist(salidas)\n",
        "print( tb_salida)"
      ],
      "metadata": {
        "id": "unGWiKRMGimU",
        "outputId": "e15e7fde-62ac-4fc3-a578-ad8c774dda21",
        "colab": {
          "base_uri": "https://localhost:8080/"
        }
      },
      "execution_count": null,
      "outputs": [
        {
          "output_type": "stream",
          "name": "stdout",
          "text": [
            "    semilla testing testing_pos envios aciertos ganancia_test\n",
            "      <int>   <int>       <int>  <int>    <int>         <num>\n",
            " 1:  816581   49378         372   3814      219      49460000\n",
            " 2:  658841   49369         368   3775      227      53050000\n",
            " 3:  700871   49373         371   2940      183      43800000\n",
            " 4:  612407   49389         375   3020      185      43800000\n",
            " 5:  258443   49375         374   3492      201      45480000\n",
            " 6:  999133   49383         372   2917      191      47230000\n",
            " 7:  945367   49385         374   2675      192      50050000\n",
            " 8:  715823   49383         373   3455      211      49850000\n",
            " 9:  280103   49385         376   3417      211      50230000\n",
            "10:  448421   49377         371   3643      192      40370000\n",
            "11:  368531   49383         375   3940      203      41800000\n",
            "12:  885551   49370         376   3601      213      49190000\n",
            "13:  942079   49374         374   3201      207      50790000\n",
            "14:  201389   49382         376   3716      224      52440000\n",
            "15:  444287   49367         374   4373      242      53070000\n",
            "16:  806543   49387         376   3365      198      45550000\n",
            "17:  986719   49377         375   2620      169      41400000\n",
            "18:  550763   49376         375   3951      228      51690000\n",
            "19:  420683   49363         369   3682      218      50380000\n",
            "20:  897779   49367         371   3173      189      43870000\n",
            "21:  450707   49390         379   3532      225      54680000\n",
            "22:  208441   49376         373   2860      178      42600000\n",
            "23:  139547   49381         376   3678      212      48020000\n",
            "24:  166189   49390         377   3514      210      48860000\n",
            "25:  812299   49386         381   3565      219      51950000\n",
            "26:  449963   49377         373   3285      188      42350000\n",
            "27:  582737   49373         370   3656      202      44240000\n",
            "28:  715877   49380         371   3571      219      51890000\n",
            "29:  102503   49382         376   3725      226      53150000\n",
            "30:  189853   49392         380   3725      227      53550000\n",
            "31:  924019   49371         372   3918      211      45220000\n",
            "32:  310861   49383         375   3003      204      51570000\n",
            "33:  661993   49379         376   3311      202      47690000\n",
            "34:  773063   49385         376   3337      202      47430000\n",
            "35:  420037   49371         370   3206      196      46340000\n",
            "36:  464741   49370         375   2961      184      43990000\n",
            "37:  465931   49391         380   3206      206      50340000\n",
            "38:  143107   49379         376   2829      188      46910000\n",
            "39:  136511   49376         374   3540      216      51000000\n",
            "40:  900743   49364         373   3285      192      43950000\n",
            "41:  281683   49388         378   3592      216      50480000\n",
            "42:  421913   49378         372   3493      213      50270000\n",
            "43:  177011   49370         371   3220      193      45000000\n",
            "44:  946823   49373         369   3541      203      45790000\n",
            "45:  901517   49380         376   3698      221      51420000\n",
            "46:  484447   49376         376   3529      203      45910000\n",
            "47:  672557   49377         374   3109      207      51710000\n",
            "48:  215983   49382         375   3621      200      43790000\n",
            "49:  397283   49374         374   2958      187      45220000\n",
            "50:  375743   49376         374   3852      226      51880000\n",
            "    semilla testing testing_pos envios aciertos ganancia_test\n"
          ]
        }
      ]
    },
    {
      "cell_type": "code",
      "source": [
        "# calulo la salida\n",
        "for( i in seq(10, 50, 10) )\n",
        "{\n",
        "  cat( i, \"\\t\", tb_salida[ 1:i, mean(ganancia_test)], \"\\n\" )\n",
        "}\n"
      ],
      "metadata": {
        "id": "oGoadhBKGimV",
        "outputId": "2adae767-b944-4e9a-f2b3-fbc9a8ff2aee",
        "colab": {
          "base_uri": "https://localhost:8080/"
        }
      },
      "execution_count": null,
      "outputs": [
        {
          "output_type": "stream",
          "name": "stdout",
          "text": [
            "10 \t 47332000 \n",
            "20 \t 47675000 \n",
            "30 \t 48159667 \n",
            "40 \t 47980750 \n",
            "50 \t 48014000 \n"
          ]
        }
      ]
    },
    {
      "cell_type": "markdown",
      "source": [
        "### Acciones a realizar\n",
        "* Reportar la  los resultados en la planilla colaborativa hoja  **C2-nsem**\n",
        "* Se discutirá en clase la variabilidad de las distintas cantidades de semillas"
      ],
      "metadata": {
        "id": "dO9yQKt7GimV"
      }
    },
    {
      "cell_type": "markdown",
      "source": [
        "\n",
        "\n",
        "---\n",
        "\n"
      ],
      "metadata": {
        "id": "ziFKwIlBGimW"
      }
    },
    {
      "cell_type": "markdown",
      "source": [
        "# 5  DiezMil -Monte Carlo Cross Validation\n",
        "## Clase 02  Experimento 5"
      ],
      "metadata": {
        "id": "2jncHe-KJLUg"
      }
    },
    {
      "cell_type": "markdown",
      "source": [
        "Mostrar a los estudiantes el resultado de un experimento en donde se ha corrido una Monte Carlo Cross Validation utilizando diez mil semillas y relacionar la cantidad de semillas con el resultado del Teorema Central del Límite\n",
        "<br>Los resultados se muestran en esta misma guia y se comentan en clase,Bajo ningún concepto se solicitará a l@s estudiantes hacer este experimento en clase ya que lleva varias horas en correr.\n"
      ],
      "metadata": {
        "id": "vUzSGZGOJZq8"
      }
    },
    {
      "cell_type": "markdown",
      "source": [
        "Aqui usted NO debe correr absolutamente nada, el experimento ya fue corrido por la cátedra y le muestra los resultados."
      ],
      "metadata": {
        "id": "G0YGjTMxuTSg"
      }
    },
    {
      "cell_type": "markdown",
      "source": [
        "## 5.1\n",
        "Estos resultados han sido corridos por la cátedra.\n",
        "\n",
        "![Distribucion de las ganancias](https://storage.googleapis.com/open-courses/austral2025-af91/labo1r/C2_E5_distribucion.jpg)"
      ],
      "metadata": {
        "id": "7NRUb3WtJikc"
      }
    },
    {
      "cell_type": "markdown",
      "source": [
        "![salida](https://storage.googleapis.com/open-courses/austral2025-af91/labo1r/C2_E5_salida.jpg)"
      ],
      "metadata": {
        "id": "tZ4X8wdSKc7G"
      }
    },
    {
      "cell_type": "markdown",
      "source": [
        "![tabla](https://storage.googleapis.com/open-courses/austral2025-af91/labo1r/C2_E5_tabla.jpg)\n",
        "\n",
        " 2    ~    1,96  =  3605406.2 / 1836264.3\n",
        "\n",
        "Por el teorema central del límite, un aumento de 4 veces de la cantidad de registros que se promedian el desvio estandar disminuye 2 veces ,  raiz(4 ) = 2"
      ],
      "metadata": {
        "id": "EsL5ukNWKS71"
      }
    },
    {
      "cell_type": "markdown",
      "source": [
        "\n",
        "\n",
        "---\n",
        "\n"
      ],
      "metadata": {
        "id": "OTLq8TC4LR0c"
      }
    },
    {
      "cell_type": "markdown",
      "source": [
        "# 6 Comparando dos distintos  modelos\n",
        "## Clase 02  Experimento 6"
      ],
      "metadata": {
        "id": "sAS1bfL8LmBv"
      }
    },
    {
      "cell_type": "markdown",
      "source": [
        "## 6.1  Objetivos\n",
        "Presentar a los alumnos la dificultad que se presenta ante la comparación de dos modelos, uno posee un poder predictivo claramente mayor al otro.\n",
        "Comparación simple de media de ganancias, versus probabilidad que un modelo sea superior a otro."
      ],
      "metadata": {
        "id": "KzwdMJDZLmB9"
      }
    },
    {
      "cell_type": "markdown",
      "source": [
        "## 6.2 Introduccion\n",
        "Estos son los dos arboles de muy distinta profundidad.\n",
        "<br>¿Cuál de ellos es mejor? ¿Cuál elijo?\n",
        "\n",
        "| Hiperparámetro | Arbol 1 | Arbol 2 |\n",
        "| --- | --: |  ---: |\n",
        "| cp | -1 | -1 |\n",
        "|minsplit | 170 | 250 |\n",
        "|minbucket | 70 | 125 |\n",
        "|maxdepth | 7 | 20 |\n",
        "\n"
      ],
      "metadata": {
        "id": "DDyFNmJ9L_CW"
      }
    },
    {
      "cell_type": "markdown",
      "source": [
        "## 6.3 Codigo dos distintos modelos"
      ],
      "metadata": {
        "id": "bQfwNsVzNrtI"
      }
    },
    {
      "cell_type": "markdown",
      "source": [
        "Esta parte se debe correr con el runtime en lenguaje **R** Ir al menu, Runtime -> Change Runtime Tipe -> Runtime type -> R"
      ],
      "metadata": {
        "id": "Ku7qQgKjNruJ"
      }
    },
    {
      "cell_type": "markdown",
      "source": [
        "El tiempo de corrida es de alrededor de 40 minutos"
      ],
      "metadata": {
        "id": "6jCdS3NMuKei"
      }
    },
    {
      "cell_type": "markdown",
      "source": [
        "limpio el ambiente de R"
      ],
      "metadata": {
        "id": "Z1EUBeHyNruK"
      }
    },
    {
      "cell_type": "code",
      "source": [
        "# limpio la memoria\n",
        "rm(list=ls(all.names=TRUE)) # remove all objects\n",
        "gc(full=TRUE, verbose=FALSE) # garbage collection"
      ],
      "metadata": {
        "id": "GxbC4V3zNruM",
        "outputId": "177bb531-324a-4415-e3b4-0e1d1ce76252",
        "colab": {
          "base_uri": "https://localhost:8080/",
          "height": 129
        }
      },
      "execution_count": 1,
      "outputs": [
        {
          "output_type": "display_data",
          "data": {
            "text/html": [
              "<table class=\"dataframe\">\n",
              "<caption>A matrix: 2 × 6 of type dbl</caption>\n",
              "<thead>\n",
              "\t<tr><th></th><th scope=col>used</th><th scope=col>(Mb)</th><th scope=col>gc trigger</th><th scope=col>(Mb)</th><th scope=col>max used</th><th scope=col>(Mb)</th></tr>\n",
              "</thead>\n",
              "<tbody>\n",
              "\t<tr><th scope=row>Ncells</th><td> 657245</td><td>35.2</td><td>1454454</td><td>77.7</td><td>1326128</td><td>70.9</td></tr>\n",
              "\t<tr><th scope=row>Vcells</th><td>1220272</td><td> 9.4</td><td>8388608</td><td>64.0</td><td>1975127</td><td>15.1</td></tr>\n",
              "</tbody>\n",
              "</table>\n"
            ],
            "text/markdown": "\nA matrix: 2 × 6 of type dbl\n\n| <!--/--> | used | (Mb) | gc trigger | (Mb) | max used | (Mb) |\n|---|---|---|---|---|---|---|\n| Ncells |  657245 | 35.2 | 1454454 | 77.7 | 1326128 | 70.9 |\n| Vcells | 1220272 |  9.4 | 8388608 | 64.0 | 1975127 | 15.1 |\n\n",
            "text/latex": "A matrix: 2 × 6 of type dbl\n\\begin{tabular}{r|llllll}\n  & used & (Mb) & gc trigger & (Mb) & max used & (Mb)\\\\\n\\hline\n\tNcells &  657245 & 35.2 & 1454454 & 77.7 & 1326128 & 70.9\\\\\n\tVcells & 1220272 &  9.4 & 8388608 & 64.0 & 1975127 & 15.1\\\\\n\\end{tabular}\n",
            "text/plain": [
              "       used    (Mb) gc trigger (Mb) max used (Mb)\n",
              "Ncells  657245 35.2 1454454    77.7 1326128  70.9\n",
              "Vcells 1220272  9.4 8388608    64.0 1975127  15.1"
            ]
          },
          "metadata": {}
        }
      ]
    },
    {
      "cell_type": "markdown",
      "source": [
        "* Instalacion de la libreria  rpart.plot  para dibujar el arbol\n",
        "* invocacion de las librerias  **data.table** y  **rpart**"
      ],
      "metadata": {
        "id": "i2WkSCIhNruQ"
      }
    },
    {
      "cell_type": "code",
      "source": [
        "# cargo las librerias que necesito\n",
        "require(\"data.table\")\n",
        "require(\"rpart\")\n",
        "require(\"parallel\")\n",
        "\n",
        "if (!require(\"primes\")) install.packages(\"primes\")\n",
        "require(\"primes\")\n",
        "\n",
        "require(\"ggplot2\")"
      ],
      "metadata": {
        "id": "3bMsgZJWNruR",
        "outputId": "9beb884f-ca20-4199-f529-cced6e1d3e6c",
        "colab": {
          "base_uri": "https://localhost:8080/"
        }
      },
      "execution_count": 2,
      "outputs": [
        {
          "output_type": "stream",
          "name": "stderr",
          "text": [
            "Loading required package: data.table\n",
            "\n",
            "Loading required package: rpart\n",
            "\n",
            "Loading required package: parallel\n",
            "\n",
            "Loading required package: primes\n",
            "\n",
            "Warning message in library(package, lib.loc = lib.loc, character.only = TRUE, logical.return = TRUE, :\n",
            "“there is no package called ‘primes’”\n",
            "Installing package into ‘/usr/local/lib/R/site-library’\n",
            "(as ‘lib’ is unspecified)\n",
            "\n",
            "Loading required package: primes\n",
            "\n",
            "Loading required package: ggplot2\n",
            "\n"
          ]
        }
      ]
    },
    {
      "cell_type": "markdown",
      "source": [
        "###  Accion a Realizar\n",
        "PARAM$semilla_primigenia  debe reemplazarse por SU primer semilla"
      ],
      "metadata": {
        "id": "t1lTXrKaNruT"
      }
    },
    {
      "cell_type": "code",
      "source": [
        "PARAM <- list()\n",
        "PARAM$semilla_primigenia <- 943153\n",
        "PARAM$qsemillas <- 20\n",
        "PARAM$training_pct <- 70L     # entre 1 y 100\n"
      ],
      "metadata": {
        "id": "QFbPtTCMNruV"
      },
      "execution_count": 3,
      "outputs": []
    },
    {
      "cell_type": "code",
      "source": [
        "# los dos arboles\n",
        "PARAM$rpart1 <- list (\n",
        "  \"cp\" = -1,\n",
        "  \"minsplit\" = 170,\n",
        "  \"minbucket\" = 70,\n",
        "  \"maxdepth\" = 7\n",
        ")\n",
        "\n",
        "\n",
        "PARAM$rpart2 <- list (\n",
        "  \"cp\" = -1,\n",
        "  \"minsplit\" = 250,\n",
        "  \"minbucket\" = 125,\n",
        "  \"maxdepth\" = 20\n",
        ")"
      ],
      "metadata": {
        "id": "GiBGk7WKQv2V"
      },
      "execution_count": 4,
      "outputs": []
    },
    {
      "cell_type": "code",
      "source": [
        "# particionar agrega una columna llamada fold a un dataset\n",
        "#  que consiste en una particion estratificada segun agrupa\n",
        "\n",
        "# particionar( data=dataset, division=c(70,30),\n",
        "#  agrupa=clase_ternaria, seed=semilla)   crea una particion 70, 30\n",
        "\n",
        "particionar <- function(\n",
        "    data, division, agrupa = \"\",\n",
        "    campo = \"fold\", start = 1, seed = NA) {\n",
        "  if (!is.na(seed)) set.seed(seed)\n",
        "\n",
        "  bloque <- unlist(mapply(function(x, y) {\n",
        "    rep(y, x)\n",
        "  }, division, seq(from = start, length.out = length(division))))\n",
        "\n",
        "  data[, (campo) := sample(rep(bloque, ceiling(.N / length(bloque))))[1:.N],\n",
        "    by = agrupa\n",
        "  ]\n",
        "}\n"
      ],
      "metadata": {
        "id": "2BabfKg7NruX"
      },
      "execution_count": 5,
      "outputs": []
    },
    {
      "cell_type": "code",
      "source": [
        "DosArbolesEstimarGanancia <- function(semilla, training_pct, param_rpart1, param_rpart2) {\n",
        "\n",
        "  # fuerzo impresion\n",
        "  print( paste( semilla, Sys.time()) )\n",
        "  flush.console()\n",
        "\n",
        "  # particiono estratificadamente el dataset\n",
        "  particionar(dataset,\n",
        "    division = c(training_pct, 100L -training_pct),\n",
        "    agrupa = \"clase_ternaria\",\n",
        "    seed = semilla # aqui se usa SU semilla\n",
        "  )\n",
        "\n",
        "  # genero el modelo\n",
        "  # predecir clase_ternaria a partir del resto\n",
        "  modelo1 <- rpart(\"clase_ternaria ~ .\",\n",
        "    data = dataset[fold == 1], # fold==1  es training,  el 70% de los datos\n",
        "    xval = 0,\n",
        "    control = param_rpart1\n",
        "  ) # aqui van los parametros del arbol\n",
        "\n",
        "  # aplico el modelo a los datos de testing\n",
        "  prediccion1 <- predict(modelo1, # el modelo que genere recien\n",
        "    dataset[fold == 2], # fold==2  es testing, el 30% de los datos\n",
        "    type = \"prob\"\n",
        "  ) # type= \"prob\"  es que devuelva la probabilidad\n",
        "\n",
        "\n",
        "  # calculo la ganancia en testing  qu es fold==2\n",
        "  ganancia_test1 <- dataset[\n",
        "    fold == 2,\n",
        "    sum(ifelse(prediccion1[, \"BAJA+2\"] > 0.025,\n",
        "      ifelse(clase_ternaria == \"BAJA+2\", 117000, -3000),\n",
        "      0\n",
        "    ))\n",
        "  ]\n",
        "\n",
        "  # escalo la ganancia como si fuera todo el dataset\n",
        "  ganancia_test_normalizada1 <- ganancia_test1 / (( 100 - training_pct ) / 100 )\n",
        "\n",
        "  modelo2 <- rpart(\"clase_ternaria ~ .\",\n",
        "    data = dataset[fold == 1], # fold==1  es training,  el 70% de los datos\n",
        "    xval = 0,\n",
        "    control = param_rpart2\n",
        "  ) # aqui van los parametros del arbol\n",
        "\n",
        "  # aplico el modelo a los datos de testing\n",
        "  prediccion2 <- predict(modelo2, # el modelo que genere recien\n",
        "    dataset[fold == 2], # fold==2  es testing, el 30% de los datos\n",
        "    type = \"prob\"\n",
        "  ) # type= \"prob\"  es que devuelva la probabilidad\n",
        "\n",
        "\n",
        "  # calculo la ganancia en testing  qu es fold==2\n",
        "  ganancia_test2 <- dataset[\n",
        "    fold == 2,\n",
        "    sum(ifelse(prediccion2[, \"BAJA+2\"] > 0.025,\n",
        "      ifelse(clase_ternaria == \"BAJA+2\", 117000, -3000),\n",
        "      0\n",
        "    ))\n",
        "  ]\n",
        "\n",
        "  # escalo la ganancia como si fuera todo el dataset\n",
        "  ganancia_test_normalizada2 <- ganancia_test2 / (( 100 - training_pct ) / 100 )\n",
        "\n",
        "  return(list(\n",
        "    \"semilla\" = semilla,\n",
        "    \"ganancia1\" = ganancia_test_normalizada1,\n",
        "    \"ganancia2\" = ganancia_test_normalizada2\n",
        "  ))\n",
        "}"
      ],
      "metadata": {
        "id": "YrGJgj4UNruZ"
      },
      "execution_count": 6,
      "outputs": []
    },
    {
      "cell_type": "code",
      "source": [
        "# carpeta de trabajo\n",
        "setwd(\"/content/buckets/b1/exp\")\n",
        "experimento <- \"exp206\"\n",
        "dir.create(experimento, showWarnings=FALSE)\n",
        "setwd( paste0(\"/content/buckets/b1/exp/\", experimento ))"
      ],
      "metadata": {
        "id": "2C2yjgQVNrud"
      },
      "execution_count": 7,
      "outputs": []
    },
    {
      "cell_type": "code",
      "source": [
        "# lectura del dataset\n",
        "dataset <- fread(\"/content/datasets/dataset_pequeno.csv\")\n",
        "\n",
        "# trabajo solo con los datos con clase, es decir 202107\n",
        "dataset <- dataset[clase_ternaria != \"\"]"
      ],
      "metadata": {
        "id": "oQeGcBnPNrug"
      },
      "execution_count": 8,
      "outputs": []
    },
    {
      "cell_type": "code",
      "source": [
        "detectCores()"
      ],
      "metadata": {
        "id": "gXKI2eXO9Osx",
        "outputId": "8b988f63-c671-4a0d-99f9-b22450cfb5f8",
        "colab": {
          "base_uri": "https://localhost:8080/",
          "height": 34
        }
      },
      "execution_count": 9,
      "outputs": [
        {
          "output_type": "display_data",
          "data": {
            "text/html": [
              "2"
            ],
            "text/markdown": "2",
            "text/latex": "2",
            "text/plain": [
              "[1] 2"
            ]
          },
          "metadata": {}
        }
      ]
    },
    {
      "cell_type": "code",
      "source": [
        "# genero numeros primos\n",
        "primos <- generate_primes(min = 100000, max = 1000000)\n",
        "set.seed(PARAM$semilla_primigenia) # inicializo\n",
        "\n",
        "# me quedo con PARAM$qsemillas   semillas\n",
        "PARAM$semillas <- sample(primos, PARAM$qsemillas )"
      ],
      "metadata": {
        "id": "tU8S7_5ANrui"
      },
      "execution_count": 10,
      "outputs": []
    },
    {
      "cell_type": "code",
      "source": [
        "# demora interminables 60 minutos en correr en Google Colab\n",
        "Sys.time()\n",
        "\n",
        "salidas <- mcmapply( DosArbolesEstimarGanancia,\n",
        "  PARAM$semillas, # paso el vector de semillas\n",
        "  MoreArgs = list(PARAM$training_pct, PARAM$rpart1, PARAM$rpart2), # aqui paso el segundo parametro\n",
        "  SIMPLIFY = FALSE,\n",
        "  mc.cores = detectCores()\n",
        ")\n",
        "\n",
        "Sys.time()"
      ],
      "metadata": {
        "id": "mlF66CgxcHF3",
        "outputId": "af095a2f-414d-49d1-ce56-bd85d7a37628",
        "colab": {
          "base_uri": "https://localhost:8080/",
          "height": 53
        }
      },
      "execution_count": 11,
      "outputs": [
        {
          "output_type": "display_data",
          "data": {
            "text/plain": [
              "[1] \"2025-10-12 23:01:34 UTC\""
            ]
          },
          "metadata": {}
        },
        {
          "output_type": "display_data",
          "data": {
            "text/plain": [
              "[1] \"2025-10-13 00:02:29 UTC\""
            ]
          },
          "metadata": {}
        }
      ]
    },
    {
      "cell_type": "code",
      "source": [
        "# paso la lista a vector\n",
        "tb_salida <- rbindlist(salidas)\n",
        "tb_salida"
      ],
      "metadata": {
        "id": "_g-_kccdNrum",
        "outputId": "d2bd52e3-7d2f-48ca-aba1-ab2dd2434396",
        "colab": {
          "base_uri": "https://localhost:8080/",
          "height": 725
        }
      },
      "execution_count": 12,
      "outputs": [
        {
          "output_type": "display_data",
          "data": {
            "text/html": [
              "<table class=\"dataframe\">\n",
              "<caption>A data.table: 20 × 3</caption>\n",
              "<thead>\n",
              "\t<tr><th scope=col>semilla</th><th scope=col>ganancia1</th><th scope=col>ganancia2</th></tr>\n",
              "\t<tr><th scope=col>&lt;int&gt;</th><th scope=col>&lt;dbl&gt;</th><th scope=col>&lt;dbl&gt;</th></tr>\n",
              "</thead>\n",
              "<tbody>\n",
              "\t<tr><td>816581</td><td>49460000</td><td>44180000</td></tr>\n",
              "\t<tr><td>658841</td><td>53050000</td><td>44700000</td></tr>\n",
              "\t<tr><td>700871</td><td>43800000</td><td>38600000</td></tr>\n",
              "\t<tr><td>612407</td><td>43800000</td><td>37530000</td></tr>\n",
              "\t<tr><td>258443</td><td>45480000</td><td>37930000</td></tr>\n",
              "\t<tr><td>999133</td><td>47230000</td><td>35840000</td></tr>\n",
              "\t<tr><td>945367</td><td>50050000</td><td>39240000</td></tr>\n",
              "\t<tr><td>715823</td><td>49850000</td><td>42270000</td></tr>\n",
              "\t<tr><td>280103</td><td>50230000</td><td>44540000</td></tr>\n",
              "\t<tr><td>448421</td><td>40370000</td><td>36720000</td></tr>\n",
              "\t<tr><td>368531</td><td>41800000</td><td>39340000</td></tr>\n",
              "\t<tr><td>885551</td><td>49190000</td><td>46660000</td></tr>\n",
              "\t<tr><td>942079</td><td>50790000</td><td>45080000</td></tr>\n",
              "\t<tr><td>201389</td><td>52440000</td><td>44950000</td></tr>\n",
              "\t<tr><td>444287</td><td>53070000</td><td>41250000</td></tr>\n",
              "\t<tr><td>806543</td><td>45550000</td><td>40030000</td></tr>\n",
              "\t<tr><td>986719</td><td>41400000</td><td>36970000</td></tr>\n",
              "\t<tr><td>550763</td><td>51690000</td><td>50240000</td></tr>\n",
              "\t<tr><td>420683</td><td>50380000</td><td>45860000</td></tr>\n",
              "\t<tr><td>897779</td><td>43870000</td><td>43820000</td></tr>\n",
              "</tbody>\n",
              "</table>\n"
            ],
            "text/markdown": "\nA data.table: 20 × 3\n\n| semilla &lt;int&gt; | ganancia1 &lt;dbl&gt; | ganancia2 &lt;dbl&gt; |\n|---|---|---|\n| 816581 | 49460000 | 44180000 |\n| 658841 | 53050000 | 44700000 |\n| 700871 | 43800000 | 38600000 |\n| 612407 | 43800000 | 37530000 |\n| 258443 | 45480000 | 37930000 |\n| 999133 | 47230000 | 35840000 |\n| 945367 | 50050000 | 39240000 |\n| 715823 | 49850000 | 42270000 |\n| 280103 | 50230000 | 44540000 |\n| 448421 | 40370000 | 36720000 |\n| 368531 | 41800000 | 39340000 |\n| 885551 | 49190000 | 46660000 |\n| 942079 | 50790000 | 45080000 |\n| 201389 | 52440000 | 44950000 |\n| 444287 | 53070000 | 41250000 |\n| 806543 | 45550000 | 40030000 |\n| 986719 | 41400000 | 36970000 |\n| 550763 | 51690000 | 50240000 |\n| 420683 | 50380000 | 45860000 |\n| 897779 | 43870000 | 43820000 |\n\n",
            "text/latex": "A data.table: 20 × 3\n\\begin{tabular}{lll}\n semilla & ganancia1 & ganancia2\\\\\n <int> & <dbl> & <dbl>\\\\\n\\hline\n\t 816581 & 49460000 & 44180000\\\\\n\t 658841 & 53050000 & 44700000\\\\\n\t 700871 & 43800000 & 38600000\\\\\n\t 612407 & 43800000 & 37530000\\\\\n\t 258443 & 45480000 & 37930000\\\\\n\t 999133 & 47230000 & 35840000\\\\\n\t 945367 & 50050000 & 39240000\\\\\n\t 715823 & 49850000 & 42270000\\\\\n\t 280103 & 50230000 & 44540000\\\\\n\t 448421 & 40370000 & 36720000\\\\\n\t 368531 & 41800000 & 39340000\\\\\n\t 885551 & 49190000 & 46660000\\\\\n\t 942079 & 50790000 & 45080000\\\\\n\t 201389 & 52440000 & 44950000\\\\\n\t 444287 & 53070000 & 41250000\\\\\n\t 806543 & 45550000 & 40030000\\\\\n\t 986719 & 41400000 & 36970000\\\\\n\t 550763 & 51690000 & 50240000\\\\\n\t 420683 & 50380000 & 45860000\\\\\n\t 897779 & 43870000 & 43820000\\\\\n\\end{tabular}\n",
            "text/plain": [
              "   semilla ganancia1 ganancia2\n",
              "1  816581  49460000  44180000 \n",
              "2  658841  53050000  44700000 \n",
              "3  700871  43800000  38600000 \n",
              "4  612407  43800000  37530000 \n",
              "5  258443  45480000  37930000 \n",
              "6  999133  47230000  35840000 \n",
              "7  945367  50050000  39240000 \n",
              "8  715823  49850000  42270000 \n",
              "9  280103  50230000  44540000 \n",
              "10 448421  40370000  36720000 \n",
              "11 368531  41800000  39340000 \n",
              "12 885551  49190000  46660000 \n",
              "13 942079  50790000  45080000 \n",
              "14 201389  52440000  44950000 \n",
              "15 444287  53070000  41250000 \n",
              "16 806543  45550000  40030000 \n",
              "17 986719  41400000  36970000 \n",
              "18 550763  51690000  50240000 \n",
              "19 420683  50380000  45860000 \n",
              "20 897779  43870000  43820000 "
            ]
          },
          "metadata": {}
        }
      ]
    },
    {
      "cell_type": "code",
      "source": [
        "grafico <- ggplot( tb_salida, aes(x=ganancia1)) + geom_density(alpha=0.25, fill=\"green\", color=\"green\")  +\n",
        "             geom_density(data=tb_salida, aes(x=ganancia2), fill=\"purple\", color=\"purple\",  alpha=0.10)\n",
        "\n",
        "print(grafico)"
      ],
      "metadata": {
        "id": "-O0rg6btNrun",
        "outputId": "416ee88b-e348-4a28-86a0-c683e67e8c04",
        "colab": {
          "base_uri": "https://localhost:8080/",
          "height": 437
        }
      },
      "execution_count": 13,
      "outputs": [
        {
          "output_type": "display_data",
          "data": {
            "text/plain": [
              "plot without title"
            ],
            "image/png": "[encoded data removed]"
          },
          "metadata": {
            "image/png": {
              "width": 420,
              "height": 420
            }
          }
        }
      ]
    },
    {
      "cell_type": "code",
      "source": [
        "# imprimo en un .pdf  que va a la carpeta del experimento\n",
        "pdf(\"densidad_dos.pdf\")\n",
        "print(grafico)\n",
        "dev.off()"
      ],
      "metadata": {
        "id": "uSqrazOyU_LC",
        "outputId": "c682e5c0-be4f-4bfc-ecc9-ced871a76ca6",
        "colab": {
          "base_uri": "https://localhost:8080/",
          "height": 34
        }
      },
      "execution_count": 14,
      "outputs": [
        {
          "output_type": "display_data",
          "data": {
            "text/html": [
              "<strong>agg_record_1144395227:</strong> 2"
            ],
            "text/markdown": "**agg_record_1144395227:** 2",
            "text/latex": "\\textbf{agg\\textbackslash{}\\_record\\textbackslash{}\\_1144395227:} 2",
            "text/plain": [
              "agg_record_1144395227 \n",
              "                    2 "
            ]
          },
          "metadata": {}
        }
      ]
    },
    {
      "cell_type": "code",
      "source": [
        "print( tb_salida[ , list( \"arbol1\" = mean( ganancia1),  \"arbol2\" = mean(ganancia2) ) ] )\n",
        "\n",
        "print( tb_salida[ , list( \"prob( m1 > m2)\" = sum(ganancia1 > ganancia2 )/ .N ) ]  )"
      ],
      "metadata": {
        "id": "LGv0LB_4R7US",
        "outputId": "20042600-b819-4d43-bc0e-2ae3a06d72d9",
        "colab": {
          "base_uri": "https://localhost:8080/"
        }
      },
      "execution_count": 15,
      "outputs": [
        {
          "output_type": "stream",
          "name": "stdout",
          "text": [
            "     arbol1   arbol2\n",
            "      <num>    <num>\n",
            "1: 47675000 41787500\n",
            "   prob( m1 > m2)\n",
            "            <num>\n",
            "1:              1\n"
          ]
        }
      ]
    },
    {
      "cell_type": "markdown",
      "source": [
        "### Acciones a realizar\n",
        "* Reportar la  los resultados en la planilla colaborativa hoja  **C2-dosModelos**\n",
        "* ¿Todos los alumnos hubieran elegido el mismo modelo aun con 20 semillas?"
      ],
      "metadata": {
        "id": "F6lFJf1VTi8b"
      }
    },
    {
      "cell_type": "markdown",
      "source": [
        "\n",
        "\n",
        "---\n",
        "\n"
      ],
      "metadata": {
        "id": "aOpy-XBKTi8n"
      }
    },
    {
      "cell_type": "markdown",
      "source": [
        "# 7 Comparando dos buenos  modelos\n",
        "## Clase 02  Experimento 7"
      ],
      "metadata": {
        "id": "EdzjiJf-dsEK"
      }
    },
    {
      "cell_type": "markdown",
      "source": [
        "## 7.1  Objetivos\n",
        "Presentar a los alumnos la dificultad que surge en la comparación de dos muy distintos, pero ambos buenos, modelos predictivos, y el costo computacional asociado a esa comparación\n",
        "<br>Comparación simple de media de ganancias, versus probabilidad que un modelo sea superior a otro.\n",
        "<br>Limitaciones de la MonteCarlo Cross Validation\n",
        "<br>Existencia del Test de Wilcoxon"
      ],
      "metadata": {
        "id": "FcBjp5XxdsEt"
      }
    },
    {
      "cell_type": "markdown",
      "source": [
        "## 7.2 Introduccion\n",
        "Estos son los dos arboles de muy distinta profundidad.\n",
        "<br>¿Cuál de ellos es mejor? ¿Cuál elijo?\n",
        "\n",
        "| Hiperparámetro | Arbol 1 | Arbol 2 |\n",
        "| --- | --: |  ---: |\n",
        "| cp | -1 | -1 |\n",
        "|minsplit | 170 | 1900 |\n",
        "|minbucket | 70 | 800 |\n",
        "|maxdepth | 7 | 3 |\n",
        "\n"
      ],
      "metadata": {
        "id": "tYcOIcwCdsEu"
      }
    },
    {
      "cell_type": "markdown",
      "source": [
        "## 7.3 Dos buenos modelos"
      ],
      "metadata": {
        "id": "r0NDA7GgdsEu"
      }
    },
    {
      "cell_type": "markdown",
      "source": [
        "Esta parte se debe correr con el runtime en lenguaje **R** Ir al menu, Runtime -> Change Runtime Tipe -> Runtime type -> R"
      ],
      "metadata": {
        "id": "21SJmGd7dsEv"
      }
    },
    {
      "cell_type": "markdown",
      "source": [
        "El tiempo de corrida es de alrededor de 50 minutos"
      ],
      "metadata": {
        "id": "Ne0e08KUt87w"
      }
    },
    {
      "cell_type": "markdown",
      "source": [
        "limpio el ambiente de R"
      ],
      "metadata": {
        "id": "q02SEGNwdsEv"
      }
    },
    {
      "cell_type": "code",
      "source": [
        "# limpio la memoria\n",
        "rm(list=ls(all.names=TRUE)) # remove all objects\n",
        "gc(full=TRUE, verbose=FALSE) # garbage collection"
      ],
      "metadata": {
        "id": "6c2ZJstWdsEw",
        "outputId": "9a39e9ad-2720-4d75-a1bb-e6bc95ae0132",
        "colab": {
          "base_uri": "https://localhost:8080/",
          "height": 129
        }
      },
      "execution_count": 16,
      "outputs": [
        {
          "output_type": "display_data",
          "data": {
            "text/html": [
              "<table class=\"dataframe\">\n",
              "<caption>A matrix: 2 × 6 of type dbl</caption>\n",
              "<thead>\n",
              "\t<tr><th></th><th scope=col>used</th><th scope=col>(Mb)</th><th scope=col>gc trigger</th><th scope=col>(Mb)</th><th scope=col>max used</th><th scope=col>(Mb)</th></tr>\n",
              "</thead>\n",
              "<tbody>\n",
              "\t<tr><th scope=row>Ncells</th><td>1400422</td><td>74.8</td><td> 2282620</td><td>122.0</td><td> 2282620</td><td>122.0</td></tr>\n",
              "\t<tr><th scope=row>Vcells</th><td>2605260</td><td>19.9</td><td>58633498</td><td>447.4</td><td>72790268</td><td>555.4</td></tr>\n",
              "</tbody>\n",
              "</table>\n"
            ],
            "text/markdown": "\nA matrix: 2 × 6 of type dbl\n\n| <!--/--> | used | (Mb) | gc trigger | (Mb) | max used | (Mb) |\n|---|---|---|---|---|---|---|\n| Ncells | 1400422 | 74.8 |  2282620 | 122.0 |  2282620 | 122.0 |\n| Vcells | 2605260 | 19.9 | 58633498 | 447.4 | 72790268 | 555.4 |\n\n",
            "text/latex": "A matrix: 2 × 6 of type dbl\n\\begin{tabular}{r|llllll}\n  & used & (Mb) & gc trigger & (Mb) & max used & (Mb)\\\\\n\\hline\n\tNcells & 1400422 & 74.8 &  2282620 & 122.0 &  2282620 & 122.0\\\\\n\tVcells & 2605260 & 19.9 & 58633498 & 447.4 & 72790268 & 555.4\\\\\n\\end{tabular}\n",
            "text/plain": [
              "       used    (Mb) gc trigger (Mb)  max used (Mb) \n",
              "Ncells 1400422 74.8  2282620   122.0  2282620 122.0\n",
              "Vcells 2605260 19.9 58633498   447.4 72790268 555.4"
            ]
          },
          "metadata": {}
        }
      ]
    },
    {
      "cell_type": "markdown",
      "source": [
        "* Instalacion de la libreria  rpart.plot  para dibujar el arbol\n",
        "* invocacion de las librerias  **data.table** y  **rpart**"
      ],
      "metadata": {
        "id": "62MIW0r1dsEx"
      }
    },
    {
      "cell_type": "code",
      "source": [
        "# cargo las librerias que necesito\n",
        "require(\"data.table\")\n",
        "require(\"rpart\")\n",
        "require(\"parallel\")\n",
        "\n",
        "if (!require(\"primes\")) install.packages(\"primes\")\n",
        "require(\"primes\")\n",
        "\n",
        "require(\"ggplot2\")"
      ],
      "metadata": {
        "id": "2Ke4n-N8dsEy"
      },
      "execution_count": 17,
      "outputs": []
    },
    {
      "cell_type": "markdown",
      "source": [
        "###  Accion a Realizar\n",
        "PARAM$semilla_primigenia  debe reemplazarse por SU primer semilla"
      ],
      "metadata": {
        "id": "UHSoeqi4dsEz"
      }
    },
    {
      "cell_type": "code",
      "source": [
        "PARAM <- list()\n",
        "PARAM$semilla_primigenia <- 999961\n",
        "PARAM$qsemillas <- 50\n",
        "PARAM$training_pct <- 70L     # entre 1 y 100\n"
      ],
      "metadata": {
        "id": "f08_sqfAdsEz"
      },
      "execution_count": 19,
      "outputs": []
    },
    {
      "cell_type": "code",
      "source": [
        "# los dos arboles\n",
        "PARAM$rpart1 <- list (\n",
        "  \"cp\" = -1,\n",
        "  \"minsplit\" = 170,\n",
        "  \"minbucket\" = 70,\n",
        "  \"maxdepth\" = 7\n",
        ")\n",
        "\n",
        "\n",
        "PARAM$rpart2 <- list (\n",
        "  \"cp\" = -1,\n",
        "  \"minsplit\" = 1900,\n",
        "  \"minbucket\" = 800,\n",
        "  \"maxdepth\" = 3\n",
        ")\n"
      ],
      "metadata": {
        "id": "L735D9rydsE0"
      },
      "execution_count": 20,
      "outputs": []
    },
    {
      "cell_type": "code",
      "source": [
        "# particionar agrega una columna llamada fold a un dataset\n",
        "#  que consiste en una particion estratificada segun agrupa\n",
        "\n",
        "# particionar( data=dataset, division=c(70,30),\n",
        "#  agrupa=clase_ternaria, seed=semilla)   crea una particion 70, 30\n",
        "\n",
        "particionar <- function(\n",
        "    data, division, agrupa = \"\",\n",
        "    campo = \"fold\", start = 1, seed = NA) {\n",
        "  if (!is.na(seed)) set.seed(seed)\n",
        "\n",
        "  bloque <- unlist(mapply(function(x, y) {\n",
        "    rep(y, x)\n",
        "  }, division, seq(from = start, length.out = length(division))))\n",
        "\n",
        "  data[, (campo) := sample(rep(bloque, ceiling(.N / length(bloque))))[1:.N],\n",
        "    by = agrupa\n",
        "  ]\n",
        "}\n"
      ],
      "metadata": {
        "id": "O56epLUGdsE1"
      },
      "execution_count": 21,
      "outputs": []
    },
    {
      "cell_type": "code",
      "source": [
        "DosArbolesEstimarGanancia <- function(semilla, training_pct, param_rpart1, param_rpart2) {\n",
        "  # fuerzo impresion\n",
        "  print( paste( semilla, Sys.time()) )\n",
        "  flush.console()\n",
        "\n",
        "  # particiono estratificadamente el dataset\n",
        "  particionar(dataset,\n",
        "    division = c(training_pct, 100L -training_pct),\n",
        "    agrupa = \"clase_ternaria\",\n",
        "    seed = semilla # aqui se usa SU semilla\n",
        "  )\n",
        "\n",
        "  # genero el modelo\n",
        "  # predecir clase_ternaria a partir del resto\n",
        "  modelo1 <- rpart(\"clase_ternaria ~ .\",\n",
        "    data = dataset[fold == 1], # fold==1  es training,  el 70% de los datos\n",
        "    xval = 0,\n",
        "    control = param_rpart1\n",
        "  ) # aqui van los parametros del arbol\n",
        "\n",
        "  # aplico el modelo a los datos de testing\n",
        "  prediccion1 <- predict(modelo1, # el modelo que genere recien\n",
        "    dataset[fold == 2], # fold==2  es testing, el 30% de los datos\n",
        "    type = \"prob\"\n",
        "  ) # type= \"prob\"  es que devuelva la probabilidad\n",
        "\n",
        "\n",
        "  # calculo la ganancia en testing  qu es fold==2\n",
        "  ganancia_test1 <- dataset[\n",
        "    fold == 2,\n",
        "    sum(ifelse(prediccion1[, \"BAJA+2\"] > 0.025,\n",
        "      ifelse(clase_ternaria == \"BAJA+2\", 117000, -3000),\n",
        "      0\n",
        "    ))\n",
        "  ]\n",
        "\n",
        "  # escalo la ganancia como si fuera todo el dataset\n",
        "  ganancia_test_normalizada1 <- ganancia_test1 / (( 100 - training_pct ) / 100 )\n",
        "\n",
        "  modelo2 <- rpart(\"clase_ternaria ~ .\",\n",
        "    data = dataset[fold == 1], # fold==1  es training,  el 70% de los datos\n",
        "    xval = 0,\n",
        "    control = param_rpart2\n",
        "  ) # aqui van los parametros del arbol\n",
        "\n",
        "  # aplico el modelo a los datos de testing\n",
        "  prediccion2 <- predict(modelo2, # el modelo que genere recien\n",
        "    dataset[fold == 2], # fold==2  es testing, el 30% de los datos\n",
        "    type = \"prob\"\n",
        "  ) # type= \"prob\"  es que devuelva la probabilidad\n",
        "\n",
        "\n",
        "  # calculo la ganancia en testing  qu es fold==2\n",
        "  ganancia_test2 <- dataset[\n",
        "    fold == 2,\n",
        "    sum(ifelse(prediccion2[, \"BAJA+2\"] > 0.025,\n",
        "      ifelse(clase_ternaria == \"BAJA+2\", 117000, -3000),\n",
        "      0\n",
        "    ))\n",
        "  ]\n",
        "\n",
        "  # escalo la ganancia como si fuera todo el dataset\n",
        "  ganancia_test_normalizada2 <- ganancia_test2 / (( 100 - training_pct ) / 100 )\n",
        "\n",
        "  return(list(\n",
        "    \"semilla\" = semilla,\n",
        "    \"ganancia1\" = ganancia_test_normalizada1,\n",
        "    \"ganancia2\" = ganancia_test_normalizada2\n",
        "  ))\n",
        "}"
      ],
      "metadata": {
        "id": "Bv_NorLhdsE1"
      },
      "execution_count": 22,
      "outputs": []
    },
    {
      "cell_type": "code",
      "source": [
        "# carpeta de trabajo\n",
        "setwd(\"/content/buckets/b1/exp\")\n",
        "experimento <- \"exp206\"\n",
        "dir.create(experimento, showWarnings=FALSE)\n",
        "setwd( paste0(\"/content/buckets/b1/exp/\", experimento ))"
      ],
      "metadata": {
        "id": "N9GarblIdsE3"
      },
      "execution_count": 23,
      "outputs": []
    },
    {
      "cell_type": "code",
      "source": [
        "# lectura del dataset\n",
        "dataset <- fread(\"/content/datasets/dataset_pequeno.csv\")\n",
        "\n",
        "# trabajo solo con los datos con clase, es decir 202107\n",
        "dataset <- dataset[clase_ternaria != \"\"]"
      ],
      "metadata": {
        "id": "Z05r3wdTdsE3"
      },
      "execution_count": 24,
      "outputs": []
    },
    {
      "cell_type": "code",
      "source": [
        "# genero numeros primos\n",
        "primos <- generate_primes(min = 100000, max = 1000000)\n",
        "set.seed(PARAM$semilla_primigenia) # inicializo\n",
        "\n",
        "# me quedo con PARAM$qsemillas   semillas\n",
        "PARAM$semillas <- sample(primos, PARAM$qsemillas )"
      ],
      "metadata": {
        "id": "m8ODrVrndsE4"
      },
      "execution_count": 25,
      "outputs": []
    },
    {
      "cell_type": "code",
      "source": [
        "# la funcion mcmapply  llama a la funcion DosArbolesEstimarGanancia\n",
        "#  tantas veces como valores tenga el vector  PARAM$semillas\n",
        "Sys.time()\n",
        "\n",
        "salidas <- mcmapply( DosArbolesEstimarGanancia,\n",
        "  PARAM$semillas, # paso el vector de semillas\n",
        "  MoreArgs = list(PARAM$training_pct, PARAM$rpart1, PARAM$rpart2), # aqui paso el segundo parametro\n",
        "  SIMPLIFY = FALSE,\n",
        "  mc.cores = detectCores()\n",
        ")\n",
        "\n",
        "Sys.time()"
      ],
      "metadata": {
        "id": "KQBhUXxJdsE5",
        "outputId": "b3eb364d-ca4e-4428-fd91-c12f9fe56dfa",
        "colab": {
          "base_uri": "https://localhost:8080/",
          "height": 53
        }
      },
      "execution_count": 26,
      "outputs": [
        {
          "output_type": "display_data",
          "data": {
            "text/plain": [
              "[1] \"2025-10-13 00:59:16 UTC\""
            ]
          },
          "metadata": {}
        },
        {
          "output_type": "display_data",
          "data": {
            "text/plain": [
              "[1] \"2025-10-13 02:09:08 UTC\""
            ]
          },
          "metadata": {}
        }
      ]
    },
    {
      "cell_type": "code",
      "source": [
        "# paso la lista a vector\n",
        "tb_salida <- rbindlist(salidas)\n",
        "tb_salida"
      ],
      "metadata": {
        "id": "N0eS1CFFdsE5",
        "outputId": "720a6d5c-4d2d-46e2-a6da-dbd050c42e85",
        "colab": {
          "base_uri": "https://localhost:8080/",
          "height": 1000
        }
      },
      "execution_count": 27,
      "outputs": [
        {
          "output_type": "display_data",
          "data": {
            "text/html": [
              "<table class=\"dataframe\">\n",
              "<caption>A data.table: 50 × 3</caption>\n",
              "<thead>\n",
              "\t<tr><th scope=col>semilla</th><th scope=col>ganancia1</th><th scope=col>ganancia2</th></tr>\n",
              "\t<tr><th scope=col>&lt;int&gt;</th><th scope=col>&lt;dbl&gt;</th><th scope=col>&lt;dbl&gt;</th></tr>\n",
              "</thead>\n",
              "<tbody>\n",
              "\t<tr><td>152843</td><td>46470000</td><td>49510000</td></tr>\n",
              "\t<tr><td>461333</td><td>43030000</td><td>44370000</td></tr>\n",
              "\t<tr><td>367163</td><td>46500000</td><td>50980000</td></tr>\n",
              "\t<tr><td>883781</td><td>48160000</td><td>46480000</td></tr>\n",
              "\t<tr><td>500413</td><td>47940000</td><td>47210000</td></tr>\n",
              "\t<tr><td>898813</td><td>48210000</td><td>48810000</td></tr>\n",
              "\t<tr><td>199889</td><td>46290000</td><td>45380000</td></tr>\n",
              "\t<tr><td>683129</td><td>44110000</td><td>46620000</td></tr>\n",
              "\t<tr><td>337639</td><td>48290000</td><td>45660000</td></tr>\n",
              "\t<tr><td>709519</td><td>48690000</td><td>47400000</td></tr>\n",
              "\t<tr><td>797051</td><td>52600000</td><td>55190000</td></tr>\n",
              "\t<tr><td>716321</td><td>47580000</td><td>44660000</td></tr>\n",
              "\t<tr><td>160397</td><td>45020000</td><td>46740000</td></tr>\n",
              "\t<tr><td>430553</td><td>50660000</td><td>47430000</td></tr>\n",
              "\t<tr><td>802027</td><td>46450000</td><td>50320000</td></tr>\n",
              "\t<tr><td>241823</td><td>48420000</td><td>46460000</td></tr>\n",
              "\t<tr><td>798199</td><td>45200000</td><td>44180000</td></tr>\n",
              "\t<tr><td>682009</td><td>42460000</td><td>46800000</td></tr>\n",
              "\t<tr><td>727061</td><td>51260000</td><td>54700000</td></tr>\n",
              "\t<tr><td>737059</td><td>42130000</td><td>40790000</td></tr>\n",
              "\t<tr><td>873767</td><td>45420000</td><td>45230000</td></tr>\n",
              "\t<tr><td>368729</td><td>41490000</td><td>38420000</td></tr>\n",
              "\t<tr><td>199783</td><td>48870000</td><td>49680000</td></tr>\n",
              "\t<tr><td>645937</td><td>48410000</td><td>41330000</td></tr>\n",
              "\t<tr><td>293413</td><td>48960000</td><td>47210000</td></tr>\n",
              "\t<tr><td>208891</td><td>49890000</td><td>48600000</td></tr>\n",
              "\t<tr><td>186671</td><td>46080000</td><td>46020000</td></tr>\n",
              "\t<tr><td>900293</td><td>51640000</td><td>52220000</td></tr>\n",
              "\t<tr><td>292549</td><td>50640000</td><td>52090000</td></tr>\n",
              "\t<tr><td>101869</td><td>50870000</td><td>47030000</td></tr>\n",
              "\t<tr><td>885931</td><td>53140000</td><td>49400000</td></tr>\n",
              "\t<tr><td>729761</td><td>39940000</td><td>42070000</td></tr>\n",
              "\t<tr><td>292133</td><td>54780000</td><td>51700000</td></tr>\n",
              "\t<tr><td>163259</td><td>44710000</td><td>44580000</td></tr>\n",
              "\t<tr><td>288527</td><td>49170000</td><td>49500000</td></tr>\n",
              "\t<tr><td>242257</td><td>49880000</td><td>49190000</td></tr>\n",
              "\t<tr><td>164279</td><td>41210000</td><td>41760000</td></tr>\n",
              "\t<tr><td>581797</td><td>51050000</td><td>48320000</td></tr>\n",
              "\t<tr><td>675481</td><td>52010000</td><td>57640000</td></tr>\n",
              "\t<tr><td>298021</td><td>47140000</td><td>48520000</td></tr>\n",
              "\t<tr><td>624233</td><td>43370000</td><td>42080000</td></tr>\n",
              "\t<tr><td>510941</td><td>44830000</td><td>45550000</td></tr>\n",
              "\t<tr><td>603173</td><td>41760000</td><td>51490000</td></tr>\n",
              "\t<tr><td>432979</td><td>42960000</td><td>49390000</td></tr>\n",
              "\t<tr><td>429503</td><td>54600000</td><td>47250000</td></tr>\n",
              "\t<tr><td>717151</td><td>53280000</td><td>51060000</td></tr>\n",
              "\t<tr><td>622337</td><td>51540000</td><td>44080000</td></tr>\n",
              "\t<tr><td>830693</td><td>50360000</td><td>52070000</td></tr>\n",
              "\t<tr><td>441829</td><td>49860000</td><td>53370000</td></tr>\n",
              "\t<tr><td>440953</td><td>46320000</td><td>43060000</td></tr>\n",
              "</tbody>\n",
              "</table>\n"
            ],
            "text/markdown": "\nA data.table: 50 × 3\n\n| semilla &lt;int&gt; | ganancia1 &lt;dbl&gt; | ganancia2 &lt;dbl&gt; |\n|---|---|---|\n| 152843 | 46470000 | 49510000 |\n| 461333 | 43030000 | 44370000 |\n| 367163 | 46500000 | 50980000 |\n| 883781 | 48160000 | 46480000 |\n| 500413 | 47940000 | 47210000 |\n| 898813 | 48210000 | 48810000 |\n| 199889 | 46290000 | 45380000 |\n| 683129 | 44110000 | 46620000 |\n| 337639 | 48290000 | 45660000 |\n| 709519 | 48690000 | 47400000 |\n| 797051 | 52600000 | 55190000 |\n| 716321 | 47580000 | 44660000 |\n| 160397 | 45020000 | 46740000 |\n| 430553 | 50660000 | 47430000 |\n| 802027 | 46450000 | 50320000 |\n| 241823 | 48420000 | 46460000 |\n| 798199 | 45200000 | 44180000 |\n| 682009 | 42460000 | 46800000 |\n| 727061 | 51260000 | 54700000 |\n| 737059 | 42130000 | 40790000 |\n| 873767 | 45420000 | 45230000 |\n| 368729 | 41490000 | 38420000 |\n| 199783 | 48870000 | 49680000 |\n| 645937 | 48410000 | 41330000 |\n| 293413 | 48960000 | 47210000 |\n| 208891 | 49890000 | 48600000 |\n| 186671 | 46080000 | 46020000 |\n| 900293 | 51640000 | 52220000 |\n| 292549 | 50640000 | 52090000 |\n| 101869 | 50870000 | 47030000 |\n| 885931 | 53140000 | 49400000 |\n| 729761 | 39940000 | 42070000 |\n| 292133 | 54780000 | 51700000 |\n| 163259 | 44710000 | 44580000 |\n| 288527 | 49170000 | 49500000 |\n| 242257 | 49880000 | 49190000 |\n| 164279 | 41210000 | 41760000 |\n| 581797 | 51050000 | 48320000 |\n| 675481 | 52010000 | 57640000 |\n| 298021 | 47140000 | 48520000 |\n| 624233 | 43370000 | 42080000 |\n| 510941 | 44830000 | 45550000 |\n| 603173 | 41760000 | 51490000 |\n| 432979 | 42960000 | 49390000 |\n| 429503 | 54600000 | 47250000 |\n| 717151 | 53280000 | 51060000 |\n| 622337 | 51540000 | 44080000 |\n| 830693 | 50360000 | 52070000 |\n| 441829 | 49860000 | 53370000 |\n| 440953 | 46320000 | 43060000 |\n\n",
            "text/latex": "A data.table: 50 × 3\n\\begin{tabular}{lll}\n semilla & ganancia1 & ganancia2\\\\\n <int> & <dbl> & <dbl>\\\\\n\\hline\n\t 152843 & 46470000 & 49510000\\\\\n\t 461333 & 43030000 & 44370000\\\\\n\t 367163 & 46500000 & 50980000\\\\\n\t 883781 & 48160000 & 46480000\\\\\n\t 500413 & 47940000 & 47210000\\\\\n\t 898813 & 48210000 & 48810000\\\\\n\t 199889 & 46290000 & 45380000\\\\\n\t 683129 & 44110000 & 46620000\\\\\n\t 337639 & 48290000 & 45660000\\\\\n\t 709519 & 48690000 & 47400000\\\\\n\t 797051 & 52600000 & 55190000\\\\\n\t 716321 & 47580000 & 44660000\\\\\n\t 160397 & 45020000 & 46740000\\\\\n\t 430553 & 50660000 & 47430000\\\\\n\t 802027 & 46450000 & 50320000\\\\\n\t 241823 & 48420000 & 46460000\\\\\n\t 798199 & 45200000 & 44180000\\\\\n\t 682009 & 42460000 & 46800000\\\\\n\t 727061 & 51260000 & 54700000\\\\\n\t 737059 & 42130000 & 40790000\\\\\n\t 873767 & 45420000 & 45230000\\\\\n\t 368729 & 41490000 & 38420000\\\\\n\t 199783 & 48870000 & 49680000\\\\\n\t 645937 & 48410000 & 41330000\\\\\n\t 293413 & 48960000 & 47210000\\\\\n\t 208891 & 49890000 & 48600000\\\\\n\t 186671 & 46080000 & 46020000\\\\\n\t 900293 & 51640000 & 52220000\\\\\n\t 292549 & 50640000 & 52090000\\\\\n\t 101869 & 50870000 & 47030000\\\\\n\t 885931 & 53140000 & 49400000\\\\\n\t 729761 & 39940000 & 42070000\\\\\n\t 292133 & 54780000 & 51700000\\\\\n\t 163259 & 44710000 & 44580000\\\\\n\t 288527 & 49170000 & 49500000\\\\\n\t 242257 & 49880000 & 49190000\\\\\n\t 164279 & 41210000 & 41760000\\\\\n\t 581797 & 51050000 & 48320000\\\\\n\t 675481 & 52010000 & 57640000\\\\\n\t 298021 & 47140000 & 48520000\\\\\n\t 624233 & 43370000 & 42080000\\\\\n\t 510941 & 44830000 & 45550000\\\\\n\t 603173 & 41760000 & 51490000\\\\\n\t 432979 & 42960000 & 49390000\\\\\n\t 429503 & 54600000 & 47250000\\\\\n\t 717151 & 53280000 & 51060000\\\\\n\t 622337 & 51540000 & 44080000\\\\\n\t 830693 & 50360000 & 52070000\\\\\n\t 441829 & 49860000 & 53370000\\\\\n\t 440953 & 46320000 & 43060000\\\\\n\\end{tabular}\n",
            "text/plain": [
              "   semilla ganancia1 ganancia2\n",
              "1  152843  46470000  49510000 \n",
              "2  461333  43030000  44370000 \n",
              "3  367163  46500000  50980000 \n",
              "4  883781  48160000  46480000 \n",
              "5  500413  47940000  47210000 \n",
              "6  898813  48210000  48810000 \n",
              "7  199889  46290000  45380000 \n",
              "8  683129  44110000  46620000 \n",
              "9  337639  48290000  45660000 \n",
              "10 709519  48690000  47400000 \n",
              "11 797051  52600000  55190000 \n",
              "12 716321  47580000  44660000 \n",
              "13 160397  45020000  46740000 \n",
              "14 430553  50660000  47430000 \n",
              "15 802027  46450000  50320000 \n",
              "16 241823  48420000  46460000 \n",
              "17 798199  45200000  44180000 \n",
              "18 682009  42460000  46800000 \n",
              "19 727061  51260000  54700000 \n",
              "20 737059  42130000  40790000 \n",
              "21 873767  45420000  45230000 \n",
              "22 368729  41490000  38420000 \n",
              "23 199783  48870000  49680000 \n",
              "24 645937  48410000  41330000 \n",
              "25 293413  48960000  47210000 \n",
              "26 208891  49890000  48600000 \n",
              "27 186671  46080000  46020000 \n",
              "28 900293  51640000  52220000 \n",
              "29 292549  50640000  52090000 \n",
              "30 101869  50870000  47030000 \n",
              "31 885931  53140000  49400000 \n",
              "32 729761  39940000  42070000 \n",
              "33 292133  54780000  51700000 \n",
              "34 163259  44710000  44580000 \n",
              "35 288527  49170000  49500000 \n",
              "36 242257  49880000  49190000 \n",
              "37 164279  41210000  41760000 \n",
              "38 581797  51050000  48320000 \n",
              "39 675481  52010000  57640000 \n",
              "40 298021  47140000  48520000 \n",
              "41 624233  43370000  42080000 \n",
              "42 510941  44830000  45550000 \n",
              "43 603173  41760000  51490000 \n",
              "44 432979  42960000  49390000 \n",
              "45 429503  54600000  47250000 \n",
              "46 717151  53280000  51060000 \n",
              "47 622337  51540000  44080000 \n",
              "48 830693  50360000  52070000 \n",
              "49 441829  49860000  53370000 \n",
              "50 440953  46320000  43060000 "
            ]
          },
          "metadata": {}
        }
      ]
    },
    {
      "cell_type": "code",
      "source": [
        "grafico <- ggplot( tb_salida, aes(x=ganancia1), fill=\"green\", color=\"green\") + geom_density(alpha=0.25)  +\n",
        "             geom_density(data=tb_salida, aes(x=ganancia2), fill=\"purple\", color=\"purple\",  alpha=0.10)\n",
        "\n",
        "print(grafico)"
      ],
      "metadata": {
        "id": "6vf28ujAdsE6",
        "outputId": "00157c03-b8a8-4892-bcc5-02514a3209b7",
        "colab": {
          "base_uri": "https://localhost:8080/",
          "height": 544
        }
      },
      "execution_count": 28,
      "outputs": [
        {
          "output_type": "stream",
          "name": "stderr",
          "text": [
            "Warning message in fortify(data, ...):\n",
            "“\u001b[1m\u001b[22mArguments in `...` must be used.\n",
            "\u001b[31m✖\u001b[39m Problematic arguments:\n",
            "\u001b[36m•\u001b[39m fill = \"green\"\n",
            "\u001b[36m•\u001b[39m color = \"green\"\n",
            "\u001b[36mℹ\u001b[39m Did you misspell an argument name?”\n"
          ]
        },
        {
          "output_type": "display_data",
          "data": {
            "text/plain": [
              "plot without title"
            ],
            "image/png": "[encoded data removed]"
          },
          "metadata": {
            "image/png": {
              "width": 420,
              "height": 420
            }
          }
        }
      ]
    },
    {
      "cell_type": "code",
      "source": [
        "# imprimo en un .pdf  que va a la carpeta del experimento\n",
        "pdf(\"densidad_dos.pdf\")\n",
        "print(grafico)\n",
        "dev.off()"
      ],
      "metadata": {
        "id": "TA9lLa6-dsE6",
        "outputId": "f9a9073e-e0ff-49bd-8d6d-7c9ad42d9235",
        "colab": {
          "base_uri": "https://localhost:8080/",
          "height": 34
        }
      },
      "execution_count": 29,
      "outputs": [
        {
          "output_type": "display_data",
          "data": {
            "text/html": [
              "<strong>agg_record_336824568:</strong> 2"
            ],
            "text/markdown": "**agg_record_336824568:** 2",
            "text/latex": "\\textbf{agg\\textbackslash{}\\_record\\textbackslash{}\\_336824568:} 2",
            "text/plain": [
              "agg_record_336824568 \n",
              "                   2 "
            ]
          },
          "metadata": {}
        }
      ]
    },
    {
      "cell_type": "code",
      "source": [
        "# medias de las ganancias\n",
        "print( tb_salida[ , list( \"arbol1\" = mean( ganancia1),  \"arbol2\" = mean(ganancia2) ) ] )\n"
      ],
      "metadata": {
        "id": "xAOpyZTqdsE7",
        "outputId": "431e6668-2559-4cd4-d1c2-f99fdef7d1ea",
        "colab": {
          "base_uri": "https://localhost:8080/"
        }
      },
      "execution_count": 30,
      "outputs": [
        {
          "output_type": "stream",
          "name": "stdout",
          "text": [
            "     arbol1   arbol2\n",
            "      <num>    <num>\n",
            "1: 47673000 47592000\n"
          ]
        }
      ]
    },
    {
      "cell_type": "code",
      "source": [
        "# probabilidad que m1 sea mayor a m2\n",
        "print( tb_salida[ , list( \"prob( m1 > m2)\" = sum(ganancia1 > ganancia2 )/ .N ) ]  )"
      ],
      "metadata": {
        "id": "8rdPIcfzgob7",
        "outputId": "8e07cbb2-8e28-48d1-b798-f6e43607190c",
        "colab": {
          "base_uri": "https://localhost:8080/"
        }
      },
      "execution_count": 31,
      "outputs": [
        {
          "output_type": "stream",
          "name": "stdout",
          "text": [
            "   prob( m1 > m2)\n",
            "            <num>\n",
            "1:           0.54\n"
          ]
        }
      ]
    },
    {
      "cell_type": "markdown",
      "source": [
        "### Acciones a realizar\n",
        "* Reportar la  los resultados en la planilla colaborativa hoja  **C2-dosBuenos**\n"
      ],
      "metadata": {
        "id": "nNNJWYRadsE7"
      }
    },
    {
      "cell_type": "markdown",
      "source": [
        "\n",
        "\n",
        "---\n",
        "\n"
      ],
      "metadata": {
        "id": "LTBEq6SEdsE8"
      }
    },
    {
      "cell_type": "markdown",
      "source": [],
      "metadata": {
        "id": "ebcTZX7Sg1Le"
      }
    },
    {
      "cell_type": "markdown",
      "source": [
        "# 8 Test de Wilcoxon\n",
        "## Clase 02  Experimento 8"
      ],
      "metadata": {
        "id": "RAtn4x6Bg1u1"
      }
    },
    {
      "cell_type": "markdown",
      "source": [],
      "metadata": {
        "id": "RWxjnSsVg_ol"
      }
    },
    {
      "cell_type": "markdown",
      "source": [
        "## 8.1  Objetivos\n",
        "\n",
        "¿Como calcular la cantidad mínima de semillas que hacen falta para tener cierta certeza que un modelo es superior a otro?"
      ],
      "metadata": {
        "id": "Gf0LF3ywhAEU"
      }
    },
    {
      "cell_type": "markdown",
      "source": [
        "## 8.2  Introduccion\n",
        "\n",
        "| Hiperparámetro | Arbol 1 | Arbol 2 |\n",
        "| --- | --: |  ---: |\n",
        "| cp | -1 | -1 |\n",
        "|minsplit | 170 | 250 |\n",
        "|minbucket | 70 | 125 |\n",
        "|maxdepth | 7 | 20 |\n",
        "\n",
        "<br>\n",
        "<br>\n",
        "\n",
        "\n",
        "| ordinal | semilla | ganancia1 | ganancia2 | p-value |\n",
        "| --- | --- |  --- |  --- |  --- |\n",
        "| 1 |378821 | 41,470,000 | 37,790,000 | 1.000 |\n",
        "| 2 | 964333  | 48,480,000  | 43,660,000 | 0.500 |\n",
        "| 3 | 187049 | 50,610,000 | 47,840,000 | 0.250 |\n",
        "| 4 | 205151 | 45,580,000 | 44,490,000 | 0.125 |\n",
        "| 5 | 813697 | 52,780,000 | 46,750,000 |  0.063 |\n",
        "| 6 | 344719 | 49,970,000 | 44,300,000 | 0.031 |\n",
        "|7 |127217  |52,810,000 | 42,840,000 |0.016 |\n",
        "| 8 | 464371 | 43,060,000 | 37,300,000 | 0.008 |\n",
        "| 9 | 645137 | 49,660,000 |43,730,000 | 0.004|\n",
        "\n",
        "\n"
      ],
      "metadata": {
        "id": "k4PJGTDViZne"
      }
    },
    {
      "cell_type": "markdown",
      "source": [
        "## 8.3 Codigo Test de Wilcoxon"
      ],
      "metadata": {
        "id": "gAeSRdWRhg61"
      }
    },
    {
      "cell_type": "code",
      "source": [
        "# 1 sola ganancia\n",
        "wilcox.test(\n",
        "  c(41470000),\n",
        "  c(37790000),\n",
        "  paired = TRUE\n",
        ")\n"
      ],
      "metadata": {
        "id": "6r5M0J0HdsE8"
      },
      "execution_count": null,
      "outputs": []
    },
    {
      "cell_type": "code",
      "source": [
        "# 2 ganancias\n",
        "wilcox.test(\n",
        "  c(41470000, 48480000),\n",
        "  c(37790000, 43660000),\n",
        "  paired = TRUE\n",
        ")\n"
      ],
      "metadata": {
        "id": "1pscqL9vLzYE"
      },
      "execution_count": null,
      "outputs": []
    },
    {
      "cell_type": "code",
      "source": [
        "# 3 ganancias\n",
        "wilcox.test(\n",
        "  c(41470000, 48480000, 50610000),\n",
        "  c(37790000, 43660000, 47840000),\n",
        "  paired = TRUE\n",
        ")"
      ],
      "metadata": {
        "id": "p3f_mtKwhSHA"
      },
      "execution_count": null,
      "outputs": []
    },
    {
      "cell_type": "code",
      "source": [
        "# 4 ganancias\n",
        "wilcox.test(\n",
        "  c(41470000, 48480000, 50610000, 45580000),\n",
        "  c(37790000, 43660000, 47840000, 44490000),\n",
        "  paired = TRUE\n",
        ")\n"
      ],
      "metadata": {
        "id": "-ijX69r9hT6Z"
      },
      "execution_count": null,
      "outputs": []
    },
    {
      "cell_type": "code",
      "source": [
        "# 5 ganancias\n",
        "wilcox.test(\n",
        "  c(41470000, 48480000, 50610000, 45580000, 52780000),\n",
        "  c(37790000, 43660000, 47840000, 44490000, 46750000),\n",
        "  paired = TRUE\n",
        ")"
      ],
      "metadata": {
        "id": "X9J_CHGehVfr"
      },
      "execution_count": null,
      "outputs": []
    },
    {
      "cell_type": "code",
      "source": [
        "# 6 ganancias\n",
        "wilcox.test(\n",
        "  c(41470000, 48480000, 50610000, 45580000, 52780000, 49970000),\n",
        "  c(37790000, 43660000, 47840000, 44490000, 46750000, 44300000),\n",
        "  paired = TRUE\n",
        ")"
      ],
      "metadata": {
        "id": "H3CNNonOhXp0"
      },
      "execution_count": null,
      "outputs": []
    },
    {
      "cell_type": "code",
      "source": [
        "# Finalmente el p-value es  0.03125  < 0.05\n",
        "# hicieron falta  SEIS semillas, seis ganancias, para\n",
        "#   afirmar que el modelo 1 es superior al modelo 2\n",
        "\n",
        "# 7 ganancias\n",
        "wilcox.test(\n",
        "  c(41470000, 48480000, 50610000, 45580000, 52780000, 49970000, 52810000),\n",
        "  c(37790000, 43660000, 47840000, 44490000, 46750000, 44300000, 42840000),\n",
        "  paired = TRUE\n",
        ")\n"
      ],
      "metadata": {
        "id": "NTW8kwY8hamz"
      },
      "execution_count": null,
      "outputs": []
    },
    {
      "cell_type": "code",
      "source": [
        "# 8 ganancias\n",
        "wilcox.test(\n",
        "  c(41470000, 48480000, 50610000, 45580000, 52780000, 49970000, 52810000, 43060000),\n",
        "  c(37790000, 43660000, 47840000, 44490000, 46750000, 44300000, 42840000, 37300000),\n",
        "  paired = TRUE\n",
        ")\n"
      ],
      "metadata": {
        "id": "Xks918w8hcgC"
      },
      "execution_count": null,
      "outputs": []
    },
    {
      "cell_type": "code",
      "source": [
        "# 9 ganancias\n",
        "wilcox.test(\n",
        "  c(41470000, 48480000, 50610000, 45580000, 52780000, 49970000, 52810000, 43060000, 49660000),\n",
        "  c(37790000, 43660000, 47840000, 44490000, 46750000, 44300000, 42840000, 37300000, 43730000),\n",
        "  paired = TRUE\n",
        ")"
      ],
      "metadata": {
        "id": "5x8L1PMGhdJR"
      },
      "execution_count": null,
      "outputs": []
    },
    {
      "cell_type": "markdown",
      "source": [
        "\n",
        "\n",
        "---\n",
        "\n"
      ],
      "metadata": {
        "id": "Qjay2WBIkhNm"
      }
    },
    {
      "cell_type": "markdown",
      "source": [
        "# 9 Comparando automaticamente modelos con test de Wilcoxon\n",
        "## Clase 02  Experimento 9"
      ],
      "metadata": {
        "id": "g2aqxlCIk3fk"
      }
    },
    {
      "cell_type": "markdown",
      "source": [],
      "metadata": {
        "id": "FhCY4sH8k3fw"
      }
    },
    {
      "cell_type": "markdown",
      "source": [
        "## 9.1  Objetivos\n",
        "\n",
        "Proveer un script que permita comparar dos arboles de decisión con la librería rpart utilizando la menor cantidad de cómputo que permita el Test de Wilxcoxon"
      ],
      "metadata": {
        "id": "a_ZVBKBHk3fx"
      }
    },
    {
      "cell_type": "markdown",
      "source": [
        "## 9.2  Introduccion\n",
        "\n",
        "| Hiperparámetro | Arbol 1 | Arbol 2 |\n",
        "| --- | --- |  --- |\n",
        "| cp | -1 | -1 |\n",
        "|minsplit | 1050 | 650 |\n",
        "|minbucket | 550 | 300 |\n",
        "|maxdepth |67 | 6 |\n",
        "\n",
        "\n"
      ],
      "metadata": {
        "id": "qCd56L0Ik3fx"
      }
    },
    {
      "cell_type": "markdown",
      "source": [
        "## 9.3 Codigo comparacion automatica Wilcoxon"
      ],
      "metadata": {
        "id": "NBtQsG3vk3fx"
      }
    },
    {
      "cell_type": "markdown",
      "source": [
        "Esta parte se debe correr con el runtime en lenguaje **R** Ir al menu, Runtime -> Change Runtime Tipe -> Runtime type -> R"
      ],
      "metadata": {
        "id": "-ARzDPORlpG6"
      }
    },
    {
      "cell_type": "markdown",
      "source": [
        "limpio el ambiente de R"
      ],
      "metadata": {
        "id": "-Sy-sLMXlpHI"
      }
    },
    {
      "cell_type": "code",
      "source": [
        "# limpio la memoria\n",
        "rm(list=ls(all.names=TRUE)) # remove all objects\n",
        "gc(full=TRUE, verbose=FALSE) # garbage collection"
      ],
      "metadata": {
        "id": "ZpST7lcHlpHI"
      },
      "execution_count": null,
      "outputs": []
    },
    {
      "cell_type": "markdown",
      "source": [
        "* Instalacion de la libreria  rpart.plot  para dibujar el arbol\n",
        "* invocacion de las librerias  **data.table** y  **rpart**"
      ],
      "metadata": {
        "id": "jHhAx3cvlpHJ"
      }
    },
    {
      "cell_type": "code",
      "source": [
        "# cargo las librerias que necesito\n",
        "require(\"data.table\")\n",
        "require(\"rpart\")\n",
        "require(\"parallel\")\n",
        "\n",
        "if (!require(\"primes\")) install.packages(\"primes\")\n",
        "require(\"primes\")\n",
        "\n",
        "require(\"ggplot2\")"
      ],
      "metadata": {
        "id": "cbPnXeeqlpHJ"
      },
      "execution_count": null,
      "outputs": []
    },
    {
      "cell_type": "markdown",
      "source": [
        "###  Accion a Realizar\n",
        "PARAM$semilla_primigenia  debe reemplazarse por SU primer semilla"
      ],
      "metadata": {
        "id": "_GQk_NEUlpHK"
      }
    },
    {
      "cell_type": "code",
      "source": [
        "PARAM <- list()\n",
        "PARAM$semilla_primigenia <- 102191\n",
        "PARAM$qsemillas_tope <- 50\n",
        "PARAM$training_pct <- 70L     # entre 1 y 100\n"
      ],
      "metadata": {
        "id": "Do801PIHlpHK"
      },
      "execution_count": null,
      "outputs": []
    },
    {
      "cell_type": "code",
      "source": [
        "# los dos arboles\n",
        "PARAM$rpart1 <- list (\n",
        "  \"cp\" = -1,\n",
        "  \"minsplit\" = 800,\n",
        "  \"minbucket\" = 400,\n",
        "  \"maxdepth\" = 7\n",
        ")\n",
        "\n",
        "\n",
        "PARAM$rpart2 <- list (\n",
        "  \"cp\" = -1,\n",
        "  \"minsplit\" = 650,\n",
        "  \"minbucket\" = 300,\n",
        "  \"maxdepth\" = 6\n",
        ")\n"
      ],
      "metadata": {
        "id": "KlC7gTc7lpHK"
      },
      "execution_count": null,
      "outputs": []
    },
    {
      "cell_type": "code",
      "source": [
        "# particionar agrega una columna llamada fold a un dataset\n",
        "#  que consiste en una particion estratificada segun agrupa\n",
        "\n",
        "# particionar( data=dataset, division=c(70,30),\n",
        "#  agrupa=clase_ternaria, seed=semilla)   crea una particion 70, 30\n",
        "\n",
        "particionar <- function(\n",
        "    data, division, agrupa = \"\",\n",
        "    campo = \"fold\", start = 1, seed = NA) {\n",
        "  if (!is.na(seed)) set.seed(seed)\n",
        "\n",
        "  bloque <- unlist(mapply(function(x, y) {\n",
        "    rep(y, x)\n",
        "  }, division, seq(from = start, length.out = length(division))))\n",
        "\n",
        "  data[, (campo) := sample(rep(bloque, ceiling(.N / length(bloque))))[1:.N],\n",
        "    by = agrupa\n",
        "  ]\n",
        "}\n"
      ],
      "metadata": {
        "id": "I7hOkZrxlpHL"
      },
      "execution_count": null,
      "outputs": []
    },
    {
      "cell_type": "code",
      "source": [
        "DosArbolesEstimarGanancia <- function(semilla, training_pct, param_rpart1, param_rpart2) {\n",
        "  # particiono estratificadamente el dataset\n",
        "  particionar(dataset,\n",
        "    division = c(training_pct, 100L -training_pct),\n",
        "    agrupa = \"clase_ternaria\",\n",
        "    seed = semilla # aqui se usa SU semilla\n",
        "  )\n",
        "\n",
        "  # genero el modelo\n",
        "  # predecir clase_ternaria a partir del resto\n",
        "  modelo1 <- rpart(\"clase_ternaria ~ .\",\n",
        "    data = dataset[fold == 1], # fold==1  es training,  el 70% de los datos\n",
        "    xval = 0,\n",
        "    control = param_rpart1\n",
        "  ) # aqui van los parametros del arbol\n",
        "\n",
        "  # aplico el modelo a los datos de testing\n",
        "  prediccion1 <- predict(modelo1, # el modelo que genere recien\n",
        "    dataset[fold == 2], # fold==2  es testing, el 30% de los datos\n",
        "    type = \"prob\"\n",
        "  ) # type= \"prob\"  es que devuelva la probabilidad\n",
        "\n",
        "\n",
        "  # calculo la ganancia en testing  qu es fold==2\n",
        "  ganancia_test1 <- dataset[\n",
        "    fold == 2,\n",
        "    sum(ifelse(prediccion1[, \"BAJA+2\"] > 0.025,\n",
        "      ifelse(clase_ternaria == \"BAJA+2\", 117000, -3000),\n",
        "      0\n",
        "    ))\n",
        "  ]\n",
        "\n",
        "  # escalo la ganancia como si fuera todo el dataset\n",
        "  ganancia_test_normalizada1 <- ganancia_test1 / (( 100 - training_pct ) / 100 )\n",
        "\n",
        "  modelo2 <- rpart(\"clase_ternaria ~ .\",\n",
        "    data = dataset[fold == 1], # fold==1  es training,  el 70% de los datos\n",
        "    xval = 0,\n",
        "    control = param_rpart2\n",
        "  ) # aqui van los parametros del arbol\n",
        "\n",
        "  # aplico el modelo a los datos de testing\n",
        "  prediccion2 <- predict(modelo2, # el modelo que genere recien\n",
        "    dataset[fold == 2], # fold==2  es testing, el 30% de los datos\n",
        "    type = \"prob\"\n",
        "  ) # type= \"prob\"  es que devuelva la probabilidad\n",
        "\n",
        "\n",
        "  # calculo la ganancia en testing  qu es fold==2\n",
        "  ganancia_test2 <- dataset[\n",
        "    fold == 2,\n",
        "    sum(ifelse(prediccion2[, \"BAJA+2\"] > 0.025,\n",
        "      ifelse(clase_ternaria == \"BAJA+2\", 117000, -3000),\n",
        "      0\n",
        "    ))\n",
        "  ]\n",
        "\n",
        "  # escalo la ganancia como si fuera todo el dataset\n",
        "  ganancia_test_normalizada2 <- ganancia_test2 / (( 100 - training_pct ) / 100 )\n",
        "\n",
        "  return(list(\n",
        "    \"semilla\" = semilla,\n",
        "    \"ganancia1\" = ganancia_test_normalizada1,\n",
        "    \"ganancia2\" = ganancia_test_normalizada2\n",
        "  ))\n",
        "}"
      ],
      "metadata": {
        "id": "vFpBSFBYlpHL"
      },
      "execution_count": null,
      "outputs": []
    },
    {
      "cell_type": "code",
      "source": [
        "# 1  ->  el modelo 1 es mejor\n",
        "# 2  ->  el modelo 2 es mejor\n",
        "# 0  ->  No se pudo determinar con el tope de qsemillas_tope\n",
        "\n",
        "\n",
        "MejorArbol <- function( qsemillas_tope, training_pct, param_rpart1, param_rpart2) {\n",
        "\n",
        "  # genero numeros primos\n",
        "  primos <- generate_primes(min = 100000, max = 1000000)\n",
        "  set.seed(PARAM$semilla_primigenia) # inicializo\n",
        "  # me quedo con PARAM$qsemillas   semillas\n",
        "  semillas <- sample(primos, qsemillas_tope )\n",
        "\n",
        "  pvalue <- 1.0\n",
        "  isem <- 1\n",
        "  vgan1 <- c() # almaceno ganancias del modelo1\n",
        "  vgan2 <- c() # almaceno ganancias del modelo2\n",
        "\n",
        "  while( (isem <= qsemillas_tope)  & (pvalue > 0.05) ) {\n",
        "\n",
        "    res <- DosArbolesEstimarGanancia(\n",
        "       semillas[ isem ],\n",
        "       training_pct,\n",
        "       param_rpart1,\n",
        "       param_rpart2\n",
        "    )\n",
        "\n",
        "    vgan1 <- c( vgan1, res$ganancia1 )\n",
        "    vgan2 <- c( vgan2, res$ganancia2 )\n",
        "\n",
        "    wt <- wilcox.test( vgan1, vgan2, paired=TRUE )\n",
        "    pvalue <- wt$p.value\n",
        "\n",
        "    cat( isem, res$ganancia1, res$ganancia2, pvalue, \"\\n\" )\n",
        "    flush.console()\n",
        "    isem <- isem + 1\n",
        "  }\n",
        "\n",
        "  out <- 0\n",
        "\n",
        "  if( pvalue < 0.05 & mean(vgan1) > mean(vgan2)  )  out <- 1\n",
        "  if( pvalue < 0.05 & mean(vgan1) < mean(vgan2)  )  out <- 2\n",
        "\n",
        "\n",
        "  return( list( \"out\" = out,\n",
        "    \"qsemillas\" = length(vgan1),\n",
        "    \"m1\" = mean( vgan1 ),\n",
        "    \"m2\" = mean( vgan2 )\n",
        "   ) )\n",
        "}\n"
      ],
      "metadata": {
        "id": "Cp8RnA_NmE8g"
      },
      "execution_count": null,
      "outputs": []
    },
    {
      "cell_type": "code",
      "source": [
        "# carpeta de trabajo\n",
        "setwd(\"/content/buckets/b1/exp\")\n",
        "experimento <- \"exp209\"\n",
        "dir.create(experimento, showWarnings=FALSE)\n",
        "setwd( paste0(\"/content/buckets/b1/exp/\", experimento ))"
      ],
      "metadata": {
        "id": "r1motpfOlpHM"
      },
      "execution_count": null,
      "outputs": []
    },
    {
      "cell_type": "code",
      "source": [
        "# lectura del dataset\n",
        "dataset <- fread(\"/content/datasets/dataset_pequeno.csv\")\n",
        "\n",
        "# trabajo solo con los datos con clase, es decir 202107\n",
        "dataset <- dataset[clase_ternaria != \"\"]"
      ],
      "metadata": {
        "id": "hT0LaKWumTSu"
      },
      "execution_count": null,
      "outputs": []
    },
    {
      "cell_type": "code",
      "source": [
        "Sys.time()\n",
        "\n",
        "comparacion <- MejorArbol(\n",
        "   PARAM$qsemillas_tope,\n",
        "   PARAM$training_pct,\n",
        "   PARAM$rpart1,\n",
        "   PARAM$rpart2\n",
        " )\n",
        "\n",
        "\n",
        "print( comparacion )\n",
        "\n",
        "Sys.time()"
      ],
      "metadata": {
        "id": "wsk0F77ambVW"
      },
      "execution_count": null,
      "outputs": []
    },
    {
      "cell_type": "markdown",
      "source": [
        "### Acciones a realizar\n",
        "* Reportar la  los resultados en la planilla colaborativa hoja  **C2-Wilcox**\n"
      ],
      "metadata": {
        "id": "d2br1bgJlpHQ"
      }
    },
    {
      "cell_type": "markdown",
      "source": [
        "\n",
        "\n",
        "---\n",
        "\n"
      ],
      "metadata": {
        "id": "x7SebtV2lpHQ"
      }
    }
  ]
}