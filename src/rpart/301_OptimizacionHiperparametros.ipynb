{
  "nbformat": 4,
  "nbformat_minor": 0,
  "metadata": {
    "colab": {
      "provenance": [],
      "include_colab_link": true
    },
    "kernelspec": {
      "name": "ir",
      "display_name": "R"
    },
    "language_info": {
      "name": "R"
    }
  },
  "cells": [
    {
      "cell_type": "markdown",
      "metadata": {
        "id": "view-in-github",
        "colab_type": "text"
      },
      "source": [
        "<a href=\"https://colab.research.google.com/github/emiksiazenicer/labo2025v/blob/main/src/rpart/301_OptimizacionHiperparametros.ipynb\" target=\"_parent\"><img src=\"https://colab.research.google.com/assets/colab-badge.svg\" alt=\"Open In Colab\"/></a>"
      ]
    },
    {
      "cell_type": "markdown",
      "metadata": {
        "id": "5DrvzQ9BsXmX"
      },
      "source": [
        "# 3 Optimización de Hiperpárametros"
      ]
    },
    {
      "cell_type": "markdown",
      "source": [
        "## 3.01 Introduccion\n",
        "En general los algoritmos que generan modelos predictivos poseen hiperparámetros que *dado un dataset* deben ser optimizados.\n",
        "<br> La invocación de uno de esos algoritmos sin hiperparámetros no es más que\n",
        "invocarlos con hiperparámetros por default definidos por el fabricante. Por ejemplo en el caso de la librería **rpart** es cp=0.01, maxdepth=30, minsplit=20, minbucket=6,  lo que en nuestro dataset genera un arbol de un solo nodo (decimos \"no se abre el arbol\"); la razon de esto es la proporcion de \"BAJA+1\" y \"BAJA+2\""
      ],
      "metadata": {
        "id": "ChXVnCOOuqOu"
      }
    },
    {
      "cell_type": "markdown",
      "source": [
        "En el primer notebook de la asignatura usted probó optimizar manualmente los hiperparámetros entrenando en un mes completo y viendo los resultados directamente en el Public Leaderboard, que es una porción de los datos de futuro.\n",
        "<br> En el mundo real no se dispone jamás de la clase del futuro, con lo cual lo anterior es meramente un artifical divertimento.\n",
        "<br> La solución es estimar la bondad de un set de hiperparámetros en alguna combinación de:\n",
        "  * Una sola partición de  <training, testing>\n",
        "  * Multiples particiones de <training, testing>\n",
        "  * El método de  k-fold Cross Validation , generalmente con n>=5\n",
        "  * Utilizar   n-repated  k-fold Cross Validation\n",
        "  * Leave One Out  si la cardinalidad del dataset y el poder de cómputo se lo permiten"
      ],
      "metadata": {
        "id": "kXI3gt3iwNzg"
      }
    },
    {
      "cell_type": "markdown",
      "source": [
        "Luego de comenzar a trabajar con el método de  \"Multiples particiones de <training, testing>  se le invitó a extender un esqueleto de código del método de **Optimización de Hiperparámetros por Grid Search**"
      ],
      "metadata": {
        "id": "Max6K39SxSRc"
      }
    },
    {
      "cell_type": "markdown",
      "source": [
        "## 3.02 Conceptos\n",
        "\n",
        "En esta entrega veremos los siguiente conceptos:\n",
        "* El origen del overfitting en un arbol de decisión\n",
        "* *La maldición del ganador*, overfitting en los hiperparámetros ganadores, Selective Inference\n",
        "* Data Drifting\n",
        "* Alterntivas de búsqueda\n",
        "  * Grid Search, la fuerza bruta\n",
        "  * Bayesian Optimization, la heurística"
      ],
      "metadata": {
        "id": "V0uWfedQ0CgK"
      }
    },
    {
      "cell_type": "markdown",
      "source": [
        "## 3.03  Corrida notebook inicial\n",
        "\n",
        "En el repositorio oficial de la asignatura se encuentra el notebook ./src/rpart/z102_FinalTrain.ipynb  que automaticamente hace el submit a la Competencia Analista Sr  de Kaggle.\n",
        "<br>  Ingrese a un nuevo Google Colab  y pruebe algunas corridas del notebook cambiando los hiperparámetros de rpart"
      ],
      "metadata": {
        "id": "xcdjPTy0_7ud"
      }
    },
    {
      "cell_type": "markdown",
      "source": [
        "## 3.04 Origen del Overfitting en un arbol de decisión\n",
        "¿Qué combinacion de hiperparámetros overfitea un árbol de decisión, para nuestro dataset?\n",
        "<br>¿Cómo se ve el overfitting desde el punto de vista de las curvas de ganancia?"
      ],
      "metadata": {
        "id": "Cv_td2pLawzc"
      }
    },
    {
      "cell_type": "markdown",
      "source": [
        "El objetivo de este capítulo es que usted juegue manualmente con los hiperparámetros de un rpart, observe las curvas de ganancia generadas en una particion <training=50%, testing=50%>  y obtengla conclusiones sobre el fenómeno observado."
      ],
      "metadata": {
        "id": "vyO0nseY5e6M"
      }
    },
    {
      "cell_type": "markdown",
      "source": [
        "Introducimos el concepto de **Curva de Ganancia**\n",
        "<br> Al aplicar un modelo a un dataset se le asigna a cada registro una probabilidad, a su vez cada registro contribuye con una ganancia la que puede ser una pérdida o una ganancia.  \n",
        "<br>Ordenamos el dataset por probabilidad *descendente* y computamos la ganancia acumulada, generando de esta forma la curva de ganancia\n",
        "<br> Para visualizar el efecto del under/over  fitting adecuadamente, realizamos una particion  <training= 50%, testing= 50%>\n",
        "\n"
      ],
      "metadata": {
        "id": "Zyo3JVGn24zE"
      }
    },
    {
      "cell_type": "markdown",
      "source": [
        "tener presente:\n",
        "<br> Overfitting  **NO**  es la diferencia entre las curvas\n",
        "<br> Lo que divide el underfitting del overfitting al aumentar la complejidad del modelo es la complejidad donde se alcanza la métrica máxima."
      ],
      "metadata": {
        "id": "HXVdNC0R4FZe"
      }
    },
    {
      "cell_type": "markdown",
      "source": [
        "### ¿Qué debe hacer usted?\n",
        "Probar al menos estas combinaciones:\n",
        "* **Arbol crecimiento descontrolado**\n",
        "   * cp= -1\n",
        "   * maxdepth= 30\n",
        "   * minsplit= 2\n",
        "   * minbucket= 1\n",
        "* Arbol talla reducida\n",
        "   * cp= -1\n",
        "   * maxdepth= 3\n",
        "   * minsplit= 20000\n",
        "   * minbucket= 10000\n"
      ],
      "metadata": {
        "id": "a1p3BNOU7x_X"
      }
    },
    {
      "cell_type": "markdown",
      "metadata": {
        "id": "3m0ySYPfa7Zr"
      },
      "source": [
        "#### Seteo del ambiente en Google Colab"
      ]
    },
    {
      "cell_type": "markdown",
      "metadata": {
        "id": "NGY7H9xza7Zr"
      },
      "source": [
        "Esta parte se debe correr con el runtime en Python3\n",
        "<br>Ir al menu, Runtime -> Change Runtime Type -> Runtime type ->  **Python 3**"
      ]
    },
    {
      "cell_type": "markdown",
      "metadata": {
        "id": "7PupIBNba7Zr"
      },
      "source": [
        "Conectar la virtual machine donde esta corriendo Google Colab con el  Google Drive, para poder tener persistencia de archivos"
      ]
    },
    {
      "cell_type": "code",
      "execution_count": 1,
      "metadata": {
        "id": "9LpZCst5a7Zs",
        "outputId": "4c9b9c06-dadc-48ee-9579-3bceb4c51d14",
        "colab": {
          "base_uri": "https://localhost:8080/"
        }
      },
      "outputs": [
        {
          "output_type": "stream",
          "name": "stdout",
          "text": [
            "Mounted at /content/.drive\n"
          ]
        }
      ],
      "source": [
        "# primero establecer el Runtime de Python 3\n",
        "from google.colab import drive\n",
        "drive.mount('/content/.drive')"
      ]
    },
    {
      "cell_type": "markdown",
      "metadata": {
        "id": "JYC_F-wla7Zs"
      },
      "source": [
        "Para correr la siguiente celda es fundamental en Arranque en Frio haber copiado el archivo kaggle.json al Google Drive, en la carpeta indicada en el instructivo\n",
        "\n",
        "<br>los siguientes comando estan en shell script de Linux\n",
        "*   Crear las carpetas en el Google Drive\n",
        "*   \"instalar\" el archivo kaggle.json desde el Google Drive a la virtual machine para que pueda ser utilizado por la libreria  kaggle de Python\n",
        "*   Bajar el  **dataset_pequeno**  al  Google Drive  y tambien al disco local de la virtual machine que esta corriendo Google Colab\n",
        "\n"
      ]
    },
    {
      "cell_type": "code",
      "execution_count": 2,
      "metadata": {
        "id": "XWLelftXa7Zt",
        "outputId": "f0b911ff-9e28-4410-f3a7-d4af64bb1a8e",
        "colab": {
          "base_uri": "https://localhost:8080/"
        }
      },
      "outputs": [
        {
          "output_type": "execute_result",
          "data": {
            "text/plain": []
          },
          "metadata": {},
          "execution_count": 2
        }
      ],
      "source": [
        "%%shell\n",
        "\n",
        "mkdir -p \"/content/.drive/My Drive/labo1\"\n",
        "mkdir -p \"/content/buckets\"\n",
        "ln -s \"/content/.drive/My Drive/labo1\" /content/buckets/b1\n",
        "\n",
        "mkdir -p ~/.kaggle\n",
        "cp /content/buckets/b1/kaggle/kaggle.json  ~/.kaggle\n",
        "chmod 600 ~/.kaggle/kaggle.json\n",
        "\n",
        "\n",
        "mkdir -p /content/buckets/b1/exp\n",
        "mkdir -p /content/buckets/b1/datasets\n",
        "mkdir -p /content/datasets\n",
        "\n",
        "\n",
        "\n",
        "archivo_origen=\"https://storage.googleapis.com/open-courses/austral2025-af91/dataset_pequeno.csv\"\n",
        "archivo_destino=\"/content/datasets/dataset_pequeno.csv\"\n",
        "archivo_destino_bucket=\"/content/buckets/b1/datasets/dataset_pequeno.csv\"\n",
        "\n",
        "if ! test -f $archivo_destino_bucket; then\n",
        "  wget  $archivo_origen  -O $archivo_destino_bucket\n",
        "fi\n",
        "\n",
        "\n",
        "if ! test -f $archivo_destino; then\n",
        "  cp  $archivo_destino_bucket  $archivo_destino\n",
        "fi"
      ]
    },
    {
      "cell_type": "markdown",
      "metadata": {
        "id": "JxhSJ-oqb-r6"
      },
      "source": [
        "Esta parte se debe correr con el runtime en lenguaje **R** Ir al menu, Runtime -> Change Runtime Type -> Runtime type -> R"
      ]
    },
    {
      "cell_type": "markdown",
      "metadata": {
        "id": "ls15rN6Ob-r7"
      },
      "source": [
        "limpio el ambiente de R"
      ]
    },
    {
      "cell_type": "code",
      "execution_count": null,
      "metadata": {
        "id": "QrRq-FePb-r7"
      },
      "outputs": [],
      "source": [
        "# limpio la memoria\n",
        "rm(list=ls(all.names=TRUE)) # remove all objects\n",
        "gc(full=TRUE, verbose=FALSE) # garbage collection"
      ]
    },
    {
      "cell_type": "code",
      "execution_count": null,
      "metadata": {
        "id": "IIeRpVlZb-r8"
      },
      "outputs": [],
      "source": [
        "# cargo las librerias que necesito\n",
        "require(\"data.table\")\n",
        "require(\"rpart\")\n",
        "require(\"ggplot2\")"
      ]
    },
    {
      "cell_type": "code",
      "source": [
        "# carpeta de trabajo\n",
        "setwd(\"/content/buckets/b1/exp\")\n",
        "experimento <- \"exp304\"\n",
        "dir.create(experimento, showWarnings=FALSE)\n",
        "setwd( paste0(\"/content/buckets/b1/exp/\", experimento ))"
      ],
      "metadata": {
        "id": "3Wb-iYIGb-r8"
      },
      "execution_count": null,
      "outputs": []
    },
    {
      "cell_type": "markdown",
      "source": [
        "### Acción :  Jugar con  minsplit, minbucket y maxdepth"
      ],
      "metadata": {
        "id": "DjLKeoBHhhNP"
      }
    },
    {
      "cell_type": "code",
      "source": [
        "# cambiar aqui los parametros\n",
        "PARAM <- list()\n",
        "PARAM$semilla_primigenia <- 102191\n",
        "\n",
        "\n",
        "PARAM$minsplit <- 300\n",
        "PARAM$minbucket <- 20\n",
        "PARAM$maxdepth <- 11"
      ],
      "metadata": {
        "id": "b-kYnwWzcRHK"
      },
      "execution_count": null,
      "outputs": []
    },
    {
      "cell_type": "code",
      "source": [
        "# particionar agrega una columna llamada fold a un dataset\n",
        "#   que consiste en una particion estratificada segun agrupa\n",
        "# particionar( data=dataset, division=c(70,30),\n",
        "#  agrupa=clase_ternaria, seed=semilla)   crea una particion 70, 30\n",
        "\n",
        "particionar <- function(data, division, agrupa= \"\", campo= \"fold\", start= 1, seed= NA) {\n",
        "  if (!is.na(seed)) set.seed(seed)\n",
        "\n",
        "  bloque <- unlist(mapply(\n",
        "    function(x, y) {rep(y, x)},division, seq(from= start, length.out= length(division))))\n",
        "\n",
        "  data[, (campo) := sample(rep(bloque,ceiling(.N / length(bloque))))[1:.N],by= agrupa]\n",
        "}\n"
      ],
      "metadata": {
        "id": "ZqrrKQ5xcSvG"
      },
      "execution_count": null,
      "outputs": []
    },
    {
      "cell_type": "code",
      "source": [
        "# lectura del dataset\n",
        "\n",
        "dataset <- fread(\"/content/datasets/dataset_pequeno.csv\")"
      ],
      "metadata": {
        "id": "9pwX8GTacf3Z"
      },
      "execution_count": null,
      "outputs": []
    },
    {
      "cell_type": "code",
      "source": [
        "# a partir de ahora solo trabajo con 202107, el mes que tiene clase\n",
        "\n",
        "dataset <- dataset[foto_mes == 202107] # defino donde voy a entrenar"
      ],
      "metadata": {
        "id": "IaC-Ju2-ch-W"
      },
      "execution_count": null,
      "outputs": []
    },
    {
      "cell_type": "code",
      "source": [
        "# La division training/testing es 50%, 50%\n",
        "#  que sea 50/50 se indica con el c(1,1)\n",
        "\n",
        "particionar(dataset,\n",
        "  division= c(1, 1),\n",
        "  agrupa= \"clase_ternaria\",\n",
        "  seed= PARAM$semilla_primigenia\n",
        ")"
      ],
      "metadata": {
        "id": "eKJeTb1icluu"
      },
      "execution_count": null,
      "outputs": []
    },
    {
      "cell_type": "code",
      "source": [
        "# Entreno el modelo\n",
        "# los datos donde voy a entrenar\n",
        "# aqui es donde se deben probar distintos hiperparametros\n",
        "\n",
        "modelo <- rpart(\n",
        "  formula= \"clase_ternaria ~ . -fold\",\n",
        "  data= dataset[fold == 1, ],\n",
        "  xval= 0,\n",
        "  cp= -1,\n",
        "  minsplit= PARAM$minsplit,\n",
        "  minbucket= PARAM$minbucket,\n",
        "  maxdepth= PARAM$maxdepth\n",
        ")"
      ],
      "metadata": {
        "id": "v5Fuek3mc1Qx"
      },
      "execution_count": null,
      "outputs": []
    },
    {
      "cell_type": "code",
      "source": [
        "# aplico el modelo a TODOS los datos, inclusive los de training\n",
        "prediccion <- predict(modelo, dataset, type= \"prob\")"
      ],
      "metadata": {
        "id": "zjFQmTkFdGn8"
      },
      "execution_count": null,
      "outputs": []
    },
    {
      "cell_type": "code",
      "source": [
        "# Pego la probabilidad de  BAJA+2\n",
        "tb_prediccion <- dataset[, list(fold,clase_ternaria)]\n",
        "tb_prediccion[, prob_baja2 := prediccion[, \"BAJA+2\"]]"
      ],
      "metadata": {
        "id": "wxsRJ6-ldKMF"
      },
      "execution_count": null,
      "outputs": []
    },
    {
      "cell_type": "code",
      "source": [
        "# Dibujo la curva de ganancia acumulada\n",
        "setorder(tb_prediccion, fold, -prob_baja2)"
      ],
      "metadata": {
        "id": "CFPDDXxrdbHv"
      },
      "execution_count": null,
      "outputs": []
    },
    {
      "cell_type": "code",
      "source": [
        "# agrego una columna que es la de las ganancias\n",
        "# la multiplico por 2 para que ya este normalizada\n",
        "#  es 2 porque cada fold es el 50%\n",
        "\n",
        "tb_prediccion[, gan := 2 *ifelse(clase_ternaria == \"BAJA+2\", 117000, -3000)]\n",
        "tb_prediccion[, ganancia_acumulada := cumsum(gan), by= fold]\n",
        "tb_prediccion[, pos := sequence(.N), by= fold]"
      ],
      "metadata": {
        "id": "bUPJACeXdoDM"
      },
      "execution_count": null,
      "outputs": []
    },
    {
      "cell_type": "code",
      "source": [
        "tb_prediccion"
      ],
      "metadata": {
        "id": "mNdaJEmMe5gg"
      },
      "execution_count": null,
      "outputs": []
    },
    {
      "cell_type": "code",
      "source": [
        "# agrego una columna que es la de las ganancias\n",
        "# la multiplico por 2 para que ya este normalizada\n",
        "#  es 2 porque cada fold es el 50%\n",
        "\n",
        "tb_prediccion[, gan := 2 *ifelse(clase_ternaria == \"BAJA+2\", 117000, -3000)]\n",
        "tb_prediccion[, ganancia_acumulada := cumsum(gan), by= fold]\n",
        "tb_prediccion[, pos := sequence(.N), by= fold]"
      ],
      "metadata": {
        "id": "687CCwPMfaDt"
      },
      "execution_count": null,
      "outputs": []
    },
    {
      "cell_type": "code",
      "source": [
        "# defino hasta donde muestra el grafico\n",
        "amostrar <- 20000"
      ],
      "metadata": {
        "id": "Gnzpijujfi8X"
      },
      "execution_count": null,
      "outputs": []
    },
    {
      "cell_type": "code",
      "source": [
        "# Esta hermosa curva muestra como en el mentiroso training\n",
        "#   la ganancia es siempre mejor que en el real testing\n",
        "\n",
        "options( repr.plot.width=10, repr.plot.height=10)\n",
        "\n",
        "gra <- ggplot(\n",
        "           data= tb_prediccion[pos <= amostrar],\n",
        "           aes( x= pos, y= ganancia_acumulada,\n",
        "                color= ifelse(fold == 1, \"train\", \"test\") )\n",
        "             ) + geom_line()\n",
        "\n",
        "print( gra )\n"
      ],
      "metadata": {
        "id": "YCTWdnn5c-T8"
      },
      "execution_count": null,
      "outputs": []
    },
    {
      "cell_type": "code",
      "source": [
        "# veo los resultados\n",
        "\n",
        "print(PARAM)\n",
        "cat( \"Train gan max: \", tb_prediccion[fold==1, max(ganancia_acumulada)], \"\\n\" )\n",
        "cat( \"Test  gan max: \", tb_prediccion[fold==2, max(ganancia_acumulada)], \"\\n\" )\n"
      ],
      "metadata": {
        "id": "pCXOZ8bVfnsG"
      },
      "execution_count": null,
      "outputs": []
    },
    {
      "cell_type": "markdown",
      "source": [
        "## 3.05 Análisis de la salida de Grid Search\n",
        "\n",
        "En clase utilizando un enfoque constructivista de educacion cada uno de los grupos del aula analizará las salidas de las corridas de Grid Search de la Tarea para el Hogar.\n",
        "<br>Se espera que quienes ya trabajan como Data Analyst se luzcan en el análisis de esos datos\n",
        "<br>Finalmente se utilizara un *arma conceptual secreta*, iluminando elegantemente donde están las mayores ganancias.\n",
        "\n",
        "<br><br>Si usted no tuvo la oportunidad de hacer sus propias corridas esta generosa cátedra pone a su diposición esta salida https://storage.googleapis.com/open-courses/austral2025-af91/gridsearch.txt"
      ],
      "metadata": {
        "id": "BPZj2gpfvvSC"
      }
    },
    {
      "cell_type": "markdown",
      "source": [
        "## 3.06 La Maldición del Ganador"
      ],
      "metadata": {
        "id": "xyHuVU4wK0Xh"
      }
    },
    {
      "cell_type": "markdown",
      "source": [
        "¿Los hiperparámetros ganadores de toda la cohorte, estan overfiteando?\n",
        "<br> Trabajaremos con la hoja **C3-GS Overfitting** de la Google Sheet Colaborativa\n",
        "<br> Determinar de toda la cohorte quien obtuvo la mayor ganancia y con qué hiperparámetros\n",
        "<br> copiarlos  a la hoja **C3-GS Overfitting**\n",
        "<br> Quien obtuvo esa ganancia no debe hacer nada\n",
        "<br> El resto de la cohorte, modifica su script de Grid Search para calcular la ganancia de dichos hiperparámetros ganadores  utilizando su Semilla Primigenia y registra la ganancia en la linea correspondiente a su nombre en la hoja C3-GS Overfitting"
      ],
      "metadata": {
        "id": "olG0m0HQK4Ly"
      }
    },
    {
      "cell_type": "markdown",
      "source": [
        "¿ Como compara la ganancia del ganador versus el resto de las ganancias recién calculadas ?"
      ],
      "metadata": {
        "id": "ch9ilhfJMFhs"
      }
    },
    {
      "cell_type": "markdown",
      "source": [
        "#### Bibliografia"
      ],
      "metadata": {
        "id": "SDTdFtJzPdCR"
      }
    },
    {
      "cell_type": "markdown",
      "source": [
        "* Selective Inference - the silent killer of replicability   https://www.youtube.com/watch?v=6ZxIzVjV1DE\n",
        "* Ioannidis, J. P. A. Why most published research findings are false. PLoS Med. 2, e124 (2005). https://journals.plos.org/plosmedicine/article/file?id=10.1371/journal.pmed.0020124&type=printable"
      ],
      "metadata": {
        "id": "OtOkVKZ9PfY0"
      }
    },
    {
      "cell_type": "markdown",
      "metadata": {
        "id": "LBl_eIeO7WuM"
      },
      "source": [
        "\n",
        "\n",
        "---\n",
        "\n"
      ]
    },
    {
      "cell_type": "markdown",
      "source": [
        "## 3.07 Data Drifting  sospechas"
      ],
      "metadata": {
        "id": "QNSznolLMVyY"
      }
    },
    {
      "cell_type": "markdown",
      "source": [
        "Ordenar la salida del Grid Search en forma descendente por ganancia (en testing obviamente)\n",
        "<br> De esta forma la posición 1 corresponde a la mayor ganancia, la 2 a la segunda mejor, etc\n",
        "<br> En la Google Sheet Colaborativa,  hoja  **C3- GridSEarch** cargue las posiciones  1, 2, 5, 10, 50 y 100 de la salida del Grid Search, dejando la columna Public Leaderboard sin cargar\n",
        "<br> La columna ganancia_mean tiene valores en orden descendente"
      ],
      "metadata": {
        "id": "HMVNxSEcMdiK"
      }
    },
    {
      "cell_type": "markdown",
      "source": [
        "El objetivo de hacer Grid Search  es utilizando particiones <training, testing>  encontrar los mejores hiperparámetros\n",
        "<br> Esto tiene sentido en la medida que los hiperparámetros que resultan mejores de la búsqueda Grid Search son también los mejores cuando se hace el Final Training"
      ],
      "metadata": {
        "id": "T0SNDZq7NdGZ"
      }
    },
    {
      "cell_type": "markdown",
      "source": [
        "Utilizando el notebook de la primiera clase,  **z102_FinalTrain.ipynb**   calcule para cada uno de los sets de hiperparámetros de las posiciones 1, 2, 5, 10, 50 y 100  cual es la ganancia en el Public Leaderboard de Kaggle\n",
        "<br> Deberá hacer una corrida para cada conjunto de hiperparámetros"
      ],
      "metadata": {
        "id": "-4M7yP3VOAm_"
      }
    },
    {
      "cell_type": "markdown",
      "source": [
        " ¿ Se cumple que los hiperparámetros de la posición  1 del Grid Search son los que mejor funcionan para predecir los datos del futuro ?"
      ],
      "metadata": {
        "id": "aGcjHfd3Ofmj"
      }
    },
    {
      "cell_type": "markdown",
      "source": [
        "¿ Si esto no fuera así, estamos en una sitacion de **Game Over** ?"
      ],
      "metadata": {
        "id": "vbAo1HByPEdy"
      }
    },
    {
      "cell_type": "markdown",
      "metadata": {
        "id": "Pc9x9DnsNlZv"
      },
      "source": [
        "\n",
        "\n",
        "---\n",
        "\n"
      ]
    },
    {
      "cell_type": "markdown",
      "source": [
        "## 3.08 Data Drifting, breve intuicion"
      ],
      "metadata": {
        "id": "-ctmDt7dPRgE"
      }
    },
    {
      "cell_type": "markdown",
      "source": [
        "Se mostrará un posible origen de las discrepancias observadas en el capítulo anterior\n",
        "<br> La solución al Data Drifting es otro precio ..."
      ],
      "metadata": {
        "id": "hMuubs9vQKYC"
      }
    },
    {
      "cell_type": "markdown",
      "metadata": {
        "id": "LgGgjPQuGimP"
      },
      "source": [
        "Esta parte se debe correr con el runtime en lenguaje **R** Ir al menu, Runtime -> Change Runtime Type -> Runtime type -> R"
      ]
    },
    {
      "cell_type": "markdown",
      "metadata": {
        "id": "a6AxqLwOGimQ"
      },
      "source": [
        "limpio el ambiente de R"
      ]
    },
    {
      "cell_type": "code",
      "execution_count": 1,
      "metadata": {
        "id": "797Ad0_QGimQ",
        "outputId": "5b72fa48-ba2e-4cc6-efdd-ff31dff35bbe",
        "colab": {
          "base_uri": "https://localhost:8080/",
          "height": 129
        }
      },
      "outputs": [
        {
          "output_type": "display_data",
          "data": {
            "text/html": [
              "<table class=\"dataframe\">\n",
              "<caption>A matrix: 2 × 6 of type dbl</caption>\n",
              "<thead>\n",
              "\t<tr><th></th><th scope=col>used</th><th scope=col>(Mb)</th><th scope=col>gc trigger</th><th scope=col>(Mb)</th><th scope=col>max used</th><th scope=col>(Mb)</th></tr>\n",
              "</thead>\n",
              "<tbody>\n",
              "\t<tr><th scope=row>Ncells</th><td> 657244</td><td>35.2</td><td>1454468</td><td>77.7</td><td>1326121</td><td>70.9</td></tr>\n",
              "\t<tr><th scope=row>Vcells</th><td>1220271</td><td> 9.4</td><td>8388608</td><td>64.0</td><td>1975128</td><td>15.1</td></tr>\n",
              "</tbody>\n",
              "</table>\n"
            ],
            "text/markdown": "\nA matrix: 2 × 6 of type dbl\n\n| <!--/--> | used | (Mb) | gc trigger | (Mb) | max used | (Mb) |\n|---|---|---|---|---|---|---|\n| Ncells |  657244 | 35.2 | 1454468 | 77.7 | 1326121 | 70.9 |\n| Vcells | 1220271 |  9.4 | 8388608 | 64.0 | 1975128 | 15.1 |\n\n",
            "text/latex": "A matrix: 2 × 6 of type dbl\n\\begin{tabular}{r|llllll}\n  & used & (Mb) & gc trigger & (Mb) & max used & (Mb)\\\\\n\\hline\n\tNcells &  657244 & 35.2 & 1454468 & 77.7 & 1326121 & 70.9\\\\\n\tVcells & 1220271 &  9.4 & 8388608 & 64.0 & 1975128 & 15.1\\\\\n\\end{tabular}\n",
            "text/plain": [
              "       used    (Mb) gc trigger (Mb) max used (Mb)\n",
              "Ncells  657244 35.2 1454468    77.7 1326121  70.9\n",
              "Vcells 1220271  9.4 8388608    64.0 1975128  15.1"
            ]
          },
          "metadata": {}
        }
      ],
      "source": [
        "# limpio la memoria\n",
        "rm(list=ls(all.names=TRUE)) # remove all objects\n",
        "gc(full=TRUE, verbose=FALSE) # garbage collection"
      ]
    },
    {
      "cell_type": "markdown",
      "metadata": {
        "id": "v0CepvbjGimQ"
      },
      "source": [
        "* Instalacion de la libreria  rpart.plot  para dibujar el arbol\n",
        "* invocacion de las librerias  **data.table** y  **rpart**"
      ]
    },
    {
      "cell_type": "code",
      "execution_count": 2,
      "metadata": {
        "id": "CRkZ1V2_GimR",
        "outputId": "bc98f223-e1a7-4bd4-ff19-1bbf548f6446",
        "colab": {
          "base_uri": "https://localhost:8080/"
        }
      },
      "outputs": [
        {
          "output_type": "stream",
          "name": "stderr",
          "text": [
            "Loading required package: data.table\n",
            "\n",
            "Loading required package: rpart\n",
            "\n"
          ]
        }
      ],
      "source": [
        "# cargo las librerias que necesito\n",
        "require(\"data.table\")\n",
        "require(\"rpart\")"
      ]
    },
    {
      "cell_type": "code",
      "source": [
        "# carpeta de trabajo\n",
        "setwd(\"/content/buckets/b1/exp\")\n",
        "experimento <- \"exp308\"\n",
        "dir.create(experimento, showWarnings=FALSE)\n",
        "setwd( paste0(\"/content/buckets/b1/exp/\", experimento ))"
      ],
      "metadata": {
        "id": "NB9XL85QSREx"
      },
      "execution_count": 3,
      "outputs": []
    },
    {
      "cell_type": "code",
      "source": [
        "PARAM <- list()\n",
        "PARAM$mes0 <- 202107\n",
        "PARAM$mes1 <- 202109"
      ],
      "metadata": {
        "id": "YWVW1EI3SXRi"
      },
      "execution_count": 4,
      "outputs": []
    },
    {
      "cell_type": "code",
      "source": [
        "graficar_campo <- function(campo, param) {\n",
        "  # quito de grafico las colas del 5% de las densidades\n",
        "  qA <- quantile(dataset[foto_mes == param$mes0, get(campo)],\n",
        "    prob= c(0.05, 0.95), na.rm= TRUE\n",
        "  )\n",
        "\n",
        "  qB <- quantile(dataset[foto_mes == param$mes1, get(campo)],\n",
        "    prob= c(0.05, 0.95), na.rm= TRUE\n",
        "  )\n",
        "\n",
        "  xxmin <- pmin(qA[[1]], qB[[1]])\n",
        "  xxmax <- pmax(qA[[2]], qB[[2]])\n",
        "\n",
        "  densidad_A <- density(dataset[foto_mes == param$mes0, get(campo)],\n",
        "    kernel= \"gaussian\", na.rm= TRUE\n",
        "  )\n",
        "\n",
        "  densidad_B <- density(dataset[foto_mes == param$mes1, get(campo)],\n",
        "    kernel= \"gaussian\", na.rm= TRUE\n",
        "  )\n",
        "\n",
        "  plot(densidad_A,\n",
        "    col= \"blue\",\n",
        "    xlim= c(xxmin, xxmax),\n",
        "    ylim= c(0, pmax(max(densidad_A$y), max(densidad_B$y))),\n",
        "    main= campo\n",
        "  )\n",
        "\n",
        "  lines(densidad_B, col= \"red\", lty= 2)\n",
        "\n",
        "  legend(\"topright\",\n",
        "    legend= c( param$mes0, param$mes1),\n",
        "    col= c(\"blue\", \"red\"), lty= c(1, 2)\n",
        "  )\n",
        "}\n"
      ],
      "metadata": {
        "id": "o4Ec0SIXSnjx"
      },
      "execution_count": 5,
      "outputs": []
    },
    {
      "cell_type": "code",
      "source": [
        "# lectura del dataset\n",
        "dataset <- fread(\"/content/datasets/dataset_pequeno.csv\")"
      ],
      "metadata": {
        "id": "qa6PCztQTIZr"
      },
      "execution_count": 6,
      "outputs": []
    },
    {
      "cell_type": "code",
      "source": [
        "# Entreno el modelo\n",
        "# utilizo los mejores hiperparametros encontrados\n",
        "\n",
        "modelo <- rpart(\n",
        "  formula= \"clase_ternaria ~ . \",\n",
        "  data= dataset[foto_mes == PARAM$mes0], # los datos donde voy a entrenar\n",
        "  xval= 0,\n",
        "  cp= -1,\n",
        "  minsplit= 1144,\n",
        "  minbucket= 539,\n",
        "  maxdepth= 8\n",
        ")\n"
      ],
      "metadata": {
        "id": "ijE1YZvXTYxF"
      },
      "execution_count": 7,
      "outputs": []
    },
    {
      "cell_type": "code",
      "source": [
        "\n",
        "campos_modelo <- names(modelo$variable.importance)\n",
        "campos_buenos <- c(campos_modelo, setdiff(colnames(dataset), campos_modelo))\n",
        "campos_buenos <- setdiff(\n",
        "  campos_buenos,\n",
        "  c(\"foto_mes\", \"clase_ternaria\")\n",
        ")\n",
        "\n",
        "campos_buenos"
      ],
      "metadata": {
        "id": "HS8Sj8aNUIJZ"
      },
      "execution_count": null,
      "outputs": []
    },
    {
      "cell_type": "code",
      "source": [
        "# para fines didacticos,  cliente_antiguedad primero\n",
        "campos_buenos <- c(\"cliente_antiguedad\", campos_buenos)"
      ],
      "metadata": {
        "id": "05cmWkKrVUAm"
      },
      "execution_count": null,
      "outputs": []
    },
    {
      "cell_type": "code",
      "source": [
        "# grafico las densidades de cada variable para los dos mses\n",
        "\n",
        "options( repr.plot.width=15, repr.plot.height=15)\n",
        "\n",
        "for (campo in campos_buenos) {\n",
        "  cat(campo, \"  \")\n",
        "  graficar_campo(campo, PARAM)\n",
        "}\n"
      ],
      "metadata": {
        "id": "009BAOZ3UQV-"
      },
      "execution_count": null,
      "outputs": []
    },
    {
      "cell_type": "markdown",
      "metadata": {
        "id": "BCjhc7VGOySp"
      },
      "source": [
        "\n",
        "\n",
        "---\n",
        "\n"
      ]
    },
    {
      "cell_type": "markdown",
      "source": [
        "## 3.09 Bayesian Optimization"
      ],
      "metadata": {
        "id": "5cZrnAixV3gT"
      }
    },
    {
      "cell_type": "markdown",
      "source": [
        "Se explicará en clase como a partir del Grid Search se deriva el algoritmo de Bayesian Optimization"
      ],
      "metadata": {
        "id": "jRnL1RAGWTKy"
      }
    },
    {
      "cell_type": "markdown",
      "metadata": {
        "id": "UMr6Z1enOyd3"
      },
      "source": [
        "\n",
        "\n",
        "---\n",
        "\n"
      ]
    },
    {
      "cell_type": "markdown",
      "source": [
        "## 3.10 Bayesian Optimization código"
      ],
      "metadata": {
        "id": "khI14CLoWfCK"
      }
    },
    {
      "cell_type": "markdown",
      "metadata": {
        "id": "Pb0kVc82WnwU"
      },
      "source": [
        "Esta parte se debe correr con el runtime en lenguaje **R** Ir al menu, Runtime -> Change Runtime Type -> Runtime type -> R"
      ]
    },
    {
      "cell_type": "markdown",
      "metadata": {
        "id": "R1yj6LSBWnwU"
      },
      "source": [
        "limpio el ambiente de R"
      ]
    },
    {
      "cell_type": "code",
      "execution_count": 8,
      "metadata": {
        "id": "THfA4LSjWnwU",
        "outputId": "f34d1d43-c5c5-474d-c10f-2ff56d50075b",
        "colab": {
          "base_uri": "https://localhost:8080/",
          "height": 129
        }
      },
      "outputs": [
        {
          "output_type": "display_data",
          "data": {
            "text/html": [
              "<table class=\"dataframe\">\n",
              "<caption>A matrix: 2 × 6 of type dbl</caption>\n",
              "<thead>\n",
              "\t<tr><th></th><th scope=col>used</th><th scope=col>(Mb)</th><th scope=col>gc trigger</th><th scope=col>(Mb)</th><th scope=col>max used</th><th scope=col>(Mb)</th></tr>\n",
              "</thead>\n",
              "<tbody>\n",
              "\t<tr><th scope=row>Ncells</th><td> 739221</td><td>39.5</td><td>  1454468</td><td>  77.7</td><td>  1454468</td><td>  77.7</td></tr>\n",
              "\t<tr><th scope=row>Vcells</th><td>1462717</td><td>11.2</td><td>134468369</td><td>1026.0</td><td>163681530</td><td>1248.8</td></tr>\n",
              "</tbody>\n",
              "</table>\n"
            ],
            "text/markdown": "\nA matrix: 2 × 6 of type dbl\n\n| <!--/--> | used | (Mb) | gc trigger | (Mb) | max used | (Mb) |\n|---|---|---|---|---|---|---|\n| Ncells |  739221 | 39.5 |   1454468 |   77.7 |   1454468 |   77.7 |\n| Vcells | 1462717 | 11.2 | 134468369 | 1026.0 | 163681530 | 1248.8 |\n\n",
            "text/latex": "A matrix: 2 × 6 of type dbl\n\\begin{tabular}{r|llllll}\n  & used & (Mb) & gc trigger & (Mb) & max used & (Mb)\\\\\n\\hline\n\tNcells &  739221 & 39.5 &   1454468 &   77.7 &   1454468 &   77.7\\\\\n\tVcells & 1462717 & 11.2 & 134468369 & 1026.0 & 163681530 & 1248.8\\\\\n\\end{tabular}\n",
            "text/plain": [
              "       used    (Mb) gc trigger (Mb)   max used  (Mb)  \n",
              "Ncells  739221 39.5   1454468    77.7   1454468   77.7\n",
              "Vcells 1462717 11.2 134468369  1026.0 163681530 1248.8"
            ]
          },
          "metadata": {}
        }
      ],
      "source": [
        "# limpio la memoria\n",
        "rm(list=ls(all.names=TRUE)) # remove all objects\n",
        "gc(full=TRUE, verbose=FALSE) # garbage collection"
      ]
    },
    {
      "cell_type": "markdown",
      "metadata": {
        "id": "JpzI9HIJWnwV"
      },
      "source": [
        "* Instalacion de la libreria  rpart.plot  para dibujar el arbol\n",
        "* invocacion de las librerias  **data.table** y  **rpart**"
      ]
    },
    {
      "cell_type": "code",
      "execution_count": 9,
      "metadata": {
        "id": "zeCTdZGyWnwV",
        "outputId": "e7241643-d67a-4645-d0c4-b223da6ca9ee",
        "colab": {
          "base_uri": "https://localhost:8080/"
        }
      },
      "outputs": [
        {
          "output_type": "stream",
          "name": "stderr",
          "text": [
            "Loading required package: parallel\n",
            "\n"
          ]
        }
      ],
      "source": [
        "# cargo las librerias que necesito\n",
        "require(\"data.table\")\n",
        "require(\"rpart\")\n",
        "require(\"parallel\")"
      ]
    },
    {
      "cell_type": "code",
      "source": [
        "if( ! require(\"rlist\") ) install.packages(\"rlist\")\n",
        "require(\"rlist\")"
      ],
      "metadata": {
        "id": "MjmheQDhkI9x",
        "outputId": "0a8a1493-5bad-4d32-8174-56a99c2cfb08",
        "colab": {
          "base_uri": "https://localhost:8080/"
        }
      },
      "execution_count": 10,
      "outputs": [
        {
          "output_type": "stream",
          "name": "stderr",
          "text": [
            "Loading required package: rlist\n",
            "\n",
            "Warning message in library(package, lib.loc = lib.loc, character.only = TRUE, logical.return = TRUE, :\n",
            "“there is no package called ‘rlist’”\n",
            "Installing package into ‘/usr/local/lib/R/site-library’\n",
            "(as ‘lib’ is unspecified)\n",
            "\n",
            "also installing the dependency ‘XML’\n",
            "\n",
            "\n",
            "Loading required package: rlist\n",
            "\n"
          ]
        }
      ]
    },
    {
      "cell_type": "code",
      "source": [
        "# paquete necesarios para la Bayesian Optimization\n",
        "if( !require(\"DiceKriging\") ) install.packages(\"DiceKriging\")\n",
        "require(\"DiceKriging\")"
      ],
      "metadata": {
        "id": "CzTjEz__kOrf",
        "outputId": "4e87883f-ba96-4693-d97a-4b4032f13537",
        "colab": {
          "base_uri": "https://localhost:8080/"
        }
      },
      "execution_count": 11,
      "outputs": [
        {
          "output_type": "stream",
          "name": "stderr",
          "text": [
            "Loading required package: DiceKriging\n",
            "\n",
            "Warning message in library(package, lib.loc = lib.loc, character.only = TRUE, logical.return = TRUE, :\n",
            "“there is no package called ‘DiceKriging’”\n",
            "Installing package into ‘/usr/local/lib/R/site-library’\n",
            "(as ‘lib’ is unspecified)\n",
            "\n",
            "Loading required package: DiceKriging\n",
            "\n"
          ]
        }
      ]
    },
    {
      "cell_type": "code",
      "source": [
        "# paquete necesarios para la Bayesian Optimization\n",
        "if( !require(\"mlrMBO\") ) install.packages(\"mlrMBO\")\n",
        "require(\"mlrMBO\")"
      ],
      "metadata": {
        "id": "0irLrQDkkdPl",
        "outputId": "7d06c971-bf0b-47e1-f586-5a6f014ea20d",
        "colab": {
          "base_uri": "https://localhost:8080/"
        }
      },
      "execution_count": 12,
      "outputs": [
        {
          "output_type": "stream",
          "name": "stderr",
          "text": [
            "Loading required package: mlrMBO\n",
            "\n",
            "Warning message in library(package, lib.loc = lib.loc, character.only = TRUE, logical.return = TRUE, :\n",
            "“there is no package called ‘mlrMBO’”\n",
            "Installing package into ‘/usr/local/lib/R/site-library’\n",
            "(as ‘lib’ is unspecified)\n",
            "\n",
            "also installing the dependencies ‘fastmatch’, ‘RcppArmadillo’, ‘mlr’, ‘ParamHelpers’, ‘smoof’, ‘BBmisc’, ‘checkmate’, ‘lhs’, ‘parallelMap’\n",
            "\n",
            "\n",
            "Loading required package: mlrMBO\n",
            "\n",
            "Loading required package: mlr\n",
            "\n",
            "Loading required package: ParamHelpers\n",
            "\n",
            "Loading required package: smoof\n",
            "\n",
            "Loading required package: checkmate\n",
            "\n",
            "\n",
            "Attaching package: ‘checkmate’\n",
            "\n",
            "\n",
            "The following object is masked from ‘package:DiceKriging’:\n",
            "\n",
            "    checkNames\n",
            "\n",
            "\n"
          ]
        }
      ]
    },
    {
      "cell_type": "markdown",
      "source": [
        "Accion a realizar : cambiar por su semilla primigenia"
      ],
      "metadata": {
        "id": "0h5tn-8QL1YA"
      }
    },
    {
      "cell_type": "code",
      "source": [
        "# Defino la  Optimizacion Bayesiana\n",
        "\n",
        "# cantidad de iteraciones de la Optimizacion Bayesiana\n",
        "PARAM <- list()\n",
        "\n",
        "PARAM$semilla_primigenia <- 943153\n",
        "PARAM$experimento <- \"HT311\"\n",
        "\n",
        "PARAM$BO_iter <- 40 #cantidad de iteraciones de la Bayesian Optimization\n",
        "\n",
        "# la letra L al final de 1L significa ENTERO\n",
        "PARAM$hs <- makeParamSet(\n",
        "    makeNumericParam(\"cp\", lower= -1, upper= 0.1),\n",
        "    makeIntegerParam(\"minsplit\", lower= 1L, upper= 8000L),\n",
        "    makeIntegerParam(\"minbucket\", lower= 1L, upper= 4000L),\n",
        "    makeIntegerParam(\"maxdepth\", lower= 3L, upper= 20L),\n",
        "    forbidden= quote(minbucket > 0.5 * minsplit)\n",
        ")\n",
        "# minbuket NO PUEDE ser mayor que la mitad de minsplit\n",
        "\n"
      ],
      "metadata": {
        "id": "rFmJWC1nlCaA"
      },
      "execution_count": 13,
      "outputs": []
    },
    {
      "cell_type": "code",
      "source": [
        "# carpeta de trabajo\n",
        "setwd(\"/content/buckets/b1/exp\")\n",
        "dir.create(PARAM$experimento, showWarnings=FALSE)\n",
        "setwd( paste0(\"/content/buckets/b1/exp/\", PARAM$experimento ))"
      ],
      "metadata": {
        "id": "xUuITlXAOp-2"
      },
      "execution_count": 14,
      "outputs": []
    },
    {
      "cell_type": "code",
      "source": [
        "particionar <- function(data, division, agrupa = \"\", campo = \"fold\",\n",
        "                        start = 1, seed = NA) {\n",
        "  if (!is.na(seed)) set.seed(seed)\n",
        "\n",
        "  bloque <- unlist(mapply(\n",
        "    function(x, y) {\n",
        "      rep(y, x)\n",
        "    }, division,\n",
        "    seq(from= start, length.out= length(division))\n",
        "  ))\n",
        "\n",
        "  data[, (campo) := sample(rep(bloque, ceiling(.N / length(bloque))))[1:.N],\n",
        "    by= agrupa\n",
        "  ]\n",
        "}\n"
      ],
      "metadata": {
        "id": "0AWMWd5dlHqk"
      },
      "execution_count": 15,
      "outputs": []
    },
    {
      "cell_type": "code",
      "source": [
        "# fold_test  tiene el numero de fold que voy a usar para testear,\n",
        "#  entreno en el resto de los folds\n",
        "# param tiene los hiperparametros del arbol\n",
        "\n",
        "ArbolSimple <- function(fold_test, param_rpart) {\n",
        "  # genero el modelo\n",
        "  # entreno en todo MENOS el fold_test que uso para testing\n",
        "  modelo <- rpart(\"clase_ternaria ~ .\",\n",
        "    data= dataset[fold != fold_test, ],\n",
        "    xval= 0,\n",
        "    control= param_rpart\n",
        "  )\n",
        "\n",
        "  # aplico el modelo a los datos de testing\n",
        "  # aplico el modelo sobre los datos de testing\n",
        "  # quiero que me devuelva probabilidades\n",
        "  prediccion <- predict(modelo,\n",
        "    dataset[fold == fold_test, ],\n",
        "    type= \"prob\"\n",
        "  )\n",
        "\n",
        "  # esta es la probabilidad de baja\n",
        "  prob_baja2 <- prediccion[, \"BAJA+2\"]\n",
        "\n",
        "  # calculo la ganancia\n",
        "  ganancia_testing <- dataset[fold == fold_test][\n",
        "    prob_baja2 > 1 / 40,\n",
        "    sum(ifelse(clase_ternaria == \"BAJA+2\",\n",
        "      117000, -3000\n",
        "    ))\n",
        "  ]\n",
        "\n",
        "  # esta es la ganancia sobre el fold de testing, NO esta normalizada\n",
        "  return(ganancia_testing)\n",
        "}\n"
      ],
      "metadata": {
        "id": "Bij2dW0ElKZ8"
      },
      "execution_count": 16,
      "outputs": []
    },
    {
      "cell_type": "code",
      "source": [
        "ArbolesCrossValidation <- function(param_rpart, qfolds, pagrupa, semilla) {\n",
        "  # generalmente  c(1, 1, 1, 1, 1 )  cinco unos\n",
        "  divi <- rep(1, qfolds)\n",
        "\n",
        "  # particiono en dataset en folds\n",
        "  particionar(dataset, divi, seed= semilla, agrupa= pagrupa)\n",
        "\n",
        "  ganancias <- mcmapply(ArbolSimple,\n",
        "    seq(qfolds), # 1 2 3 4 5\n",
        "    MoreArgs= list(param_rpart),\n",
        "    SIMPLIFY= FALSE,\n",
        "    mc.cores= detectCores()\n",
        "  )\n",
        "\n",
        "  dataset[, fold := NULL]\n",
        "\n",
        "  # devuelvo la primer ganancia y el promedio\n",
        "  # promedio las ganancias\n",
        "  ganancia_promedio <- mean(unlist(ganancias))\n",
        "  # aqui normalizo la ganancia\n",
        "  ganancia_promedio_normalizada <- ganancia_promedio * qfolds\n",
        "\n",
        "  return(ganancia_promedio_normalizada)\n",
        "}\n"
      ],
      "metadata": {
        "id": "1PoSYV0NlQq7"
      },
      "execution_count": 17,
      "outputs": []
    },
    {
      "cell_type": "code",
      "source": [
        "# esta funcion solo puede recibir los parametros que se estan optimizando\n",
        "# el resto de los parametros, lamentablemente se pasan como variables globales\n",
        "\n",
        "EstimarGanancia <- function(x) {\n",
        "  message(format(Sys.time(), \"%a %b %d %X %Y\"))\n",
        "  GLOBAL_iteracion <<- GLOBAL_iteracion + 1\n",
        "\n",
        "  xval_folds <- 5\n",
        "  # param= x los hiperparametros del arbol\n",
        "  # qfolds= xval_folds  la cantidad de folds\n",
        "  ganancia <- ArbolesCrossValidation(\n",
        "    param_rpart= x,\n",
        "    qfolds= xval_folds,\n",
        "    pagrupa= \"clase_ternaria\",\n",
        "    semilla= PARAM$semilla_primigenia\n",
        "  )\n",
        "\n",
        "  return(ganancia)\n",
        "}\n"
      ],
      "metadata": {
        "id": "wWVKBCNilUxE"
      },
      "execution_count": 18,
      "outputs": []
    },
    {
      "cell_type": "code",
      "source": [
        "# lectura del dataset\n",
        "dataset <- fread(\"/content/datasets/dataset_pequeno.csv\")"
      ],
      "metadata": {
        "id": "IALv-toylgt0"
      },
      "execution_count": 19,
      "outputs": []
    },
    {
      "cell_type": "code",
      "source": [
        "\n",
        "archivo_log <- \"BO_log.txt\"\n",
        "archivo_BO <- \"bayesian.RDATA\"\n",
        "\n",
        "# leo si ya existe el log\n",
        "#  para retomar en caso que se se corte el programa\n",
        "GLOBAL_iteracion <- 0\n",
        "GLOBAL_mejor <- -Inf\n",
        "\n",
        "if (file.exists(archivo_log)) {\n",
        "  tabla_log <- fread(archivo_log)\n",
        "  GLOBAL_iteracion <- nrow(tabla_log)\n",
        "  GLOBAL_mejor <- tabla_log[, max(ganancia)]\n",
        "}\n",
        "\n"
      ],
      "metadata": {
        "id": "l-0H-PQ9lzJ-"
      },
      "execution_count": 20,
      "outputs": []
    },
    {
      "cell_type": "code",
      "source": [
        "\n",
        "# Aqui comienza la configuracion de la Bayesian Optimization\n",
        "\n",
        "funcion_optimizar <- EstimarGanancia\n",
        "\n",
        "configureMlr(show.learner.output= FALSE)\n",
        "\n",
        "# configuro la busqueda bayesiana,\n",
        "#  los hiperparametros que se van a optimizar\n",
        "# por favor, no desesperarse por lo complejo\n",
        "# minimize= FALSE estoy Maximizando la ganancia\n",
        "obj.fun <- makeSingleObjectiveFunction(\n",
        "  fn= funcion_optimizar,\n",
        "  minimize= FALSE,\n",
        "  noisy= TRUE,\n",
        "  par.set= PARAM$hs,\n",
        "  has.simple.signature= FALSE\n",
        ")\n",
        "\n",
        "ctrl <- makeMBOControl(\n",
        "  save.on.disk.at.time= 600,\n",
        "  save.file.path= archivo_BO\n",
        ")\n",
        "\n",
        "ctrl <- setMBOControlTermination(ctrl, iters= PARAM$BO_iter)\n",
        "ctrl <- setMBOControlInfill(ctrl, crit= makeMBOInfillCritEI())\n",
        "\n",
        "surr.km <- makeLearner(\"regr.km\",\n",
        "  predict.type= \"se\",\n",
        "  covtype= \"matern3_2\", control= list(trace= TRUE)\n",
        ")\n"
      ],
      "metadata": {
        "id": "HseppAV1l1bF"
      },
      "execution_count": 21,
      "outputs": []
    },
    {
      "cell_type": "code",
      "source": [
        "\n",
        "# inicio la optimizacion bayesiana\n",
        "if (!file.exists(archivo_BO)) {\n",
        "  bayesiana_salida <- mbo(\n",
        "    fun= obj.fun,\n",
        "    learner= surr.km,\n",
        "    control= ctrl\n",
        "  )\n",
        "} else {\n",
        "  bayesiana_salida <- mboContinue(archivo_BO)\n",
        "}\n",
        "# retomo en caso que ya exista\n"
      ],
      "metadata": {
        "id": "TAr8HSCLl5p7",
        "outputId": "1b76cea9-86ab-4f06-d852-e7ecf58971d3",
        "colab": {
          "base_uri": "https://localhost:8080/"
        }
      },
      "execution_count": 22,
      "outputs": [
        {
          "output_type": "stream",
          "name": "stderr",
          "text": [
            "Computing y column(s) for design. Not provided.\n",
            "\n",
            "Fri Oct 24 01:34:51 PM 2025\n",
            "\n",
            "Fri Oct 24 01:45:22 PM 2025\n",
            "\n",
            "Fri Oct 24 01:56:18 PM 2025\n",
            "\n",
            "Fri Oct 24 02:05:08 PM 2025\n",
            "\n",
            "Fri Oct 24 02:17:32 PM 2025\n",
            "\n",
            "Fri Oct 24 02:20:26 PM 2025\n",
            "\n",
            "Fri Oct 24 02:34:07 PM 2025\n",
            "\n",
            "Fri Oct 24 02:44:01 PM 2025\n",
            "\n",
            "Fri Oct 24 02:51:38 PM 2025\n",
            "\n",
            "Fri Oct 24 03:02:35 PM 2025\n",
            "\n",
            "Fri Oct 24 03:12:56 PM 2025\n",
            "\n",
            "Fri Oct 24 03:24:32 PM 2025\n",
            "\n",
            "Fri Oct 24 03:36:16 PM 2025\n",
            "\n",
            "Fri Oct 24 03:46:37 PM 2025\n",
            "\n",
            "Fri Oct 24 03:58:18 PM 2025\n",
            "\n",
            "Fri Oct 24 04:07:20 PM 2025\n",
            "\n",
            "[mbo] 0: cp=-0.769; minsplit=2903; minbucket=1241; maxdepth=11 : y = 4.68e+07 : 630.5 secs : initdesign\n",
            "\n",
            "[mbo] 0: cp=-0.702; minsplit=6113; minbucket=290; maxdepth=12 : y = 4.74e+07 : 656.4 secs : initdesign\n",
            "\n",
            "[mbo] 0: cp=-0.244; minsplit=7354; minbucket=3221; maxdepth=9 : y = 4.7e+07 : 530.2 secs : initdesign\n",
            "\n",
            "[mbo] 0: cp=-0.799; minsplit=3960; minbucket=700; maxdepth=17 : y = 4.62e+07 : 743.8 secs : initdesign\n",
            "\n",
            "[mbo] 0: cp=0.023; minsplit=4559; minbucket=1498; maxdepth=3 : y = 0 : 173.9 secs : initdesign\n",
            "\n",
            "[mbo] 0: cp=-0.0851; minsplit=885; minbucket=103; maxdepth=13 : y = 4.78e+07 : 820.8 secs : initdesign\n",
            "\n",
            "[mbo] 0: cp=-0.153; minsplit=7691; minbucket=1599; maxdepth=20 : y = 4.7e+07 : 593.7 secs : initdesign\n",
            "\n",
            "[mbo] 0: cp=-0.475; minsplit=5857; minbucket=931; maxdepth=6 : y = 4.73e+07 : 457.7 secs : initdesign\n",
            "\n",
            "[mbo] 0: cp=-0.628; minsplit=6457; minbucket=2155; maxdepth=17 : y = 4.7e+07 : 656.7 secs : initdesign\n",
            "\n",
            "[mbo] 0: cp=-0.174; minsplit=5582; minbucket=1960; maxdepth=18 : y = 4.69e+07 : 620.9 secs : initdesign\n",
            "\n",
            "[mbo] 0: cp=-0.889; minsplit=3238; minbucket=545; maxdepth=12 : y = 4.6e+07 : 696.0 secs : initdesign\n",
            "\n",
            "[mbo] 0: cp=-0.198; minsplit=7397; minbucket=389; maxdepth=16 : y = 4.75e+07 : 703.6 secs : initdesign\n",
            "\n",
            "[mbo] 0: cp=-0.712; minsplit=6010; minbucket=2078; maxdepth=19 : y = 4.67e+07 : 621.7 secs : initdesign\n",
            "\n",
            "[mbo] 0: cp=-0.0743; minsplit=4164; minbucket=674; maxdepth=12 : y = 4.62e+07 : 700.6 secs : initdesign\n",
            "\n",
            "[mbo] 0: cp=-0.596; minsplit=2338; minbucket=954; maxdepth=8 : y = 4.84e+07 : 542.0 secs : initdesign\n",
            "\n",
            "[mbo] 0: cp=-0.93; minsplit=2227; minbucket=566; maxdepth=5 : y = 4.75e+07 : 398.4 secs : initdesign\n",
            "\n",
            "Saved the current state after iteration 1 in the file bayesian.RDATA.\n",
            "\n",
            "Fri Oct 24 04:14:00 PM 2025\n",
            "\n",
            "[mbo] 1: cp=-0.425; minsplit=6324; minbucket=1108; maxdepth=11 : y = 4.73e+07 : 612.3 secs : infill_ei\n",
            "\n",
            "Saved the current state after iteration 2 in the file bayesian.RDATA.\n",
            "\n",
            "Fri Oct 24 04:24:16 PM 2025\n",
            "\n",
            "[mbo] 2: cp=-0.728; minsplit=7528; minbucket=2393; maxdepth=7 : y = 4.7e+07 : 473.0 secs : infill_ei\n",
            "\n",
            "Fri Oct 24 04:32:11 PM 2025\n",
            "\n",
            "[mbo] 3: cp=-0.678; minsplit=5457; minbucket=1; maxdepth=7 : y = 4.73e+07 : 518.2 secs : infill_ei\n",
            "\n",
            "Saved the current state after iteration 4 in the file bayesian.RDATA.\n",
            "\n",
            "Fri Oct 24 04:40:52 PM 2025\n",
            "\n",
            "[mbo] 4: cp=-0.226; minsplit=7984; minbucket=3991; maxdepth=13 : y = 4.74e+07 : 575.4 secs : infill_ei\n",
            "\n",
            "Fri Oct 24 04:50:30 PM 2025\n",
            "\n",
            "[mbo] 5: cp=-0.258; minsplit=2813; minbucket=2; maxdepth=14 : y = 4.56e+07 : 848.1 secs : infill_ei\n",
            "\n",
            "Saved the current state after iteration 6 in the file bayesian.RDATA.\n",
            "\n",
            "Fri Oct 24 05:04:42 PM 2025\n",
            "\n",
            "[mbo] 6: cp=-0.499; minsplit=7910; minbucket=3955; maxdepth=8 : y = 4.74e+07 : 496.3 secs : infill_ei\n",
            "\n",
            "Fri Oct 24 05:13:01 PM 2025\n",
            "\n",
            "[mbo] 7: cp=0.0216; minsplit=510; minbucket=1; maxdepth=20 : y = 0 : 160.9 secs : infill_ei\n",
            "\n",
            "Saved the current state after iteration 8 in the file bayesian.RDATA.\n",
            "\n",
            "Fri Oct 24 05:15:44 PM 2025\n",
            "\n",
            "[mbo] 8: cp=-1; minsplit=787; minbucket=336; maxdepth=6 : y = 5.1e+07 : 477.8 secs : infill_ei\n",
            "\n",
            "Fri Oct 24 05:23:44 PM 2025\n",
            "\n",
            "[mbo] 9: cp=-0.925; minsplit=7999; minbucket=30; maxdepth=18 : y = 4.66e+07 : 863.2 secs : infill_ei\n",
            "\n",
            "Saved the current state after iteration 10 in the file bayesian.RDATA.\n",
            "\n",
            "Fri Oct 24 05:38:11 PM 2025\n",
            "\n",
            "[mbo] 10: cp=-1; minsplit=2691; minbucket=1340; maxdepth=6 : y = 4.72e+07 : 442.7 secs : infill_ei\n",
            "\n",
            "Fri Oct 24 05:45:37 PM 2025\n",
            "\n",
            "[mbo] 11: cp=-0.493; minsplit=8; minbucket=3; maxdepth=10 : y = 4.34e+07 : 670.2 secs : infill_ei\n",
            "\n",
            "Saved the current state after iteration 12 in the file bayesian.RDATA.\n",
            "\n",
            "Fri Oct 24 05:56:50 PM 2025\n",
            "\n",
            "[mbo] 12: cp=-0.63; minsplit=1386; minbucket=1; maxdepth=6 : y = 4.74e+07 : 455.7 secs : infill_ei\n",
            "\n",
            "Fri Oct 24 06:04:28 PM 2025\n",
            "\n",
            "[mbo] 13: cp=-0.129; minsplit=8000; minbucket=3991; maxdepth=18 : y = 4.74e+07 : 585.3 secs : infill_ei\n",
            "\n",
            "Saved the current state after iteration 14 in the file bayesian.RDATA.\n",
            "\n",
            "Fri Oct 24 06:14:16 PM 2025\n",
            "\n",
            "[mbo] 14: cp=-0.449; minsplit=8000; minbucket=222; maxdepth=8 : y = 4.75e+07 : 562.6 secs : infill_ei\n",
            "\n",
            "Fri Oct 24 06:23:41 PM 2025\n",
            "\n",
            "[mbo] 15: cp=-0.122; minsplit=4156; minbucket=2; maxdepth=9 : y = 4.64e+07 : 567.7 secs : infill_ei\n",
            "\n",
            "Saved the current state after iteration 16 in the file bayesian.RDATA.\n",
            "\n",
            "Fri Oct 24 06:33:11 PM 2025\n",
            "\n",
            "[mbo] 16: cp=-0.978; minsplit=5; minbucket=2; maxdepth=20 : y = 2.12e+07 : 1214.8 secs : infill_ei\n",
            "\n",
            "Saved the current state after iteration 17 in the file bayesian.RDATA.\n",
            "\n",
            "Fri Oct 24 06:53:30 PM 2025\n",
            "\n",
            "[mbo] 17: cp=-0.521; minsplit=5079; minbucket=2536; maxdepth=14 : y = 4.7e+07 : 566.6 secs : infill_ei\n",
            "\n",
            "Fri Oct 24 07:02:58 PM 2025\n",
            "\n",
            "[mbo] 18: cp=-0.576; minsplit=5905; minbucket=1005; maxdepth=9 : y = 4.73e+07 : 538.4 secs : infill_ei\n",
            "\n",
            "Saved the current state after iteration 19 in the file bayesian.RDATA.\n",
            "\n",
            "Fri Oct 24 07:11:59 PM 2025\n",
            "\n",
            "[mbo] 19: cp=-1; minsplit=6971; minbucket=160; maxdepth=6 : y = 4.73e+07 : 410.4 secs : infill_ei\n",
            "\n",
            "Fri Oct 24 07:18:51 PM 2025\n",
            "\n",
            "[mbo] 20: cp=-0.152; minsplit=8000; minbucket=64; maxdepth=13 : y = 4.72e+07 : 672.8 secs : infill_ei\n",
            "\n",
            "Saved the current state after iteration 21 in the file bayesian.RDATA.\n",
            "\n",
            "Fri Oct 24 07:30:07 PM 2025\n",
            "\n",
            "[mbo] 21: cp=-1; minsplit=5653; minbucket=102; maxdepth=15 : y = 4.71e+07 : 762.6 secs : infill_ei\n",
            "\n",
            "Saved the current state after iteration 22 in the file bayesian.RDATA.\n",
            "\n",
            "Fri Oct 24 07:42:54 PM 2025\n",
            "\n",
            "[mbo] 22: cp=-1; minsplit=1634; minbucket=14; maxdepth=8 : y = 4.93e+07 : 528.6 secs : infill_ei\n",
            "\n",
            "Fri Oct 24 07:51:45 PM 2025\n",
            "\n",
            "[mbo] 23: cp=-0.758; minsplit=1301; minbucket=649; maxdepth=13 : y = 5.09e+07 : 713.1 secs : infill_ei\n",
            "\n",
            "Saved the current state after iteration 24 in the file bayesian.RDATA.\n",
            "\n",
            "Fri Oct 24 08:03:41 PM 2025\n",
            "\n",
            "[mbo] 24: cp=-0.281; minsplit=8000; minbucket=1382; maxdepth=18 : y = 4.73e+07 : 643.1 secs : infill_ei\n",
            "\n",
            "Saved the current state after iteration 25 in the file bayesian.RDATA.\n",
            "\n",
            "Fri Oct 24 08:14:27 PM 2025\n",
            "\n",
            "[mbo] 25: cp=-1; minsplit=7999; minbucket=3991; maxdepth=20 : y = 4.74e+07 : 546.6 secs : infill_ei\n",
            "\n",
            "Fri Oct 24 08:23:36 PM 2025\n",
            "\n",
            "[mbo] 26: cp=-1; minsplit=13; minbucket=2; maxdepth=14 : y = 3.67e+07 : 882.6 secs : infill_ei\n",
            "\n",
            "Saved the current state after iteration 27 in the file bayesian.RDATA.\n",
            "\n",
            "Fri Oct 24 08:38:22 PM 2025\n",
            "\n",
            "[mbo] 27: cp=-0.386; minsplit=1639; minbucket=819; maxdepth=12 : y = 4.9e+07 : 689.1 secs : infill_ei\n",
            "\n",
            "Saved the current state after iteration 28 in the file bayesian.RDATA.\n",
            "\n",
            "Fri Oct 24 08:49:53 PM 2025\n",
            "\n",
            "[mbo] 28: cp=0.0998; minsplit=6211; minbucket=1220; maxdepth=14 : y = 0 : 160.0 secs : infill_ei\n",
            "\n",
            "Fri Oct 24 08:52:36 PM 2025\n",
            "\n",
            "[mbo] 29: cp=-0.742; minsplit=4; minbucket=2; maxdepth=3 : y = 3.62e+07 : 282.7 secs : infill_ei\n",
            "\n",
            "Fri Oct 24 08:57:21 PM 2025\n",
            "\n",
            "[mbo] 30: cp=-0.671; minsplit=1136; minbucket=568; maxdepth=15 : y = 5.05e+07 : 762.6 secs : infill_ei\n",
            "\n",
            "Saved the current state after iteration 31 in the file bayesian.RDATA.\n",
            "\n",
            "Fri Oct 24 09:10:07 PM 2025\n",
            "\n",
            "[mbo] 31: cp=-0.901; minsplit=8000; minbucket=3992; maxdepth=15 : y = 4.74e+07 : 565.5 secs : infill_ei\n",
            "\n",
            "Fri Oct 24 09:19:35 PM 2025\n",
            "\n",
            "[mbo] 32: cp=-0.128; minsplit=2448; minbucket=1224; maxdepth=13 : y = 4.81e+07 : 678.9 secs : infill_ei\n",
            "\n",
            "Saved the current state after iteration 33 in the file bayesian.RDATA.\n",
            "\n",
            "Fri Oct 24 09:30:56 PM 2025\n",
            "\n",
            "[mbo] 33: cp=-1; minsplit=504; minbucket=1; maxdepth=3 : y = 3.62e+07 : 274.0 secs : infill_ei\n",
            "\n",
            "Warning message in generateDesign(control$infill.opt.focussearch.points, ps.local, :\n",
            "“generateDesign could only produce 999 points instead of 1000!”\n",
            "Fri Oct 24 09:35:34 PM 2025\n",
            "\n",
            "[mbo] 34: cp=-0.887; minsplit=987; minbucket=493; maxdepth=7 : y = 5.1e+07 : 492.5 secs : infill_ei\n",
            "\n",
            "Saved the current state after iteration 35 in the file bayesian.RDATA.\n",
            "\n",
            "Fri Oct 24 09:43:49 PM 2025\n",
            "\n",
            "[mbo] 35: cp=-0.227; minsplit=7999; minbucket=3913; maxdepth=20 : y = 4.74e+07 : 548.4 secs : infill_ei\n",
            "\n",
            "Fri Oct 24 09:52:59 PM 2025\n",
            "\n",
            "[mbo] 36: cp=-0.165; minsplit=1012; minbucket=204; maxdepth=11 : y = 5.02e+07 : 690.1 secs : infill_ei\n",
            "\n",
            "Saved the current state after iteration 37 in the file bayesian.RDATA.\n",
            "\n",
            "Fri Oct 24 10:04:32 PM 2025\n",
            "\n",
            "[mbo] 37: cp=-1; minsplit=8000; minbucket=1894; maxdepth=16 : y = 4.68e+07 : 590.7 secs : infill_ei\n",
            "\n",
            "Fri Oct 24 10:14:26 PM 2025\n",
            "\n",
            "[mbo] 38: cp=-0.659; minsplit=1488; minbucket=729; maxdepth=13 : y = 4.93e+07 : 709.3 secs : infill_ei\n",
            "\n",
            "Saved the current state after iteration 39 in the file bayesian.RDATA.\n",
            "\n",
            "Fri Oct 24 10:26:18 PM 2025\n",
            "\n",
            "[mbo] 39: cp=-0.765; minsplit=8000; minbucket=534; maxdepth=15 : y = 4.73e+07 : 656.7 secs : infill_ei\n",
            "\n",
            "Saved the current state after iteration 40 in the file bayesian.RDATA.\n",
            "\n",
            "Fri Oct 24 10:37:18 PM 2025\n",
            "\n",
            "[mbo] 40: cp=-0.726; minsplit=1488; minbucket=383; maxdepth=14 : y = 4.99e+07 : 768.4 secs : infill_ei\n",
            "\n",
            "Saved the final state in the file bayesian.RDATA\n",
            "\n",
            "Saved the final state in the file bayesian.RDATA\n",
            "\n"
          ]
        }
      ]
    },
    {
      "cell_type": "code",
      "source": [
        "# almaceno los resultados de la Bayesian Optimization\n",
        "# y capturo los mejores hiperparametros encontrados\n",
        "\n",
        "tb_bayesiana <- as.data.table(bayesiana_salida$opt.path)\n",
        "\n",
        "# ordeno en forma descendente por AUC = y\n",
        "setorder(tb_bayesiana, -y)\n",
        "\n",
        "# grabo para eventualmente poder utilizarlos en OTRA corrida\n",
        "fwrite( tb_bayesiana,\n",
        "  file= \"BO_log.txt\",\n",
        "  sep= \"\\t\"\n",
        ")\n",
        "\n",
        "# los mejores hiperparámetros son los que quedaron en el registro 1 de la tabla\n",
        "PARAM$out$lgbm$mejores_hiperparametros <- tb_bayesiana[\n",
        "  1, # el primero es el de mejor AUC\n",
        "  list(cp, minsplit, minbucket, maxdepth)\n",
        "]\n",
        "\n",
        "print(PARAM$out$lgbm$mejores_hiperparametros)"
      ],
      "metadata": {
        "id": "3Yknt3FgoPM4",
        "outputId": "8fc05f3c-e939-4ee0-8317-782b4bf529dc",
        "colab": {
          "base_uri": "https://localhost:8080/"
        }
      },
      "execution_count": 23,
      "outputs": [
        {
          "output_type": "stream",
          "name": "stdout",
          "text": [
            "           cp minsplit minbucket maxdepth\n",
            "        <num>    <int>     <int>    <int>\n",
            "1: -0.8870134      987       493        7\n"
          ]
        }
      ]
    },
    {
      "cell_type": "code",
      "source": [
        "format(Sys.time(), \"%a %b %d %X %Y\")"
      ],
      "metadata": {
        "id": "0-iLm04FMWPR",
        "outputId": "362da651-510b-443c-b033-9c577941fdf7",
        "colab": {
          "base_uri": "https://localhost:8080/",
          "height": 34
        }
      },
      "execution_count": 24,
      "outputs": [
        {
          "output_type": "display_data",
          "data": {
            "text/html": [
              "'Fri Oct 24 10:50:07 PM 2025'"
            ],
            "text/markdown": "'Fri Oct 24 10:50:07 PM 2025'",
            "text/latex": "'Fri Oct 24 10:50:07 PM 2025'",
            "text/plain": [
              "[1] \"Fri Oct 24 10:50:07 PM 2025\""
            ]
          },
          "metadata": {}
        }
      ]
    },
    {
      "cell_type": "markdown",
      "metadata": {
        "id": "1nUDGTieOym3"
      },
      "source": [
        "\n",
        "\n",
        "---\n",
        "\n"
      ]
    }
  ]
}